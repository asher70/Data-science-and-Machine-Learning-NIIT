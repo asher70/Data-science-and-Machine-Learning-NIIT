{
 "cells": [
  {
   "cell_type": "code",
   "execution_count": 1,
   "id": "754c5d75-f113-470b-ba3e-3e4ac1f0bfef",
   "metadata": {},
   "outputs": [],
   "source": [
    "import pandas as pd\n",
    "Sales_Data=pd.read_csv('Downloads/DS1_C6_S6_Sales_Data.csv')\n",
    "sd=Sales_Data"
   ]
  },
  {
   "cell_type": "code",
   "execution_count": 2,
   "id": "a47f49be-22e7-4f28-a390-9a7de344a92a",
   "metadata": {},
   "outputs": [
    {
     "name": "stdout",
     "output_type": "stream",
     "text": [
      "<class 'pandas.core.frame.DataFrame'>\n",
      "RangeIndex: 2823 entries, 0 to 2822\n",
      "Data columns (total 25 columns):\n",
      " #   Column            Non-Null Count  Dtype  \n",
      "---  ------            --------------  -----  \n",
      " 0   ORDERNUMBER       2823 non-null   int64  \n",
      " 1   QUANTITYORDERED   2823 non-null   int64  \n",
      " 2   PRICEEACH         2823 non-null   float64\n",
      " 3   ORDERLINENUMBER   2823 non-null   int64  \n",
      " 4   SALES             2823 non-null   float64\n",
      " 5   ORDERDATE         2823 non-null   object \n",
      " 6   STATUS            2823 non-null   object \n",
      " 7   QTR_ID            2823 non-null   int64  \n",
      " 8   MONTH_ID          2823 non-null   int64  \n",
      " 9   YEAR_ID           2823 non-null   int64  \n",
      " 10  PRODUCTLINE       2823 non-null   object \n",
      " 11  MSRP              2823 non-null   int64  \n",
      " 12  PRODUCTCODE       2823 non-null   object \n",
      " 13  CUSTOMERNAME      2823 non-null   object \n",
      " 14  PHONE             2823 non-null   object \n",
      " 15  ADDRESSLINE1      2823 non-null   object \n",
      " 16  ADDRESSLINE2      302 non-null    object \n",
      " 17  CITY              2823 non-null   object \n",
      " 18  STATE             1337 non-null   object \n",
      " 19  POSTALCODE        2823 non-null   object \n",
      " 20  COUNTRY           2823 non-null   object \n",
      " 21  TERRITORY         1749 non-null   object \n",
      " 22  CONTACTLASTNAME   2823 non-null   object \n",
      " 23  CONTACTFIRSTNAME  2823 non-null   object \n",
      " 24  DEALSIZE          2823 non-null   object \n",
      "dtypes: float64(2), int64(7), object(16)\n",
      "memory usage: 551.5+ KB\n"
     ]
    }
   ],
   "source": [
    "sd.info()#ADDRESSLINE2,STATE,TERRITORY"
   ]
  },
  {
   "cell_type": "markdown",
   "id": "7bb3f0b5-0327-42d5-a204-a458b91ffed8",
   "metadata": {},
   "source": [
    "# replacing missing values of ADDRESSLINE2"
   ]
  },
  {
   "cell_type": "code",
   "execution_count": 6,
   "id": "d27982d9-0296-4425-ac9c-226bced8f9dc",
   "metadata": {},
   "outputs": [
    {
     "data": {
      "text/plain": [
       "array([nan, 'Level 3', 'Suite 101', 'Level 6', 'Suite 750', 'Level 15',\n",
       "       '2nd Floor', 'Suite 400', 'Floor No. 4', 'Suite 200'], dtype=object)"
      ]
     },
     "execution_count": 6,
     "metadata": {},
     "output_type": "execute_result"
    }
   ],
   "source": [
    "sd['ADDRESSLINE2'].unique()"
   ]
  },
  {
   "cell_type": "code",
   "execution_count": 8,
   "id": "c2acd2d2-6e87-433c-bc83-cfeebc825f64",
   "metadata": {},
   "outputs": [
    {
     "data": {
      "text/plain": [
       "0    Level 3\n",
       "Name: ADDRESSLINE2, dtype: object"
      ]
     },
     "execution_count": 8,
     "metadata": {},
     "output_type": "execute_result"
    }
   ],
   "source": [
    "sd['ADDRESSLINE2'].mode()#Level 3"
   ]
  },
  {
   "cell_type": "code",
   "execution_count": 10,
   "id": "513e085b-bb80-4851-9e8f-1b4f82be1218",
   "metadata": {},
   "outputs": [
    {
     "data": {
      "text/plain": [
       "2521"
      ]
     },
     "execution_count": 10,
     "metadata": {},
     "output_type": "execute_result"
    }
   ],
   "source": [
    "sd['ADDRESSLINE2'].isnull().sum()"
   ]
  },
  {
   "cell_type": "code",
   "execution_count": 12,
   "id": "1617ad90-c579-452d-8fa8-4d7a4481f295",
   "metadata": {},
   "outputs": [
    {
     "name": "stderr",
     "output_type": "stream",
     "text": [
      "C:\\Users\\asher\\AppData\\Local\\Temp\\ipykernel_6176\\1013739892.py:1: FutureWarning: A value is trying to be set on a copy of a DataFrame or Series through chained assignment using an inplace method.\n",
      "The behavior will change in pandas 3.0. This inplace method will never work because the intermediate object on which we are setting values always behaves as a copy.\n",
      "\n",
      "For example, when doing 'df[col].method(value, inplace=True)', try using 'df.method({col: value}, inplace=True)' or df[col] = df[col].method(value) instead, to perform the operation inplace on the original object.\n",
      "\n",
      "\n",
      "  sd['ADDRESSLINE2'].fillna('Level 3',inplace=True)\n"
     ]
    }
   ],
   "source": [
    "sd['ADDRESSLINE2'].fillna('Level 3',inplace=True)"
   ]
  },
  {
   "cell_type": "code",
   "execution_count": 14,
   "id": "15b285e0-7184-401b-a113-422b5698863d",
   "metadata": {},
   "outputs": [
    {
     "data": {
      "text/plain": [
       "0"
      ]
     },
     "execution_count": 14,
     "metadata": {},
     "output_type": "execute_result"
    }
   ],
   "source": [
    "sd['ADDRESSLINE2'].isnull().sum()"
   ]
  },
  {
   "cell_type": "markdown",
   "id": "0b5accdf-69f4-42b8-8bd5-2965f5b08015",
   "metadata": {},
   "source": [
    "# STATE"
   ]
  },
  {
   "cell_type": "code",
   "execution_count": 17,
   "id": "5ed02db6-63b5-46f3-a10f-305049ed01b8",
   "metadata": {},
   "outputs": [
    {
     "data": {
      "text/plain": [
       "array(['NY', nan, 'CA', 'Victoria', 'NJ', 'CT', 'MA', 'PA', 'NSW',\n",
       "       'Queensland', 'BC', 'Tokyo', 'NH', 'Quebec', 'Osaka',\n",
       "       'Isle of Wight', 'NV'], dtype=object)"
      ]
     },
     "execution_count": 17,
     "metadata": {},
     "output_type": "execute_result"
    }
   ],
   "source": [
    "sd['STATE'].unique()"
   ]
  },
  {
   "cell_type": "code",
   "execution_count": 19,
   "id": "3d05c1f1-9c1c-4251-b160-2dc274fae15b",
   "metadata": {},
   "outputs": [
    {
     "data": {
      "text/plain": [
       "0    CA\n",
       "Name: STATE, dtype: object"
      ]
     },
     "execution_count": 19,
     "metadata": {},
     "output_type": "execute_result"
    }
   ],
   "source": [
    "sd['STATE'].mode()"
   ]
  },
  {
   "cell_type": "code",
   "execution_count": 21,
   "id": "7e131698-1bdd-4f08-8f24-d41181739336",
   "metadata": {},
   "outputs": [
    {
     "data": {
      "text/plain": [
       "1486"
      ]
     },
     "execution_count": 21,
     "metadata": {},
     "output_type": "execute_result"
    }
   ],
   "source": [
    "sd['STATE'].isnull().sum()"
   ]
  },
  {
   "cell_type": "code",
   "execution_count": 23,
   "id": "8ef680d2-006a-4ba0-a1d2-b72333d211af",
   "metadata": {},
   "outputs": [
    {
     "name": "stderr",
     "output_type": "stream",
     "text": [
      "C:\\Users\\asher\\AppData\\Local\\Temp\\ipykernel_6176\\3710619375.py:1: FutureWarning: A value is trying to be set on a copy of a DataFrame or Series through chained assignment using an inplace method.\n",
      "The behavior will change in pandas 3.0. This inplace method will never work because the intermediate object on which we are setting values always behaves as a copy.\n",
      "\n",
      "For example, when doing 'df[col].method(value, inplace=True)', try using 'df.method({col: value}, inplace=True)' or df[col] = df[col].method(value) instead, to perform the operation inplace on the original object.\n",
      "\n",
      "\n",
      "  sd['STATE'].fillna('CA',inplace=True)\n"
     ]
    }
   ],
   "source": [
    "sd['STATE'].fillna('CA',inplace=True)"
   ]
  },
  {
   "cell_type": "code",
   "execution_count": 25,
   "id": "5e19cbc1-19c6-4703-b76d-bb2710c9513b",
   "metadata": {},
   "outputs": [
    {
     "data": {
      "text/plain": [
       "0"
      ]
     },
     "execution_count": 25,
     "metadata": {},
     "output_type": "execute_result"
    }
   ],
   "source": [
    "sd['STATE'].isnull().sum()"
   ]
  },
  {
   "cell_type": "markdown",
   "id": "9a225f28-058a-4b41-8683-bb0b8d2450b1",
   "metadata": {},
   "source": [
    "# TERRITORY"
   ]
  },
  {
   "cell_type": "code",
   "execution_count": 28,
   "id": "ad786d81-b1e4-4f65-8fd4-d74827e0ae6c",
   "metadata": {},
   "outputs": [
    {
     "data": {
      "text/plain": [
       "array([nan, 'EMEA', 'APAC', 'Japan'], dtype=object)"
      ]
     },
     "execution_count": 28,
     "metadata": {},
     "output_type": "execute_result"
    }
   ],
   "source": [
    "sd['TERRITORY'].unique()"
   ]
  },
  {
   "cell_type": "code",
   "execution_count": 30,
   "id": "43a500a6-b6ef-4a73-bf5b-159961cdac2e",
   "metadata": {},
   "outputs": [
    {
     "data": {
      "text/plain": [
       "0    EMEA\n",
       "Name: TERRITORY, dtype: object"
      ]
     },
     "execution_count": 30,
     "metadata": {},
     "output_type": "execute_result"
    }
   ],
   "source": [
    "sd['TERRITORY'].mode()"
   ]
  },
  {
   "cell_type": "code",
   "execution_count": 32,
   "id": "46e4085e-3461-4ad3-b0f0-96e103ad892a",
   "metadata": {},
   "outputs": [
    {
     "data": {
      "text/plain": [
       "1074"
      ]
     },
     "execution_count": 32,
     "metadata": {},
     "output_type": "execute_result"
    }
   ],
   "source": [
    "sd['TERRITORY'].isnull().sum()"
   ]
  },
  {
   "cell_type": "code",
   "execution_count": 34,
   "id": "2f63798e-f118-4d4a-a73f-1e7dcde11add",
   "metadata": {},
   "outputs": [
    {
     "name": "stderr",
     "output_type": "stream",
     "text": [
      "C:\\Users\\asher\\AppData\\Local\\Temp\\ipykernel_6176\\2284625324.py:1: FutureWarning: A value is trying to be set on a copy of a DataFrame or Series through chained assignment using an inplace method.\n",
      "The behavior will change in pandas 3.0. This inplace method will never work because the intermediate object on which we are setting values always behaves as a copy.\n",
      "\n",
      "For example, when doing 'df[col].method(value, inplace=True)', try using 'df.method({col: value}, inplace=True)' or df[col] = df[col].method(value) instead, to perform the operation inplace on the original object.\n",
      "\n",
      "\n",
      "  sd['TERRITORY'].fillna('EMEA',inplace=True)\n"
     ]
    }
   ],
   "source": [
    "sd['TERRITORY'].fillna('EMEA',inplace=True)"
   ]
  },
  {
   "cell_type": "code",
   "execution_count": 36,
   "id": "8cf29857-226c-4090-90ba-4e4de7b8bfe7",
   "metadata": {},
   "outputs": [
    {
     "data": {
      "text/plain": [
       "0"
      ]
     },
     "execution_count": 36,
     "metadata": {},
     "output_type": "execute_result"
    }
   ],
   "source": [
    "sd['TERRITORY'].isnull().sum()"
   ]
  },
  {
   "cell_type": "code",
   "execution_count": null,
   "id": "00ba4ae7-0b02-4a60-82a0-9ce78355b9c1",
   "metadata": {},
   "outputs": [],
   "source": [
    "# replaced all missing value"
   ]
  },
  {
   "cell_type": "code",
   "execution_count": 38,
   "id": "27f15614-7c8e-4da8-94eb-0b0a088f6081",
   "metadata": {},
   "outputs": [
    {
     "name": "stdout",
     "output_type": "stream",
     "text": [
      "<class 'pandas.core.frame.DataFrame'>\n",
      "RangeIndex: 2823 entries, 0 to 2822\n",
      "Data columns (total 25 columns):\n",
      " #   Column            Non-Null Count  Dtype  \n",
      "---  ------            --------------  -----  \n",
      " 0   ORDERNUMBER       2823 non-null   int64  \n",
      " 1   QUANTITYORDERED   2823 non-null   int64  \n",
      " 2   PRICEEACH         2823 non-null   float64\n",
      " 3   ORDERLINENUMBER   2823 non-null   int64  \n",
      " 4   SALES             2823 non-null   float64\n",
      " 5   ORDERDATE         2823 non-null   object \n",
      " 6   STATUS            2823 non-null   object \n",
      " 7   QTR_ID            2823 non-null   int64  \n",
      " 8   MONTH_ID          2823 non-null   int64  \n",
      " 9   YEAR_ID           2823 non-null   int64  \n",
      " 10  PRODUCTLINE       2823 non-null   object \n",
      " 11  MSRP              2823 non-null   int64  \n",
      " 12  PRODUCTCODE       2823 non-null   object \n",
      " 13  CUSTOMERNAME      2823 non-null   object \n",
      " 14  PHONE             2823 non-null   object \n",
      " 15  ADDRESSLINE1      2823 non-null   object \n",
      " 16  ADDRESSLINE2      2823 non-null   object \n",
      " 17  CITY              2823 non-null   object \n",
      " 18  STATE             2823 non-null   object \n",
      " 19  POSTALCODE        2823 non-null   object \n",
      " 20  COUNTRY           2823 non-null   object \n",
      " 21  TERRITORY         2823 non-null   object \n",
      " 22  CONTACTLASTNAME   2823 non-null   object \n",
      " 23  CONTACTFIRSTNAME  2823 non-null   object \n",
      " 24  DEALSIZE          2823 non-null   object \n",
      "dtypes: float64(2), int64(7), object(16)\n",
      "memory usage: 551.5+ KB\n"
     ]
    }
   ],
   "source": [
    "sd.info()"
   ]
  },
  {
   "cell_type": "code",
   "execution_count": 54,
   "id": "09ae8272-020b-460e-bc8c-cfe8685a7279",
   "metadata": {},
   "outputs": [],
   "source": [
    "sd.to_excel('DS1_C6_S6_Sales_Data_after_preprocessing.xlsx', index=False)\n"
   ]
  }
 ],
 "metadata": {
  "kernelspec": {
   "display_name": "Python [conda env:base] *",
   "language": "python",
   "name": "conda-base-py"
  },
  "language_info": {
   "codemirror_mode": {
    "name": "ipython",
    "version": 3
   },
   "file_extension": ".py",
   "mimetype": "text/x-python",
   "name": "python",
   "nbconvert_exporter": "python",
   "pygments_lexer": "ipython3",
   "version": "3.12.7"
  }
 },
 "nbformat": 4,
 "nbformat_minor": 5
}
