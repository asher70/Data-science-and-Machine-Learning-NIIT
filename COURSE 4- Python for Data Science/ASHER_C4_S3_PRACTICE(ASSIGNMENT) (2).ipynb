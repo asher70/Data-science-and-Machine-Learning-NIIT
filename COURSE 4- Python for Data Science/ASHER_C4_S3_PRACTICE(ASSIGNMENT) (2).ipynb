{
 "cells": [
  {
   "attachments": {
    "00b54035-2c8c-415d-9a04-2e157b93a05a.png": {
     "image/png": "[encoded data removed]"
    }
   },
   "cell_type": "markdown",
   "id": "3e6bb3b7-bb84-4aa7-975e-9bfc96b1cb0a",
   "metadata": {},
   "source": [
    "![Screenshot (628).png](attachment:00b54035-2c8c-415d-9a04-2e157b93a05a.png)"
   ]
  },
  {
   "cell_type": "code",
   "execution_count": 4,
   "id": "f90cf329-a5c4-49b2-8139-2be2cc7ce899",
   "metadata": {},
   "outputs": [],
   "source": [
    "import numpy as np\n",
    "import pandas as pd "
   ]
  },
  {
   "cell_type": "code",
   "execution_count": 6,
   "id": "34018074-a652-466b-bf71-e4c993ddbf55",
   "metadata": {},
   "outputs": [
    {
     "data": {
      "text/html": [
       "<div>\n",
       "<style scoped>\n",
       "    .dataframe tbody tr th:only-of-type {\n",
       "        vertical-align: middle;\n",
       "    }\n",
       "\n",
       "    .dataframe tbody tr th {\n",
       "        vertical-align: top;\n",
       "    }\n",
       "\n",
       "    .dataframe thead th {\n",
       "        text-align: right;\n",
       "    }\n",
       "</style>\n",
       "<table border=\"1\" class=\"dataframe\">\n",
       "  <thead>\n",
       "    <tr style=\"text-align: right;\">\n",
       "      <th></th>\n",
       "      <th>Month</th>\n",
       "      <th>Store</th>\n",
       "      <th>Sales</th>\n",
       "      <th>State</th>\n",
       "    </tr>\n",
       "  </thead>\n",
       "  <tbody>\n",
       "    <tr>\n",
       "      <th>0</th>\n",
       "      <td>Jan</td>\n",
       "      <td>A</td>\n",
       "      <td>21080</td>\n",
       "      <td>Alaska</td>\n",
       "    </tr>\n",
       "    <tr>\n",
       "      <th>1</th>\n",
       "      <td>Jan</td>\n",
       "      <td>B</td>\n",
       "      <td>32985</td>\n",
       "      <td>Texas</td>\n",
       "    </tr>\n",
       "    <tr>\n",
       "      <th>2</th>\n",
       "      <td>Jan</td>\n",
       "      <td>C</td>\n",
       "      <td>22369</td>\n",
       "      <td>California</td>\n",
       "    </tr>\n",
       "    <tr>\n",
       "      <th>3</th>\n",
       "      <td>Jan</td>\n",
       "      <td>D</td>\n",
       "      <td>45710</td>\n",
       "      <td>Montana</td>\n",
       "    </tr>\n",
       "    <tr>\n",
       "      <th>4</th>\n",
       "      <td>Jan</td>\n",
       "      <td>E</td>\n",
       "      <td>27113</td>\n",
       "      <td>New Mexico</td>\n",
       "    </tr>\n",
       "    <tr>\n",
       "      <th>5</th>\n",
       "      <td>Feb</td>\n",
       "      <td>A</td>\n",
       "      <td>27573</td>\n",
       "      <td>Alaska</td>\n",
       "    </tr>\n",
       "    <tr>\n",
       "      <th>6</th>\n",
       "      <td>Feb</td>\n",
       "      <td>B</td>\n",
       "      <td>31244</td>\n",
       "      <td>Texas</td>\n",
       "    </tr>\n",
       "    <tr>\n",
       "      <th>7</th>\n",
       "      <td>Feb</td>\n",
       "      <td>C</td>\n",
       "      <td>48624</td>\n",
       "      <td>California</td>\n",
       "    </tr>\n",
       "    <tr>\n",
       "      <th>8</th>\n",
       "      <td>Feb</td>\n",
       "      <td>D</td>\n",
       "      <td>31768</td>\n",
       "      <td>Montana</td>\n",
       "    </tr>\n",
       "    <tr>\n",
       "      <th>9</th>\n",
       "      <td>Feb</td>\n",
       "      <td>E</td>\n",
       "      <td>23851</td>\n",
       "      <td>New Mexico</td>\n",
       "    </tr>\n",
       "    <tr>\n",
       "      <th>10</th>\n",
       "      <td>Mar</td>\n",
       "      <td>A</td>\n",
       "      <td>33274</td>\n",
       "      <td>Alaska</td>\n",
       "    </tr>\n",
       "    <tr>\n",
       "      <th>11</th>\n",
       "      <td>Mar</td>\n",
       "      <td>B</td>\n",
       "      <td>27215</td>\n",
       "      <td>Texas</td>\n",
       "    </tr>\n",
       "    <tr>\n",
       "      <th>12</th>\n",
       "      <td>Mar</td>\n",
       "      <td>C</td>\n",
       "      <td>23475</td>\n",
       "      <td>California</td>\n",
       "    </tr>\n",
       "    <tr>\n",
       "      <th>13</th>\n",
       "      <td>Mar</td>\n",
       "      <td>D</td>\n",
       "      <td>21357</td>\n",
       "      <td>Montana</td>\n",
       "    </tr>\n",
       "    <tr>\n",
       "      <th>14</th>\n",
       "      <td>Mar</td>\n",
       "      <td>E</td>\n",
       "      <td>22130</td>\n",
       "      <td>New Mexico</td>\n",
       "    </tr>\n",
       "    <tr>\n",
       "      <th>15</th>\n",
       "      <td>Apr</td>\n",
       "      <td>A</td>\n",
       "      <td>26073</td>\n",
       "      <td>Alaska</td>\n",
       "    </tr>\n",
       "    <tr>\n",
       "      <th>16</th>\n",
       "      <td>Apr</td>\n",
       "      <td>B</td>\n",
       "      <td>45919</td>\n",
       "      <td>Texas</td>\n",
       "    </tr>\n",
       "    <tr>\n",
       "      <th>17</th>\n",
       "      <td>Apr</td>\n",
       "      <td>C</td>\n",
       "      <td>30279</td>\n",
       "      <td>California</td>\n",
       "    </tr>\n",
       "    <tr>\n",
       "      <th>18</th>\n",
       "      <td>Apr</td>\n",
       "      <td>D</td>\n",
       "      <td>21394</td>\n",
       "      <td>Montana</td>\n",
       "    </tr>\n",
       "    <tr>\n",
       "      <th>19</th>\n",
       "      <td>Apr</td>\n",
       "      <td>E</td>\n",
       "      <td>25184</td>\n",
       "      <td>New Mexico</td>\n",
       "    </tr>\n",
       "    <tr>\n",
       "      <th>20</th>\n",
       "      <td>May</td>\n",
       "      <td>A</td>\n",
       "      <td>37649</td>\n",
       "      <td>Alaska</td>\n",
       "    </tr>\n",
       "    <tr>\n",
       "      <th>21</th>\n",
       "      <td>May</td>\n",
       "      <td>B</td>\n",
       "      <td>44597</td>\n",
       "      <td>Texas</td>\n",
       "    </tr>\n",
       "    <tr>\n",
       "      <th>22</th>\n",
       "      <td>May</td>\n",
       "      <td>C</td>\n",
       "      <td>29697</td>\n",
       "      <td>California</td>\n",
       "    </tr>\n",
       "    <tr>\n",
       "      <th>23</th>\n",
       "      <td>May</td>\n",
       "      <td>D</td>\n",
       "      <td>28943</td>\n",
       "      <td>Montana</td>\n",
       "    </tr>\n",
       "    <tr>\n",
       "      <th>24</th>\n",
       "      <td>May</td>\n",
       "      <td>E</td>\n",
       "      <td>22541</td>\n",
       "      <td>New Mexico</td>\n",
       "    </tr>\n",
       "    <tr>\n",
       "      <th>25</th>\n",
       "      <td>Jun</td>\n",
       "      <td>A</td>\n",
       "      <td>28500</td>\n",
       "      <td>Alaska</td>\n",
       "    </tr>\n",
       "    <tr>\n",
       "      <th>26</th>\n",
       "      <td>Jun</td>\n",
       "      <td>B</td>\n",
       "      <td>32896</td>\n",
       "      <td>Texas</td>\n",
       "    </tr>\n",
       "    <tr>\n",
       "      <th>27</th>\n",
       "      <td>Jun</td>\n",
       "      <td>C</td>\n",
       "      <td>30200</td>\n",
       "      <td>California</td>\n",
       "    </tr>\n",
       "    <tr>\n",
       "      <th>28</th>\n",
       "      <td>Jun</td>\n",
       "      <td>D</td>\n",
       "      <td>37098</td>\n",
       "      <td>Montana</td>\n",
       "    </tr>\n",
       "    <tr>\n",
       "      <th>29</th>\n",
       "      <td>Jun</td>\n",
       "      <td>E</td>\n",
       "      <td>41098</td>\n",
       "      <td>New Mexico</td>\n",
       "    </tr>\n",
       "  </tbody>\n",
       "</table>\n",
       "</div>"
      ],
      "text/plain": [
       "   Month Store  Sales       State\n",
       "0    Jan     A  21080      Alaska\n",
       "1    Jan     B  32985       Texas\n",
       "2    Jan     C  22369  California\n",
       "3    Jan     D  45710     Montana\n",
       "4    Jan     E  27113  New Mexico\n",
       "5    Feb     A  27573      Alaska\n",
       "6    Feb     B  31244       Texas\n",
       "7    Feb     C  48624  California\n",
       "8    Feb     D  31768     Montana\n",
       "9    Feb     E  23851  New Mexico\n",
       "10   Mar     A  33274      Alaska\n",
       "11   Mar     B  27215       Texas\n",
       "12   Mar     C  23475  California\n",
       "13   Mar     D  21357     Montana\n",
       "14   Mar     E  22130  New Mexico\n",
       "15   Apr     A  26073      Alaska\n",
       "16   Apr     B  45919       Texas\n",
       "17   Apr     C  30279  California\n",
       "18   Apr     D  21394     Montana\n",
       "19   Apr     E  25184  New Mexico\n",
       "20   May     A  37649      Alaska\n",
       "21   May     B  44597       Texas\n",
       "22   May     C  29697  California\n",
       "23   May     D  28943     Montana\n",
       "24   May     E  22541  New Mexico\n",
       "25   Jun     A  28500      Alaska\n",
       "26   Jun     B  32896       Texas\n",
       "27   Jun     C  30200  California\n",
       "28   Jun     D  37098     Montana\n",
       "29   Jun     E  41098  New Mexico"
      ]
     },
     "execution_count": 6,
     "metadata": {},
     "output_type": "execute_result"
    }
   ],
   "source": [
    "df=pd.read_csv(\"DS1_C4_S3_SalesData_Practice.csv\")\n",
    "df"
   ]
  },
  {
   "cell_type": "code",
   "execution_count": 8,
   "id": "1e9899cc-baa8-4982-8229-964ee99ec103",
   "metadata": {},
   "outputs": [
    {
     "name": "stdout",
     "output_type": "stream",
     "text": [
      "   Month Store  Sales       State\n",
      "0    Jan     A  21080      Alaska\n",
      "13   Mar     D  21357     Montana\n",
      "18   Apr     D  21394     Montana\n",
      "14   Mar     E  22130  New Mexico\n",
      "2    Jan     C  22369  California\n",
      "24   May     E  22541  New Mexico\n",
      "12   Mar     C  23475  California\n",
      "9    Feb     E  23851  New Mexico\n",
      "19   Apr     E  25184  New Mexico\n",
      "15   Apr     A  26073      Alaska\n",
      "4    Jan     E  27113  New Mexico\n",
      "11   Mar     B  27215       Texas\n",
      "5    Feb     A  27573      Alaska\n",
      "25   Jun     A  28500      Alaska\n",
      "23   May     D  28943     Montana\n",
      "22   May     C  29697  California\n",
      "27   Jun     C  30200  California\n",
      "17   Apr     C  30279  California\n",
      "6    Feb     B  31244       Texas\n",
      "8    Feb     D  31768     Montana\n",
      "26   Jun     B  32896       Texas\n",
      "1    Jan     B  32985       Texas\n",
      "10   Mar     A  33274      Alaska\n",
      "28   Jun     D  37098     Montana\n",
      "20   May     A  37649      Alaska\n",
      "29   Jun     E  41098  New Mexico\n",
      "21   May     B  44597       Texas\n",
      "3    Jan     D  45710     Montana\n",
      "16   Apr     B  45919       Texas\n",
      "7    Feb     C  48624  California\n"
     ]
    }
   ],
   "source": [
    "sort=df.sort_values(['Sales'])\n",
    "print(sort)"
   ]
  },
  {
   "attachments": {
    "77032e2b-7be4-4d6e-9c7b-99e231c10546.png": {
     "image/png": "[encoded data removed]"
    }
   },
   "cell_type": "markdown",
   "id": "8478c2a8-2b1a-4d67-a2c2-1384461497cd",
   "metadata": {},
   "source": [
    "![Screenshot (629).png](attachment:77032e2b-7be4-4d6e-9c7b-99e231c10546.png)"
   ]
  },
  {
   "cell_type": "code",
   "execution_count": 11,
   "id": "16e3fb5e-32b6-449a-a936-367e782da5bb",
   "metadata": {},
   "outputs": [
    {
     "name": "stdout",
     "output_type": "stream",
     "text": [
      "   Month Store  Sales       State\n",
      "3    Jan     D  45710     Montana\n",
      "16   Apr     B  45919       Texas\n",
      "7    Feb     C  48624  California\n"
     ]
    }
   ],
   "source": [
    "sort1=sort.iloc[:,2]>=45000\n",
    "print(sort[sort1])"
   ]
  },
  {
   "attachments": {
    "1d2b1b97-c952-4854-a44d-cc9d741a2d3d.png": {
     "image/png": "[encoded data removed]"
    }
   },
   "cell_type": "markdown",
   "id": "e510a8e9-f3e0-4b5b-932a-c7886e93d95d",
   "metadata": {},
   "source": [
    "![Screenshot (630).png](attachment:1d2b1b97-c952-4854-a44d-cc9d741a2d3d.png)"
   ]
  },
  {
   "cell_type": "code",
   "execution_count": 14,
   "id": "cc5fea77-d3cc-48f7-94d9-d42d604e24fa",
   "metadata": {},
   "outputs": [
    {
     "data": {
      "text/html": [
       "<div>\n",
       "<style scoped>\n",
       "    .dataframe tbody tr th:only-of-type {\n",
       "        vertical-align: middle;\n",
       "    }\n",
       "\n",
       "    .dataframe tbody tr th {\n",
       "        vertical-align: top;\n",
       "    }\n",
       "\n",
       "    .dataframe thead th {\n",
       "        text-align: right;\n",
       "    }\n",
       "</style>\n",
       "<table border=\"1\" class=\"dataframe\">\n",
       "  <thead>\n",
       "    <tr style=\"text-align: right;\">\n",
       "      <th></th>\n",
       "      <th>Month</th>\n",
       "      <th>Store</th>\n",
       "      <th>Sales</th>\n",
       "      <th>State</th>\n",
       "    </tr>\n",
       "  </thead>\n",
       "  <tbody>\n",
       "    <tr>\n",
       "      <th>2</th>\n",
       "      <td>Jan</td>\n",
       "      <td>C</td>\n",
       "      <td>22369</td>\n",
       "      <td>California</td>\n",
       "    </tr>\n",
       "    <tr>\n",
       "      <th>12</th>\n",
       "      <td>Mar</td>\n",
       "      <td>C</td>\n",
       "      <td>23475</td>\n",
       "      <td>California</td>\n",
       "    </tr>\n",
       "    <tr>\n",
       "      <th>22</th>\n",
       "      <td>May</td>\n",
       "      <td>C</td>\n",
       "      <td>29697</td>\n",
       "      <td>California</td>\n",
       "    </tr>\n",
       "    <tr>\n",
       "      <th>27</th>\n",
       "      <td>Jun</td>\n",
       "      <td>C</td>\n",
       "      <td>30200</td>\n",
       "      <td>California</td>\n",
       "    </tr>\n",
       "    <tr>\n",
       "      <th>17</th>\n",
       "      <td>Apr</td>\n",
       "      <td>C</td>\n",
       "      <td>30279</td>\n",
       "      <td>California</td>\n",
       "    </tr>\n",
       "    <tr>\n",
       "      <th>7</th>\n",
       "      <td>Feb</td>\n",
       "      <td>C</td>\n",
       "      <td>48624</td>\n",
       "      <td>California</td>\n",
       "    </tr>\n",
       "  </tbody>\n",
       "</table>\n",
       "</div>"
      ],
      "text/plain": [
       "   Month Store  Sales       State\n",
       "2    Jan     C  22369  California\n",
       "12   Mar     C  23475  California\n",
       "22   May     C  29697  California\n",
       "27   Jun     C  30200  California\n",
       "17   Apr     C  30279  California\n",
       "7    Feb     C  48624  California"
      ]
     },
     "execution_count": 14,
     "metadata": {},
     "output_type": "execute_result"
    }
   ],
   "source": [
    "California=sort[sort.State==\"California\"]\n",
    "California\n"
   ]
  },
  {
   "cell_type": "code",
   "execution_count": 16,
   "id": "b1cce175-4f1e-4536-961b-ce2d2dc932b2",
   "metadata": {},
   "outputs": [],
   "source": [
    "Texas=sort[sort.State==\"Texas\"]\n",
    "Montana=sort[sort.State==\"Montana\"]\n"
   ]
  },
  {
   "cell_type": "code",
   "execution_count": 18,
   "id": "6f320526-705f-4d12-8349-1eaad5c807d4",
   "metadata": {},
   "outputs": [
    {
     "data": {
      "text/html": [
       "<div>\n",
       "<style scoped>\n",
       "    .dataframe tbody tr th:only-of-type {\n",
       "        vertical-align: middle;\n",
       "    }\n",
       "\n",
       "    .dataframe tbody tr th {\n",
       "        vertical-align: top;\n",
       "    }\n",
       "\n",
       "    .dataframe thead th {\n",
       "        text-align: right;\n",
       "    }\n",
       "</style>\n",
       "<table border=\"1\" class=\"dataframe\">\n",
       "  <thead>\n",
       "    <tr style=\"text-align: right;\">\n",
       "      <th></th>\n",
       "      <th>Month</th>\n",
       "      <th>Store</th>\n",
       "      <th>Sales</th>\n",
       "      <th>State</th>\n",
       "    </tr>\n",
       "  </thead>\n",
       "  <tbody>\n",
       "    <tr>\n",
       "      <th>13</th>\n",
       "      <td>Mar</td>\n",
       "      <td>D</td>\n",
       "      <td>21357</td>\n",
       "      <td>Montana</td>\n",
       "    </tr>\n",
       "    <tr>\n",
       "      <th>18</th>\n",
       "      <td>Apr</td>\n",
       "      <td>D</td>\n",
       "      <td>21394</td>\n",
       "      <td>Montana</td>\n",
       "    </tr>\n",
       "    <tr>\n",
       "      <th>23</th>\n",
       "      <td>May</td>\n",
       "      <td>D</td>\n",
       "      <td>28943</td>\n",
       "      <td>Montana</td>\n",
       "    </tr>\n",
       "    <tr>\n",
       "      <th>8</th>\n",
       "      <td>Feb</td>\n",
       "      <td>D</td>\n",
       "      <td>31768</td>\n",
       "      <td>Montana</td>\n",
       "    </tr>\n",
       "    <tr>\n",
       "      <th>28</th>\n",
       "      <td>Jun</td>\n",
       "      <td>D</td>\n",
       "      <td>37098</td>\n",
       "      <td>Montana</td>\n",
       "    </tr>\n",
       "    <tr>\n",
       "      <th>3</th>\n",
       "      <td>Jan</td>\n",
       "      <td>D</td>\n",
       "      <td>45710</td>\n",
       "      <td>Montana</td>\n",
       "    </tr>\n",
       "  </tbody>\n",
       "</table>\n",
       "</div>"
      ],
      "text/plain": [
       "   Month Store  Sales    State\n",
       "13   Mar     D  21357  Montana\n",
       "18   Apr     D  21394  Montana\n",
       "23   May     D  28943  Montana\n",
       "8    Feb     D  31768  Montana\n",
       "28   Jun     D  37098  Montana\n",
       "3    Jan     D  45710  Montana"
      ]
     },
     "execution_count": 18,
     "metadata": {},
     "output_type": "execute_result"
    }
   ],
   "source": [
    "Texas\n",
    "Montana"
   ]
  },
  {
   "attachments": {
    "768c5577-00c7-4f90-aca1-cfa18271301f.png": {
     "image/png": "[encoded data removed]"
    }
   },
   "cell_type": "markdown",
   "id": "70d0124e-dda3-49d9-8f02-3b7a0ca3e4ed",
   "metadata": {},
   "source": [
    "![Screenshot (631).png](attachment:768c5577-00c7-4f90-aca1-cfa18271301f.png)"
   ]
  },
  {
   "cell_type": "code",
   "execution_count": 21,
   "id": "fad98561-430d-4d7c-a838-d3f66029ece3",
   "metadata": {},
   "outputs": [
    {
     "data": {
      "text/html": [
       "<div>\n",
       "<style scoped>\n",
       "    .dataframe tbody tr th:only-of-type {\n",
       "        vertical-align: middle;\n",
       "    }\n",
       "\n",
       "    .dataframe tbody tr th {\n",
       "        vertical-align: top;\n",
       "    }\n",
       "\n",
       "    .dataframe thead th {\n",
       "        text-align: right;\n",
       "    }\n",
       "</style>\n",
       "<table border=\"1\" class=\"dataframe\">\n",
       "  <thead>\n",
       "    <tr style=\"text-align: right;\">\n",
       "      <th></th>\n",
       "      <th>Month</th>\n",
       "      <th>Store</th>\n",
       "      <th>Sales</th>\n",
       "      <th>State</th>\n",
       "    </tr>\n",
       "  </thead>\n",
       "  <tbody>\n",
       "    <tr>\n",
       "      <th>11</th>\n",
       "      <td>Mar</td>\n",
       "      <td>B</td>\n",
       "      <td>27215</td>\n",
       "      <td>Texas</td>\n",
       "    </tr>\n",
       "    <tr>\n",
       "      <th>6</th>\n",
       "      <td>Feb</td>\n",
       "      <td>B</td>\n",
       "      <td>31244</td>\n",
       "      <td>Texas</td>\n",
       "    </tr>\n",
       "    <tr>\n",
       "      <th>26</th>\n",
       "      <td>Jun</td>\n",
       "      <td>B</td>\n",
       "      <td>32896</td>\n",
       "      <td>Texas</td>\n",
       "    </tr>\n",
       "    <tr>\n",
       "      <th>1</th>\n",
       "      <td>Jan</td>\n",
       "      <td>B</td>\n",
       "      <td>32985</td>\n",
       "      <td>Texas</td>\n",
       "    </tr>\n",
       "    <tr>\n",
       "      <th>21</th>\n",
       "      <td>May</td>\n",
       "      <td>B</td>\n",
       "      <td>44597</td>\n",
       "      <td>Texas</td>\n",
       "    </tr>\n",
       "    <tr>\n",
       "      <th>16</th>\n",
       "      <td>Apr</td>\n",
       "      <td>B</td>\n",
       "      <td>45919</td>\n",
       "      <td>Texas</td>\n",
       "    </tr>\n",
       "  </tbody>\n",
       "</table>\n",
       "</div>"
      ],
      "text/plain": [
       "   Month Store  Sales  State\n",
       "11   Mar     B  27215  Texas\n",
       "6    Feb     B  31244  Texas\n",
       "26   Jun     B  32896  Texas\n",
       "1    Jan     B  32985  Texas\n",
       "21   May     B  44597  Texas\n",
       "16   Apr     B  45919  Texas"
      ]
     },
     "execution_count": 21,
     "metadata": {},
     "output_type": "execute_result"
    }
   ],
   "source": [
    "Texas"
   ]
  },
  {
   "cell_type": "code",
   "execution_count": 23,
   "id": "63f392f9-b878-4ce6-835b-2d7965fe79af",
   "metadata": {},
   "outputs": [],
   "source": [
    "cc=California.iloc[:,2].sum()\n"
   ]
  },
  {
   "cell_type": "code",
   "execution_count": 25,
   "id": "73c328c4-067c-4f84-bac3-8208ead6225b",
   "metadata": {},
   "outputs": [],
   "source": [
    "tex=Texas.iloc[:,2].sum()"
   ]
  },
  {
   "cell_type": "code",
   "execution_count": 27,
   "id": "038e14a0-2aa3-4b52-b9aa-d2f22613bce6",
   "metadata": {},
   "outputs": [],
   "source": [
    "Mont=Montana.iloc[:,2].sum()\n"
   ]
  },
  {
   "cell_type": "code",
   "execution_count": 29,
   "id": "98001e29-571f-4256-91c1-8ce1f68b6f8b",
   "metadata": {},
   "outputs": [],
   "source": [
    "#California,Texas,Montana"
   ]
  },
  {
   "cell_type": "code",
   "execution_count": 31,
   "id": "29996ff7-86f9-41f6-af6e-19c5dbbbb4a5",
   "metadata": {},
   "outputs": [
    {
     "name": "stdout",
     "output_type": "stream",
     "text": [
      "Total sales in the state of California : 184644\n",
      "Total sales in the state of Texas : 214856\n",
      "Total sales in the state of Montana : 186270\n"
     ]
    }
   ],
   "source": [
    "print(f'Total sales in the state of California : {cc}')\n",
    "print(f'Total sales in the state of Texas : {tex}')\n",
    "print(f'Total sales in the state of Montana : {Mont}')\n"
   ]
  },
  {
   "attachments": {
    "842c490d-a8ce-4344-b9ce-043c5dc03614.png": {
     "image/png": "[encoded data removed]"
    }
   },
   "cell_type": "markdown",
   "id": "41ce153d-6183-49d6-ade0-945fd089f44e",
   "metadata": {},
   "source": [
    "![Screenshot (632).png](attachment:842c490d-a8ce-4344-b9ce-043c5dc03614.png)"
   ]
  },
  {
   "cell_type": "code",
   "execution_count": 34,
   "id": "0d6da84e-8928-488d-aada-05346d4bf67f",
   "metadata": {},
   "outputs": [
    {
     "data": {
      "text/html": [
       "<div>\n",
       "<style scoped>\n",
       "    .dataframe tbody tr th:only-of-type {\n",
       "        vertical-align: middle;\n",
       "    }\n",
       "\n",
       "    .dataframe tbody tr th {\n",
       "        vertical-align: top;\n",
       "    }\n",
       "\n",
       "    .dataframe thead th {\n",
       "        text-align: right;\n",
       "    }\n",
       "</style>\n",
       "<table border=\"1\" class=\"dataframe\">\n",
       "  <thead>\n",
       "    <tr style=\"text-align: right;\">\n",
       "      <th></th>\n",
       "      <th>Month</th>\n",
       "      <th>Store</th>\n",
       "      <th>Sales</th>\n",
       "      <th>State</th>\n",
       "    </tr>\n",
       "  </thead>\n",
       "  <tbody>\n",
       "    <tr>\n",
       "      <th>2</th>\n",
       "      <td>Jan</td>\n",
       "      <td>C</td>\n",
       "      <td>22369</td>\n",
       "      <td>California</td>\n",
       "    </tr>\n",
       "    <tr>\n",
       "      <th>12</th>\n",
       "      <td>Mar</td>\n",
       "      <td>C</td>\n",
       "      <td>23475</td>\n",
       "      <td>California</td>\n",
       "    </tr>\n",
       "    <tr>\n",
       "      <th>22</th>\n",
       "      <td>May</td>\n",
       "      <td>C</td>\n",
       "      <td>29697</td>\n",
       "      <td>California</td>\n",
       "    </tr>\n",
       "    <tr>\n",
       "      <th>27</th>\n",
       "      <td>Jun</td>\n",
       "      <td>C</td>\n",
       "      <td>30200</td>\n",
       "      <td>California</td>\n",
       "    </tr>\n",
       "    <tr>\n",
       "      <th>17</th>\n",
       "      <td>Apr</td>\n",
       "      <td>C</td>\n",
       "      <td>30279</td>\n",
       "      <td>California</td>\n",
       "    </tr>\n",
       "    <tr>\n",
       "      <th>7</th>\n",
       "      <td>Feb</td>\n",
       "      <td>C</td>\n",
       "      <td>48624</td>\n",
       "      <td>California</td>\n",
       "    </tr>\n",
       "  </tbody>\n",
       "</table>\n",
       "</div>"
      ],
      "text/plain": [
       "   Month Store  Sales       State\n",
       "2    Jan     C  22369  California\n",
       "12   Mar     C  23475  California\n",
       "22   May     C  29697  California\n",
       "27   Jun     C  30200  California\n",
       "17   Apr     C  30279  California\n",
       "7    Feb     C  48624  California"
      ]
     },
     "execution_count": 34,
     "metadata": {},
     "output_type": "execute_result"
    }
   ],
   "source": [
    "California"
   ]
  },
  {
   "cell_type": "code",
   "execution_count": 36,
   "id": "cd6abb1f-e851-4fb4-b09a-db7ad4f98494",
   "metadata": {},
   "outputs": [
    {
     "data": {
      "text/plain": [
       "48624"
      ]
     },
     "execution_count": 36,
     "metadata": {},
     "output_type": "execute_result"
    }
   ],
   "source": [
    "# maximum sales in CALIFORNIA\n",
    "TAP=California.iloc[:,2].max()\n",
    "TAP"
   ]
  },
  {
   "cell_type": "code",
   "execution_count": 38,
   "id": "9d36f339-ef8b-4101-a53e-d3670eb8406f",
   "metadata": {},
   "outputs": [],
   "source": [
    "maxi=California.loc[California['Sales']==TAP,['Month']]"
   ]
  },
  {
   "cell_type": "code",
   "execution_count": 40,
   "id": "1cb1f696-7fdc-447e-af0e-73ed1ddad818",
   "metadata": {},
   "outputs": [
    {
     "data": {
      "text/html": [
       "<div>\n",
       "<style scoped>\n",
       "    .dataframe tbody tr th:only-of-type {\n",
       "        vertical-align: middle;\n",
       "    }\n",
       "\n",
       "    .dataframe tbody tr th {\n",
       "        vertical-align: top;\n",
       "    }\n",
       "\n",
       "    .dataframe thead th {\n",
       "        text-align: right;\n",
       "    }\n",
       "</style>\n",
       "<table border=\"1\" class=\"dataframe\">\n",
       "  <thead>\n",
       "    <tr style=\"text-align: right;\">\n",
       "      <th></th>\n",
       "      <th>Month</th>\n",
       "    </tr>\n",
       "  </thead>\n",
       "  <tbody>\n",
       "    <tr>\n",
       "      <th>7</th>\n",
       "      <td>Feb</td>\n",
       "    </tr>\n",
       "  </tbody>\n",
       "</table>\n",
       "</div>"
      ],
      "text/plain": [
       "  Month\n",
       "7   Feb"
      ]
     },
     "execution_count": 40,
     "metadata": {},
     "output_type": "execute_result"
    }
   ],
   "source": [
    "maxi"
   ]
  },
  {
   "cell_type": "code",
   "execution_count": 42,
   "id": "068b2fe4-75e0-44bc-8660-4da27472afc6",
   "metadata": {},
   "outputs": [],
   "source": [
    "# lowest sales  month in California"
   ]
  },
  {
   "cell_type": "code",
   "execution_count": 44,
   "id": "27e43f63-c83e-4cca-9e01-1065f64cecd3",
   "metadata": {},
   "outputs": [
    {
     "data": {
      "text/plain": [
       "22369"
      ]
     },
     "execution_count": 44,
     "metadata": {},
     "output_type": "execute_result"
    }
   ],
   "source": [
    "PJT=California.iloc[:,2].min()\n",
    "PJT"
   ]
  },
  {
   "cell_type": "code",
   "execution_count": 46,
   "id": "2bff808e-53d4-4ceb-b6be-1279f3fa2aad",
   "metadata": {},
   "outputs": [],
   "source": [
    "mini=California.loc[California['Sales']==PJT,['Month']]"
   ]
  },
  {
   "cell_type": "code",
   "execution_count": 48,
   "id": "f5489a39-c7b6-4f8e-aaeb-8b3bfd0731dd",
   "metadata": {},
   "outputs": [
    {
     "data": {
      "text/html": [
       "<div>\n",
       "<style scoped>\n",
       "    .dataframe tbody tr th:only-of-type {\n",
       "        vertical-align: middle;\n",
       "    }\n",
       "\n",
       "    .dataframe tbody tr th {\n",
       "        vertical-align: top;\n",
       "    }\n",
       "\n",
       "    .dataframe thead th {\n",
       "        text-align: right;\n",
       "    }\n",
       "</style>\n",
       "<table border=\"1\" class=\"dataframe\">\n",
       "  <thead>\n",
       "    <tr style=\"text-align: right;\">\n",
       "      <th></th>\n",
       "      <th>Month</th>\n",
       "    </tr>\n",
       "  </thead>\n",
       "  <tbody>\n",
       "    <tr>\n",
       "      <th>2</th>\n",
       "      <td>Jan</td>\n",
       "    </tr>\n",
       "  </tbody>\n",
       "</table>\n",
       "</div>"
      ],
      "text/plain": [
       "  Month\n",
       "2   Jan"
      ]
     },
     "execution_count": 48,
     "metadata": {},
     "output_type": "execute_result"
    }
   ],
   "source": [
    "mini"
   ]
  },
  {
   "cell_type": "code",
   "execution_count": 50,
   "id": "66e4267c-db5f-4641-a1cc-5148c598b620",
   "metadata": {},
   "outputs": [
    {
     "name": "stdout",
     "output_type": "stream",
     "text": [
      "The highest  sales  month in California  is:  Month\n",
      "7   Feb\n",
      "The sales  month in California  is:  Month\n",
      "2   Jan  \n"
     ]
    }
   ],
   "source": [
    "print(f'The highest  sales  month in California  is:{maxi}' )\n",
    "print(f'The sales  month in California  is:{ mini }  ')"
   ]
  },
  {
   "attachments": {
    "41121bd6-7de7-48ef-a0ed-4bd81411540f.png": {
     "image/png": "[encoded data removed]"
    }
   },
   "cell_type": "markdown",
   "id": "83e28c28-336a-4fb0-8ca1-f4df636a8f8b",
   "metadata": {},
   "source": [
    "![Screenshot (633).png](attachment:41121bd6-7de7-48ef-a0ed-4bd81411540f.png)"
   ]
  },
  {
   "cell_type": "code",
   "execution_count": 53,
   "id": "be977485-9339-4dea-9bc7-eb5234d0362c",
   "metadata": {},
   "outputs": [
    {
     "data": {
      "text/plain": [
       "array(['Alaska', 'Montana', 'New Mexico', 'California', 'Texas'],\n",
       "      dtype=object)"
      ]
     },
     "execution_count": 53,
     "metadata": {},
     "output_type": "execute_result"
    }
   ],
   "source": [
    "sort.State.unique()"
   ]
  },
  {
   "cell_type": "code",
   "execution_count": 55,
   "id": "d6b251a3-a2a7-4809-9d80-4dfda917a530",
   "metadata": {},
   "outputs": [],
   "source": [
    "# 'Alaska', 'Montana', 'NewMexico', 'California', 'Texas'"
   ]
  },
  {
   "cell_type": "code",
   "execution_count": 57,
   "id": "c8ac1c5c-1a26-4e33-859a-cf76cd2c6449",
   "metadata": {},
   "outputs": [],
   "source": [
    "Alaska=sort[sort.State==\"Alaska\"]"
   ]
  },
  {
   "cell_type": "code",
   "execution_count": 59,
   "id": "43685836-9d43-4538-85f2-e562609d859c",
   "metadata": {},
   "outputs": [],
   "source": [
    "Montana=sort[sort.State==\"Montana\"]"
   ]
  },
  {
   "cell_type": "code",
   "execution_count": 61,
   "id": "99cd7970-7568-4e6b-bdc0-32bdb7dca7d8",
   "metadata": {},
   "outputs": [],
   "source": [
    "NewMexico=sort[sort.State==\"New Mexico\"]"
   ]
  },
  {
   "cell_type": "code",
   "execution_count": 63,
   "id": "c3d9c199-4b63-4500-a988-7ae50d2cea28",
   "metadata": {},
   "outputs": [],
   "source": [
    "California=sort[sort.State==\"California\"]"
   ]
  },
  {
   "cell_type": "code",
   "execution_count": 65,
   "id": "8980ebfe-6359-489e-a02b-31abf6c615c4",
   "metadata": {},
   "outputs": [],
   "source": [
    "Texas=sort[sort.State==\"Texas\"]"
   ]
  },
  {
   "cell_type": "code",
   "execution_count": 67,
   "id": "c9305ac9-0423-4d89-b185-d3a07f123cd2",
   "metadata": {},
   "outputs": [],
   "source": [
    "# SUM OF SALES"
   ]
  },
  {
   "cell_type": "code",
   "execution_count": 69,
   "id": "8802b93a-a8f0-4cd1-8d2b-2566e52a314b",
   "metadata": {},
   "outputs": [],
   "source": [
    "ALASKA=Alaska.iloc[:,2].sum()"
   ]
  },
  {
   "cell_type": "code",
   "execution_count": 71,
   "id": "367840e6-b028-4487-a8e1-ffd70eef81e4",
   "metadata": {},
   "outputs": [],
   "source": [
    "MONTANA=Montana.iloc[:,2].sum()"
   ]
  },
  {
   "cell_type": "code",
   "execution_count": 73,
   "id": "6e2e1454-251e-42f0-8335-a7a0312fdef2",
   "metadata": {},
   "outputs": [],
   "source": [
    "NEWMEXICO=NewMexico.iloc[:,2].sum()"
   ]
  },
  {
   "cell_type": "code",
   "execution_count": 75,
   "id": "cbac37e7-2143-40c2-9f0b-9f99c532cccb",
   "metadata": {},
   "outputs": [],
   "source": [
    "CALIFORNIA=California.iloc[:,2].sum()"
   ]
  },
  {
   "cell_type": "code",
   "execution_count": 77,
   "id": "de8ea10e-7494-47ed-97e9-b139bef2c192",
   "metadata": {},
   "outputs": [],
   "source": [
    "TEXAS=Texas.iloc[:,2].sum()"
   ]
  },
  {
   "cell_type": "code",
   "execution_count": 79,
   "id": "b1829a7a-bb7d-41d8-95ee-a9eb1e9df941",
   "metadata": {},
   "outputs": [
    {
     "data": {
      "text/plain": [
       "214856"
      ]
     },
     "execution_count": 79,
     "metadata": {},
     "output_type": "execute_result"
    }
   ],
   "source": [
    "TEXAS"
   ]
  },
  {
   "cell_type": "code",
   "execution_count": 81,
   "id": "607ff864-700c-4c10-83e4-6a1bff09aa52",
   "metadata": {},
   "outputs": [],
   "source": [
    "#ALASKA,MONTANA,NEWMEXICO,CALIFORNIA,TEXAS"
   ]
  },
  {
   "cell_type": "markdown",
   "id": "2f36dece-ebf1-45b5-9ef2-b8aa8d484984",
   "metadata": {},
   "source": [
    "# CREATING A DATAFRAME"
   ]
  },
  {
   "cell_type": "code",
   "execution_count": 84,
   "id": "4de969a6-422a-4ea7-a659-98a58e8c62aa",
   "metadata": {},
   "outputs": [],
   "source": [
    "DC={'State':['Alaska','Texas','California','Montana','New Mexico'],'Sale in thousands':[ALASKA,TEXAS,CALIFORNIA,MONTANA,NEWMEXICO]}"
   ]
  },
  {
   "cell_type": "code",
   "execution_count": 86,
   "id": "0a84de33-c930-437c-83b8-f6027eabcc32",
   "metadata": {},
   "outputs": [],
   "source": [
    "total_sales_states=pd.DataFrame(DC)"
   ]
  },
  {
   "cell_type": "code",
   "execution_count": 88,
   "id": "32a7be65-f39d-4804-8a40-040309e7d959",
   "metadata": {},
   "outputs": [
    {
     "data": {
      "text/html": [
       "<div>\n",
       "<style scoped>\n",
       "    .dataframe tbody tr th:only-of-type {\n",
       "        vertical-align: middle;\n",
       "    }\n",
       "\n",
       "    .dataframe tbody tr th {\n",
       "        vertical-align: top;\n",
       "    }\n",
       "\n",
       "    .dataframe thead th {\n",
       "        text-align: right;\n",
       "    }\n",
       "</style>\n",
       "<table border=\"1\" class=\"dataframe\">\n",
       "  <thead>\n",
       "    <tr style=\"text-align: right;\">\n",
       "      <th></th>\n",
       "      <th>State</th>\n",
       "      <th>Sale in thousands</th>\n",
       "    </tr>\n",
       "  </thead>\n",
       "  <tbody>\n",
       "    <tr>\n",
       "      <th>0</th>\n",
       "      <td>Alaska</td>\n",
       "      <td>174149</td>\n",
       "    </tr>\n",
       "    <tr>\n",
       "      <th>1</th>\n",
       "      <td>Texas</td>\n",
       "      <td>214856</td>\n",
       "    </tr>\n",
       "    <tr>\n",
       "      <th>2</th>\n",
       "      <td>California</td>\n",
       "      <td>184644</td>\n",
       "    </tr>\n",
       "    <tr>\n",
       "      <th>3</th>\n",
       "      <td>Montana</td>\n",
       "      <td>186270</td>\n",
       "    </tr>\n",
       "    <tr>\n",
       "      <th>4</th>\n",
       "      <td>New Mexico</td>\n",
       "      <td>161917</td>\n",
       "    </tr>\n",
       "  </tbody>\n",
       "</table>\n",
       "</div>"
      ],
      "text/plain": [
       "        State  Sale in thousands\n",
       "0      Alaska             174149\n",
       "1       Texas             214856\n",
       "2  California             184644\n",
       "3     Montana             186270\n",
       "4  New Mexico             161917"
      ]
     },
     "execution_count": 88,
     "metadata": {},
     "output_type": "execute_result"
    }
   ],
   "source": [
    "total_sales_states"
   ]
  },
  {
   "attachments": {
    "9fa44ed9-d72c-4720-891d-00b1bda285f9.png": {
     "image/png": "[encoded data removed]"
    }
   },
   "cell_type": "markdown",
   "id": "c5fd121c-3613-4866-8927-3955b01c5700",
   "metadata": {},
   "source": [
    "![Screenshot (634).png](attachment:9fa44ed9-d72c-4720-891d-00b1bda285f9.png)"
   ]
  },
  {
   "cell_type": "code",
   "execution_count": 91,
   "id": "05e99578-1739-47f1-b1cc-8fc58e9968e2",
   "metadata": {},
   "outputs": [],
   "source": [
    "total_sales_states=total_sales_states.sort_values(['Sale in thousands'])"
   ]
  },
  {
   "cell_type": "code",
   "execution_count": 93,
   "id": "d0b97107-86f0-4b3d-a963-146a457c994d",
   "metadata": {},
   "outputs": [
    {
     "data": {
      "text/html": [
       "<div>\n",
       "<style scoped>\n",
       "    .dataframe tbody tr th:only-of-type {\n",
       "        vertical-align: middle;\n",
       "    }\n",
       "\n",
       "    .dataframe tbody tr th {\n",
       "        vertical-align: top;\n",
       "    }\n",
       "\n",
       "    .dataframe thead th {\n",
       "        text-align: right;\n",
       "    }\n",
       "</style>\n",
       "<table border=\"1\" class=\"dataframe\">\n",
       "  <thead>\n",
       "    <tr style=\"text-align: right;\">\n",
       "      <th></th>\n",
       "      <th>State</th>\n",
       "      <th>Sale in thousands</th>\n",
       "    </tr>\n",
       "  </thead>\n",
       "  <tbody>\n",
       "    <tr>\n",
       "      <th>4</th>\n",
       "      <td>New Mexico</td>\n",
       "      <td>161917</td>\n",
       "    </tr>\n",
       "    <tr>\n",
       "      <th>0</th>\n",
       "      <td>Alaska</td>\n",
       "      <td>174149</td>\n",
       "    </tr>\n",
       "    <tr>\n",
       "      <th>2</th>\n",
       "      <td>California</td>\n",
       "      <td>184644</td>\n",
       "    </tr>\n",
       "    <tr>\n",
       "      <th>3</th>\n",
       "      <td>Montana</td>\n",
       "      <td>186270</td>\n",
       "    </tr>\n",
       "    <tr>\n",
       "      <th>1</th>\n",
       "      <td>Texas</td>\n",
       "      <td>214856</td>\n",
       "    </tr>\n",
       "  </tbody>\n",
       "</table>\n",
       "</div>"
      ],
      "text/plain": [
       "        State  Sale in thousands\n",
       "4  New Mexico             161917\n",
       "0      Alaska             174149\n",
       "2  California             184644\n",
       "3     Montana             186270\n",
       "1       Texas             214856"
      ]
     },
     "execution_count": 93,
     "metadata": {},
     "output_type": "execute_result"
    }
   ],
   "source": [
    "total_sales_states"
   ]
  },
  {
   "cell_type": "code",
   "execution_count": 95,
   "id": "d24b9d70-47ad-47e1-a1f7-d94c8ca06d97",
   "metadata": {},
   "outputs": [],
   "source": [
    "total_sales_states.to_csv(\"total_sales.csv\",index=False)"
   ]
  },
  {
   "cell_type": "code",
   "execution_count": 97,
   "id": "4143dfc9-0a25-4740-8fd1-8021faa80279",
   "metadata": {},
   "outputs": [],
   "source": [
    "c=pd.read_csv(\"total_sales.csv\")"
   ]
  },
  {
   "cell_type": "code",
   "execution_count": 99,
   "id": "f3cf2231-99f7-49a3-b038-216a8ce218ee",
   "metadata": {},
   "outputs": [
    {
     "data": {
      "text/html": [
       "<div>\n",
       "<style scoped>\n",
       "    .dataframe tbody tr th:only-of-type {\n",
       "        vertical-align: middle;\n",
       "    }\n",
       "\n",
       "    .dataframe tbody tr th {\n",
       "        vertical-align: top;\n",
       "    }\n",
       "\n",
       "    .dataframe thead th {\n",
       "        text-align: right;\n",
       "    }\n",
       "</style>\n",
       "<table border=\"1\" class=\"dataframe\">\n",
       "  <thead>\n",
       "    <tr style=\"text-align: right;\">\n",
       "      <th></th>\n",
       "      <th>State</th>\n",
       "      <th>Sale in thousands</th>\n",
       "    </tr>\n",
       "  </thead>\n",
       "  <tbody>\n",
       "    <tr>\n",
       "      <th>0</th>\n",
       "      <td>New Mexico</td>\n",
       "      <td>161917</td>\n",
       "    </tr>\n",
       "    <tr>\n",
       "      <th>1</th>\n",
       "      <td>Alaska</td>\n",
       "      <td>174149</td>\n",
       "    </tr>\n",
       "    <tr>\n",
       "      <th>2</th>\n",
       "      <td>California</td>\n",
       "      <td>184644</td>\n",
       "    </tr>\n",
       "    <tr>\n",
       "      <th>3</th>\n",
       "      <td>Montana</td>\n",
       "      <td>186270</td>\n",
       "    </tr>\n",
       "    <tr>\n",
       "      <th>4</th>\n",
       "      <td>Texas</td>\n",
       "      <td>214856</td>\n",
       "    </tr>\n",
       "  </tbody>\n",
       "</table>\n",
       "</div>"
      ],
      "text/plain": [
       "        State  Sale in thousands\n",
       "0  New Mexico             161917\n",
       "1      Alaska             174149\n",
       "2  California             184644\n",
       "3     Montana             186270\n",
       "4       Texas             214856"
      ]
     },
     "execution_count": 99,
     "metadata": {},
     "output_type": "execute_result"
    }
   ],
   "source": [
    "c"
   ]
  }
 ],
 "metadata": {
  "kernelspec": {
   "display_name": "Python [conda env:base] *",
   "language": "python",
   "name": "conda-base-py"
  },
  "language_info": {
   "codemirror_mode": {
    "name": "ipython",
    "version": 3
   },
   "file_extension": ".py",
   "mimetype": "text/x-python",
   "name": "python",
   "nbconvert_exporter": "python",
   "pygments_lexer": "ipython3",
   "version": "3.12.7"
  }
 },
 "nbformat": 4,
 "nbformat_minor": 5
}
