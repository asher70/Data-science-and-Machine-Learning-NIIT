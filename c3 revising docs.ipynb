{
 "cells": [
  {
   "cell_type": "markdown",
   "id": "303495c3-7a06-4830-8578-fc69570143ae",
   "metadata": {},
   "source": [
    "# Write a Python program to print \"Hello, World!\"."
   ]
  },
  {
   "cell_type": "code",
   "execution_count": 45,
   "id": "2904213d-18eb-4536-9f37-9fcfd6ec2887",
   "metadata": {},
   "outputs": [
    {
     "name": "stdout",
     "output_type": "stream",
     "text": [
      "Hello, World!\n"
     ]
    }
   ],
   "source": [
    "print('Hello, World!')"
   ]
  },
  {
   "cell_type": "markdown",
   "id": "e018a1fd-f38a-435b-8d63-b43aaf6621c7",
   "metadata": {},
   "source": [
    "# Create a Python script to take user input and display it back."
   ]
  },
  {
   "cell_type": "code",
   "execution_count": 47,
   "id": "18e9f973-5b1e-4fa1-a160-23f41972cf82",
   "metadata": {},
   "outputs": [
    {
     "name": "stdin",
     "output_type": "stream",
     "text": [
      "take user input  45\n"
     ]
    },
    {
     "name": "stdout",
     "output_type": "stream",
     "text": [
      "45\n"
     ]
    }
   ],
   "source": [
    "a=input('take user input ')\n",
    "print(a)"
   ]
  },
  {
   "cell_type": "markdown",
   "id": "5440f18e-e791-4a6f-a923-19e3358edd34",
   "metadata": {},
   "source": [
    "# Write a program to calculate the sum of two numbers entered by the user."
   ]
  },
  {
   "cell_type": "code",
   "execution_count": 49,
   "id": "7043bfd4-7186-47d9-a430-1fa8c2e72779",
   "metadata": {},
   "outputs": [
    {
     "name": "stdin",
     "output_type": "stream",
     "text": [
      "enter the number 1: 32\n",
      "enter the number 2: 48\n"
     ]
    },
    {
     "name": "stdout",
     "output_type": "stream",
     "text": [
      "80\n"
     ]
    }
   ],
   "source": [
    "a=int(input('enter the number 1:'))\n",
    "b=int(input('enter the number 2:'))\n",
    "print(a+b)"
   ]
  },
  {
   "cell_type": "markdown",
   "id": "1d7dc4a6-80ba-4f04-a1b6-ba09e168019b",
   "metadata": {},
   "source": [
    "#  2. Getting Started With Python\n",
    "4. Write a program to display the data type of each variable: an integer, a float, a string, and a boolean."
   ]
  },
  {
   "cell_type": "code",
   "execution_count": 57,
   "id": "de4b544e-5674-4e4c-ac17-b2d0f6f0f33b",
   "metadata": {},
   "outputs": [
    {
     "data": {
      "text/plain": [
       "bool"
      ]
     },
     "execution_count": 57,
     "metadata": {},
     "output_type": "execute_result"
    }
   ],
   "source": [
    "a=32\n",
    "b=23.43\n",
    "c='Dallas'\n",
    "d=True\n",
    "type(a)\n",
    "type(b)\n",
    "type(c)\n",
    "type(d)"
   ]
  },
  {
   "cell_type": "markdown",
   "id": "b53c6012-8c98-4cd1-8a2d-078f9a414ab9",
   "metadata": {},
   "source": [
    "# 5. Demonstrate variable assignment and swapping the values of two variables without using a temporary variable."
   ]
  },
  {
   "cell_type": "code",
   "execution_count": 59,
   "id": "7f27a261-5d10-428e-9e02-1052efd140af",
   "metadata": {},
   "outputs": [
    {
     "name": "stdout",
     "output_type": "stream",
     "text": [
      "32\n",
      "45\n",
      "77\n",
      "45\n",
      "32\n"
     ]
    }
   ],
   "source": [
    "a=32\n",
    "b=45\n",
    "print(a)\n",
    "print(b)\n",
    "a=a+b\n",
    "print(a)\n",
    "b=a-b\n",
    "a=a-b\n",
    "print(a)\n",
    "print(b)"
   ]
  },
  {
   "cell_type": "markdown",
   "id": "d958f898-c3ab-4cb0-b5a4-27f1c7c475d8",
   "metadata": {},
   "source": [
    "# 6. Write a program to perform arithmetic operations (+, -, *, /, %, **) between two numbers."
   ]
  },
  {
   "cell_type": "code",
   "execution_count": 65,
   "id": "3d21b076-cd9a-40de-9918-eca8c7ddd378",
   "metadata": {},
   "outputs": [],
   "source": [
    "class arithmeticoper():\n",
    "    def __init__(self,a,b):\n",
    "        self.a=a\n",
    "        self.b=b\n",
    "    def add(self):#self.a,self.b\n",
    "        return self.a+self.b\n",
    "    def subract(self):\n",
    "        return self.a-self.b\n",
    "    def mult(self):\n",
    "        return self.a*self.b\n",
    "    def div(self):\n",
    "        return self.a/self.b\n",
    "    def mod(self):\n",
    "        return self.a%self.b\n",
    "    def exponentation(self):\n",
    "        return self.a**self.b\n"
   ]
  },
  {
   "cell_type": "code",
   "execution_count": 83,
   "id": "8efc17ad-5b50-455e-bb90-c4c297783d7d",
   "metadata": {},
   "outputs": [
    {
     "data": {
      "text/plain": [
       "931322574615478515625000000000000000000000000000000"
      ]
     },
     "execution_count": 83,
     "metadata": {},
     "output_type": "execute_result"
    }
   ],
   "source": [
    "A=arithmeticoper(50,30)\n",
    "A.add()\n",
    "A.subract()\n",
    "A.mult()\n",
    "A.div()\n",
    "A.mod()\n",
    "A.exponentation()"
   ]
  },
  {
   "cell_type": "markdown",
   "id": "8c8aff7d-b908-4e7b-a7c4-b8bbaafedde8",
   "metadata": {},
   "source": [
    "# 7. Write a program that takes a number as input and checks if it is even or odd."
   ]
  },
  {
   "cell_type": "code",
   "execution_count": 85,
   "id": "1f7763c2-945c-443b-a77d-b39d0f5e26ce",
   "metadata": {},
   "outputs": [],
   "source": [
    "def n(a):\n",
    "    if a%2==0:\n",
    "        print('even')\n",
    "    else:\n",
    "        print('odd')"
   ]
  },
  {
   "cell_type": "code",
   "execution_count": 87,
   "id": "22c00eda-bc8e-40e4-a0d6-c6da2f7ffeea",
   "metadata": {},
   "outputs": [
    {
     "name": "stdout",
     "output_type": "stream",
     "text": [
      "odd\n"
     ]
    }
   ],
   "source": [
    "n(45)"
   ]
  },
  {
   "cell_type": "markdown",
   "id": "75246b38-5372-4967-8f5d-38fc5aa63d9f",
   "metadata": {},
   "source": [
    "# 8. Create a program to determine if a given year is a leap year."
   ]
  },
  {
   "cell_type": "code",
   "execution_count": 97,
   "id": "3d49d160-80b2-4157-8340-8f49588d7be8",
   "metadata": {},
   "outputs": [],
   "source": [
    "def year(a):\n",
    "    if (a%4==0 and a%100!=0)or (a%400==0):\n",
    "        print('Leap year')\n",
    "    else:\n",
    "        print('not a leap year')"
   ]
  },
  {
   "cell_type": "code",
   "execution_count": 99,
   "id": "85e4b20c-522d-414c-8015-392e3d79729b",
   "metadata": {},
   "outputs": [
    {
     "name": "stdout",
     "output_type": "stream",
     "text": [
      "not a leap year\n"
     ]
    }
   ],
   "source": [
    "year(1900)"
   ]
  },
  {
   "cell_type": "markdown",
   "id": "9b5f4fce-959b-4e51-aaa4-0c3af024f69e",
   "metadata": {},
   "source": [
    "# 9. Write a Python script to check whether a person is eligible to vote based on their age."
   ]
  },
  {
   "cell_type": "code",
   "execution_count": 105,
   "id": "b6b529e1-fdc1-4d6c-8118-3d0a7ebe5f7d",
   "metadata": {},
   "outputs": [],
   "source": [
    "def vote(age):\n",
    "    if age>=18:\n",
    "        print('eligible')\n",
    "    else:\n",
    "        print('not eligible')\n",
    "    "
   ]
  },
  {
   "cell_type": "code",
   "execution_count": 113,
   "id": "605fa1d2-6ce2-4e56-a5e9-5836233c57fa",
   "metadata": {},
   "outputs": [
    {
     "name": "stdout",
     "output_type": "stream",
     "text": [
      "eligible\n"
     ]
    }
   ],
   "source": [
    "vote(19)"
   ]
  },
  {
   "cell_type": "markdown",
   "id": "fa452a0d-6055-411b-bf4e-b6029fab8ff8",
   "metadata": {},
   "source": [
    "# 10. Write a Python program to print all even numbers between 1 and 50 using a while loop."
   ]
  },
  {
   "cell_type": "code",
   "execution_count": 7,
   "id": "a795c1a6-2c6f-4693-b8bf-f7295a50cab9",
   "metadata": {},
   "outputs": [
    {
     "name": "stdout",
     "output_type": "stream",
     "text": [
      "2\n",
      "4\n",
      "6\n",
      "8\n",
      "10\n",
      "12\n",
      "14\n",
      "16\n",
      "18\n",
      "20\n",
      "22\n",
      "24\n",
      "26\n",
      "28\n",
      "30\n",
      "32\n",
      "34\n",
      "36\n",
      "38\n",
      "40\n",
      "42\n",
      "44\n",
      "46\n",
      "48\n",
      "50\n"
     ]
    }
   ],
   "source": [
    "x=1\n",
    "while x<51:\n",
    "    if x%2==0:\n",
    "        print(x)\n",
    "    x+=1"
   ]
  },
  {
   "cell_type": "code",
   "execution_count": 123,
   "id": "f2fda5d7-a935-416d-8efe-4bb139ce9cd4",
   "metadata": {},
   "outputs": [
    {
     "data": {
      "text/plain": [
       "[2,\n",
       " 4,\n",
       " 6,\n",
       " 8,\n",
       " 10,\n",
       " 12,\n",
       " 14,\n",
       " 16,\n",
       " 18,\n",
       " 20,\n",
       " 22,\n",
       " 24,\n",
       " 26,\n",
       " 28,\n",
       " 30,\n",
       " 32,\n",
       " 34,\n",
       " 36,\n",
       " 38,\n",
       " 40,\n",
       " 42,\n",
       " 44,\n",
       " 46,\n",
       " 48,\n",
       " 50]"
      ]
     },
     "execution_count": 123,
     "metadata": {},
     "output_type": "execute_result"
    }
   ],
   "source": [
    "p=list(range (1,51))\n",
    "list(filter(lambda a:a%2==0,p))"
   ]
  },
  {
   "cell_type": "markdown",
   "id": "9bb29324-2119-400e-bb94-ac636034cd8a",
   "metadata": {},
   "source": [
    "# 11. Create a list of 5 numbers and calculate their sum using a for loop."
   ]
  },
  {
   "cell_type": "code",
   "execution_count": 19,
   "id": "6f8e37b2-9c02-40a5-a603-0e13b2ae3e35",
   "metadata": {},
   "outputs": [
    {
     "name": "stdout",
     "output_type": "stream",
     "text": [
      "[4, 8, 12, 16, 20]\n",
      "60\n"
     ]
    }
   ],
   "source": [
    "x=list(range(4,24,4))\n",
    "s=0\n",
    "print(x)\n",
    "for y in x: \n",
    "    s+=y\n",
    "print(s)"
   ]
  },
  {
   "cell_type": "markdown",
   "id": "07ecd8b4-d21d-4c01-aca6-cfed02d4449e",
   "metadata": {},
   "source": [
    "# 12. Write a program to reverse a list without using the built-in reverse() function.\n"
   ]
  },
  {
   "cell_type": "code",
   "execution_count": 27,
   "id": "3ccf2785-635a-41d0-81a6-d26754f54301",
   "metadata": {},
   "outputs": [
    {
     "data": {
      "text/plain": [
       "[20, 16, 12, 8, 4]"
      ]
     },
     "execution_count": 27,
     "metadata": {},
     "output_type": "execute_result"
    }
   ],
   "source": [
    "x=x[::-1]\n",
    "x"
   ]
  },
  {
   "cell_type": "markdown",
   "id": "4f99bce8-fe56-4007-987f-1e56e353599b",
   "metadata": {},
   "source": [
    "# 13. Given a list of fruits, write a program to print each fruit using a for loop."
   ]
  },
  {
   "cell_type": "code",
   "execution_count": 29,
   "id": "257a48e9-b620-4a15-9c0a-c1283640f62b",
   "metadata": {},
   "outputs": [
    {
     "name": "stdout",
     "output_type": "stream",
     "text": [
      "Apple\n",
      "Banana\n",
      "Cherry\n",
      "Mango\n",
      "Orange\n",
      "Grapes\n",
      "Strawberry\n"
     ]
    }
   ],
   "source": [
    "fruits = [\"Apple\", \"Banana\", \"Cherry\", \"Mango\", \"Orange\", \"Grapes\", \"Strawberry\"]\n",
    "for x in fruits:\n",
    "    print(x)"
   ]
  },
  {
   "cell_type": "markdown",
   "id": "879a930b-01e4-4d90-8139-2cfc3966c8c5",
   "metadata": {},
   "source": [
    "# 14. Create a nested loop to print a multiplication table from 1 to 5."
   ]
  },
  {
   "cell_type": "code",
   "execution_count": 33,
   "id": "b7a94379-138a-4b6d-b262-965a5cbcde84",
   "metadata": {},
   "outputs": [
    {
     "name": "stdout",
     "output_type": "stream",
     "text": [
      "1X1=1\n",
      "1X2=2\n",
      "1X3=3\n",
      "1X4=4\n",
      "1X5=5\n",
      "1X6=6\n",
      "1X7=7\n",
      "1X8=8\n",
      "1X9=9\n",
      "1X10=10\n",
      "2X1=2\n",
      "2X2=4\n",
      "2X3=6\n",
      "2X4=8\n",
      "2X5=10\n",
      "2X6=12\n",
      "2X7=14\n",
      "2X8=16\n",
      "2X9=18\n",
      "2X10=20\n",
      "3X1=3\n",
      "3X2=6\n",
      "3X3=9\n",
      "3X4=12\n",
      "3X5=15\n",
      "3X6=18\n",
      "3X7=21\n",
      "3X8=24\n",
      "3X9=27\n",
      "3X10=30\n",
      "4X1=4\n",
      "4X2=8\n",
      "4X3=12\n",
      "4X4=16\n",
      "4X5=20\n",
      "4X6=24\n",
      "4X7=28\n",
      "4X8=32\n",
      "4X9=36\n",
      "4X10=40\n",
      "5X1=5\n",
      "5X2=10\n",
      "5X3=15\n",
      "5X4=20\n",
      "5X5=25\n",
      "5X6=30\n",
      "5X7=35\n",
      "5X8=40\n",
      "5X9=45\n",
      "5X10=50\n"
     ]
    }
   ],
   "source": [
    "for x in range(1,6):\n",
    "    for y in range(1,11):\n",
    "        print(f'{x}X{y}={x*y}')\n",
    "        "
   ]
  },
  {
   "cell_type": "markdown",
   "id": "799aa80a-d002-48d3-ab15-829daea92e9d",
   "metadata": {},
   "source": [
    "# 15. Write a program that iterates over a dictionary and prints both keys and values."
   ]
  },
  {
   "cell_type": "code",
   "execution_count": 47,
   "id": "584b86c0-0dd9-4170-8ddd-f74b9723a405",
   "metadata": {},
   "outputs": [
    {
     "name": "stdout",
     "output_type": "stream",
     "text": [
      "a 70\n",
      "b 45\n",
      "c iter\n"
     ]
    }
   ],
   "source": [
    "dictionary={'a':70,'b':45,'c':'iter'}\n",
    "for x,y in dictionary.items():\n",
    "    print(x,y)"
   ]
  },
  {
   "cell_type": "markdown",
   "id": "d4fa6d8b-0a68-42ce-b9bf-49e096775d6d",
   "metadata": {},
   "source": [
    "# 16. Define a function that returns the square of a number."
   ]
  },
  {
   "cell_type": "code",
   "execution_count": 50,
   "id": "75311765-9c4c-4f84-98b4-81bc3e0296f7",
   "metadata": {},
   "outputs": [],
   "source": [
    "def squ(x):\n",
    "    return x**2"
   ]
  },
  {
   "cell_type": "code",
   "execution_count": 52,
   "id": "cf4f01d7-12c1-46db-947a-2560742def3d",
   "metadata": {},
   "outputs": [
    {
     "data": {
      "text/plain": [
       "9"
      ]
     },
     "execution_count": 52,
     "metadata": {},
     "output_type": "execute_result"
    }
   ],
   "source": [
    "squ(3)"
   ]
  },
  {
   "cell_type": "markdown",
   "id": "7ba7dd52-1f95-4d2a-9184-9815839e760a",
   "metadata": {},
   "source": [
    "# 17. Write a function that takes a list of numbers and returns the maximum value."
   ]
  },
  {
   "cell_type": "code",
   "execution_count": 66,
   "id": "1c8013ef-a990-40cf-9f0e-a6aa4b6c9f79",
   "metadata": {},
   "outputs": [],
   "source": [
    "def maxim(a):\n",
    "    return max(a)"
   ]
  },
  {
   "cell_type": "code",
   "execution_count": 68,
   "id": "57a16bda-f7ec-47e3-bfa3-47fd6ffd517f",
   "metadata": {},
   "outputs": [
    {
     "data": {
      "text/plain": [
       "43"
      ]
     },
     "execution_count": 68,
     "metadata": {},
     "output_type": "execute_result"
    }
   ],
   "source": [
    "am=[1,43,2,34,3]\n",
    "maxim(am)"
   ]
  },
  {
   "cell_type": "markdown",
   "id": "f1141052-aa4e-4d5d-a13a-c873d56ded1a",
   "metadata": {},
   "source": [
    "# 18. Create a function to calculate the factorial of a number using recursion."
   ]
  },
  {
   "cell_type": "code",
   "execution_count": 93,
   "id": "f4174f69-5209-439e-bb83-02730b1585d2",
   "metadata": {},
   "outputs": [],
   "source": [
    "def facto(n):\n",
    "    if n==1 or n==0:\n",
    "        return 1\n",
    "    else:\n",
    "        return n*facto(n-1)\n",
    "    "
   ]
  },
  {
   "cell_type": "code",
   "execution_count": 97,
   "id": "4d37744b-22e0-4f67-b57e-e022a6b07065",
   "metadata": {},
   "outputs": [
    {
     "data": {
      "text/plain": [
       "720"
      ]
     },
     "execution_count": 97,
     "metadata": {},
     "output_type": "execute_result"
    }
   ],
   "source": [
    "facto(6)"
   ]
  },
  {
   "cell_type": "markdown",
   "id": "8e196ea9-40d6-4270-8d75-a3acebaa8e69",
   "metadata": {},
   "source": [
    "# 18. Create a function to calculate the fibinociiof a number using recursion."
   ]
  },
  {
   "cell_type": "code",
   "execution_count": 101,
   "id": "4a11049e-7ec7-4dd2-a495-6a3bce6e6bb2",
   "metadata": {},
   "outputs": [],
   "source": [
    "def fib(n):\n",
    "    if n==0 or n==1:\n",
    "        return 1\n",
    "    else:\n",
    "        return fib(n-1)+fib(n-2)"
   ]
  },
  {
   "cell_type": "code",
   "execution_count": 111,
   "id": "7c1a4a60-0003-40eb-b644-9ab2304e6381",
   "metadata": {},
   "outputs": [
    {
     "data": {
      "text/plain": [
       "8"
      ]
     },
     "execution_count": 111,
     "metadata": {},
     "output_type": "execute_result"
    }
   ],
   "source": [
    "fib(5)"
   ]
  },
  {
   "cell_type": "markdown",
   "id": "0c525c52-fcf2-4c08-ba3f-642f9d014850",
   "metadata": {},
   "source": [
    "# Create a simple class called `Car` with attributes like `brand`, `model`, and `year`. Write a method to display the car's details."
   ]
  },
  {
   "cell_type": "code",
   "execution_count": 113,
   "id": "441aa10c-bbc1-4298-a934-5178c9122a53",
   "metadata": {},
   "outputs": [],
   "source": [
    "class Car:\n",
    "    def __init__(self,brand,model,year):\n",
    "        self.brand=brand\n",
    "        self.model=model\n",
    "        self.year=year\n",
    "    def details(self):\n",
    "        print(f'the cars brand is :{self.brand}')\n",
    "        print(f'the cars model is :{self.model}')\n",
    "        print(f'the cars year is :{self.year}')"
   ]
  },
  {
   "cell_type": "code",
   "execution_count": 115,
   "id": "9af1618e-804d-4a0c-8368-bff061b012b3",
   "metadata": {},
   "outputs": [
    {
     "name": "stdout",
     "output_type": "stream",
     "text": [
      "the cars brand is :BMW\n",
      "the cars model is :H3\n",
      "the cars year is :1995\n"
     ]
    }
   ],
   "source": [
    "A=Car('BMW','H3','1995')\n",
    "A.details()"
   ]
  },
  {
   "cell_type": "markdown",
   "id": "b655ab87-a45d-407a-9023-1367db9d4410",
   "metadata": {},
   "source": [
    "# 20. Write a class `Circle` with a method to calculate the area using the formula πr²."
   ]
  },
  {
   "cell_type": "code",
   "execution_count": 123,
   "id": "428f5b03-4033-4023-96da-c584f4e42688",
   "metadata": {},
   "outputs": [],
   "source": [
    "class Circle:\n",
    "    def __init__(self,r):\n",
    "        self.r=r\n",
    "    def area(self):\n",
    "        return 3.14*self.r*self.r"
   ]
  },
  {
   "cell_type": "code",
   "execution_count": 129,
   "id": "668b23dc-3795-46d7-b483-38d21a4cc88d",
   "metadata": {},
   "outputs": [
    {
     "data": {
      "text/plain": [
       "50.24"
      ]
     },
     "execution_count": 129,
     "metadata": {},
     "output_type": "execute_result"
    }
   ],
   "source": [
    "A=Circle(4)\n",
    "A.area()"
   ]
  },
  {
   "cell_type": "markdown",
   "id": "7867a7a8-e036-4f87-9f49-7c352da1ff99",
   "metadata": {},
   "source": [
    "# 21. Implement a class `Student` with properties for `name`, `age`, and `grade`. Add a method to check if the student has passed (grade >= 50)."
   ]
  },
  {
   "cell_type": "code",
   "execution_count": 145,
   "id": "b52cf4ad-90ed-4c79-b1d3-8be0b077997f",
   "metadata": {},
   "outputs": [],
   "source": [
    "class Student:\n",
    "    def __init__(self,name,age,grade):\n",
    "        self.name=name\n",
    "        self.age=age\n",
    "        self.grade=grade\n",
    "    def check(self):\n",
    "        if self.grade>=50:\n",
    "            return 'passed'\n",
    "        else:\n",
    "            return 'not passed'"
   ]
  },
  {
   "cell_type": "code",
   "execution_count": 151,
   "id": "ae7087d0-44b2-4080-b1b7-fdd8216e0d44",
   "metadata": {},
   "outputs": [
    {
     "data": {
      "text/plain": [
       "'passed'"
      ]
     },
     "execution_count": 151,
     "metadata": {},
     "output_type": "execute_result"
    }
   ],
   "source": [
    "A=Student('Mat',45,57)\n",
    "A.check()"
   ]
  },
  {
   "cell_type": "markdown",
   "id": "29268e7e-4394-43aa-8ee8-6c1baad8002d",
   "metadata": {},
   "source": [
    "# 22. Implement inheritance by creating a base class `Animal` with a method `speak()`, and a derived class `Dog` that overrides `speak()` to say \"Woof!\"."
   ]
  },
  {
   "cell_type": "code",
   "execution_count": 153,
   "id": "fe803976-bd3f-4271-b2d2-46a64ac66642",
   "metadata": {},
   "outputs": [],
   "source": [
    "from abc import ABC,abstractmethod\n",
    "class Animal(ABC):\n",
    "    @abstractmethod\n",
    "    def speak(self):\n",
    "        pass\n",
    "class Dog(Animal):\n",
    "    def speak(self):\n",
    "        return 'Woof!'"
   ]
  },
  {
   "cell_type": "code",
   "execution_count": 157,
   "id": "6b78ef1c-1c79-490c-ba4f-a54135c0ad4d",
   "metadata": {},
   "outputs": [
    {
     "data": {
      "text/plain": [
       "'Woof!'"
      ]
     },
     "execution_count": 157,
     "metadata": {},
     "output_type": "execute_result"
    }
   ],
   "source": [
    "A=Dog()\n",
    "A.speak()"
   ]
  },
  {
   "cell_type": "markdown",
   "id": "4b34755b-1021-44aa-b6b2-8ad295a0fb6c",
   "metadata": {},
   "source": [
    "# vehicle ,truck car inheritance"
   ]
  },
  {
   "cell_type": "code",
   "execution_count": 161,
   "id": "04c7f24f-fbb2-405d-8721-e8c42fde77b5",
   "metadata": {},
   "outputs": [],
   "source": [
    "from abc import ABC,abstractmethod\n",
    "class Vehicle(ABC):\n",
    "    @abstractmethod\n",
    "    def wheels(self):\n",
    "        pass\n",
    "class truck(Vehicle):\n",
    "    def wheels(self):\n",
    "        return '6 wheels'\n",
    "class car(Vehicle):\n",
    "    def wheels(self):\n",
    "        return '4 wheels'    "
   ]
  },
  {
   "cell_type": "code",
   "execution_count": 167,
   "id": "f1df392f-3618-4320-9107-e7b4b72bf7bb",
   "metadata": {},
   "outputs": [
    {
     "data": {
      "text/plain": [
       "'4 wheels'"
      ]
     },
     "execution_count": 167,
     "metadata": {},
     "output_type": "execute_result"
    }
   ],
   "source": [
    "A=truck()\n",
    "A.wheels()\n",
    "B=car()\n",
    "B.wheels()"
   ]
  },
  {
   "cell_type": "markdown",
   "id": "4a433063-106d-4eee-9366-467b6e70f422",
   "metadata": {},
   "source": [
    "#  Write a program demonstrating polymorphism with a base class `Shape` and derived classes `Square` and `Circle`, each with a `draw()` method."
   ]
  },
  {
   "cell_type": "code",
   "execution_count": 175,
   "id": "28e06a1d-8c6d-45b1-b1be-b8470c3e4dfb",
   "metadata": {},
   "outputs": [],
   "source": [
    "from abc import ABC,abstractmethod\n",
    "class Shape(ABC):\n",
    "    @abstractmethod\n",
    "    def draw(self):\n",
    "        pass\n",
    "class Square(Shape):\n",
    "    def draw(self):\n",
    "        return'it has same 4 sides '\n",
    "class Circle(Shape):\n",
    "    def draw(self):\n",
    "        return 'it is round in shape'"
   ]
  },
  {
   "cell_type": "code",
   "execution_count": 179,
   "id": "407fc7bb-e40a-46c6-9a81-36b47ea12fbc",
   "metadata": {},
   "outputs": [
    {
     "data": {
      "text/plain": [
       "'it is round in shape'"
      ]
     },
     "execution_count": 179,
     "metadata": {},
     "output_type": "execute_result"
    }
   ],
   "source": [
    "A=Square()\n",
    "A.draw()\n",
    "B=Circle()\n",
    "B.draw()"
   ]
  },
  {
   "cell_type": "markdown",
   "id": "d655f4d0-0a1b-4640-8b0b-6621ae25d01e",
   "metadata": {},
   "source": [
    "# 24. Create a class `Employee` and use encapsulation to set and get the employee's salary securely."
   ]
  },
  {
   "cell_type": "code",
   "execution_count": 185,
   "id": "c08e4e17-4551-439a-823e-86a4085b3b1a",
   "metadata": {},
   "outputs": [],
   "source": [
    "class Employee:\n",
    "    def __init__(self,salary):\n",
    "        self.__salary=salary\n",
    "    def get_salary(self):\n",
    "        return self.__salary"
   ]
  },
  {
   "cell_type": "code",
   "execution_count": 195,
   "id": "31bdad0f-2aed-4eb9-8d39-a75e455a5f21",
   "metadata": {},
   "outputs": [
    {
     "data": {
      "text/plain": [
       "'42K'"
      ]
     },
     "execution_count": 195,
     "metadata": {},
     "output_type": "execute_result"
    }
   ],
   "source": [
    "A=Employee('42K')\n",
    "A.get_salary()"
   ]
  },
  {
   "cell_type": "markdown",
   "id": "00d7375a-bf02-4a3c-9e63-2d492fe873da",
   "metadata": {},
   "source": [
    "# 25. Write a program to demonstrate `try...except` handling by attempting to divide a number by zero."
   ]
  },
  {
   "cell_type": "code",
   "execution_count": 209,
   "id": "9c9fa2ae-2dc5-42fd-80ba-cfd293d0a0fe",
   "metadata": {},
   "outputs": [
    {
     "name": "stdin",
     "output_type": "stream",
     "text": [
      "enter the number 0\n"
     ]
    },
    {
     "name": "stdout",
     "output_type": "stream",
     "text": [
      "deniominator is zero\n"
     ]
    }
   ],
   "source": [
    "#: division by zero\n",
    "try:\n",
    "    i=int(input(('enter the number')))\n",
    "    j=42\n",
    "    j/i\n",
    "except ZeroDivisionError :\n",
    "    print('deniominator is zero')\n",
    "    "
   ]
  },
  {
   "cell_type": "markdown",
   "id": "e8245dca-884f-4a4e-97bc-c1da62deb183",
   "metadata": {},
   "source": [
    "# 26. Create a script that handles `IndexError` when accessing elements of a list."
   ]
  },
  {
   "cell_type": "code",
   "execution_count": 225,
   "id": "8378db70-676d-4714-903e-83345f5b838e",
   "metadata": {},
   "outputs": [
    {
     "name": "stdout",
     "output_type": "stream",
     "text": [
      "out of range\n"
     ]
    }
   ],
   "source": [
    "try:\n",
    "    x=[23,2332234334,54532,232]\n",
    "    x[4]\n",
    "except IndexError:\n",
    "    print('out of range')\n"
   ]
  },
  {
   "cell_type": "markdown",
   "id": "84416889-3836-45c4-bde1-ca39669f250a",
   "metadata": {},
   "source": [
    "# 27. Write a program that takes user input and raises a `ValueError` if the input is not a number."
   ]
  },
  {
   "cell_type": "code",
   "execution_count": 229,
   "id": "ad8aed42-ff8b-493f-9602-819a7ac9606c",
   "metadata": {},
   "outputs": [
    {
     "name": "stdin",
     "output_type": "stream",
     "text": [
      "enter the number g\n"
     ]
    },
    {
     "name": "stdout",
     "output_type": "stream",
     "text": [
      "not a number\n"
     ]
    }
   ],
   "source": [
    "try:\n",
    "    a=int(input('enter the number'))\n",
    "    a\n",
    "except ValueError:\n",
    "    print('not a number')\n",
    "    "
   ]
  },
  {
   "cell_type": "markdown",
   "id": "aaf8a6ef-1457-4507-9ed7-6d1648ea9d3a",
   "metadata": {},
   "source": [
    "#  Write a function that takes a list of numbers and returns a list of only the even numbers using list comprehension."
   ]
  },
  {
   "cell_type": "code",
   "execution_count": 233,
   "id": "4a80fba2-d55e-4057-a03b-3427f4e7b1d7",
   "metadata": {},
   "outputs": [],
   "source": [
    "def evelist(a):\n",
    "    return list(filter(lambda x:x%2==0,a))"
   ]
  },
  {
   "cell_type": "code",
   "execution_count": 235,
   "id": "c0ddf244-aaa0-4565-8b1f-f5561749cc5d",
   "metadata": {},
   "outputs": [
    {
     "data": {
      "text/plain": [
       "[2, 4, 6, 8, 10]"
      ]
     },
     "execution_count": 235,
     "metadata": {},
     "output_type": "execute_result"
    }
   ],
   "source": [
    "ab=list(range(2,11))\n",
    "evelist(ab)"
   ]
  },
  {
   "cell_type": "markdown",
   "id": "0671b617-71e6-42b5-962a-0bab6b798fa3",
   "metadata": {},
   "source": [
    "# 29. Create a program that simulates a simple login system using a dictionary of usernames and passwords."
   ]
  },
  {
   "cell_type": "code",
   "execution_count": 263,
   "id": "5a591723-042c-4cac-b4a0-16552beec2cb",
   "metadata": {},
   "outputs": [],
   "source": [
    "def login(d,m):\n",
    "    a={'Mat45':'4545@dghgfgA','sf45':'587568ABC@ad','asd56':'23235346544575467@aAfa'}\n",
    "    if (d in a.keys()) & (m in a.values()):\n",
    "        print('login succesful')\n",
    "    else:\n",
    "        print('enter correctly')"
   ]
  },
  {
   "cell_type": "code",
   "execution_count": 265,
   "id": "fae662ed-985d-4732-b362-2ac3004da6ae",
   "metadata": {},
   "outputs": [
    {
     "name": "stdout",
     "output_type": "stream",
     "text": [
      "login succesful\n"
     ]
    }
   ],
   "source": [
    "A=login('Mat45','4545@dghgfgA')\n",
    "A"
   ]
  },
  {
   "cell_type": "markdown",
   "id": "7eebb290-108d-4163-a2ae-fe572aedd16e",
   "metadata": {},
   "source": [
    "# Implement a class `BankAccount` with methods for `deposit()`, `withdraw()`, and `get_balance()` that handle exceptions for invalid transactions.\n"
   ]
  },
  {
   "cell_type": "code",
   "execution_count": 322,
   "id": "083662f8-1a45-421c-8779-ab1a048a3c39",
   "metadata": {},
   "outputs": [],
   "source": [
    "class BankAccount:\n",
    "   \n",
    "        def __init__(self,amt=0):\n",
    "            try:\n",
    "                if amt<0:\n",
    "                    raise ValueError('cannot be negative')\n",
    "                self.amt=amt\n",
    "            except ValueError:\n",
    "                print(ValueError)\n",
    "        def deposit(self,a):\n",
    "            self.amt+=a\n",
    "        def withdraw(self,a):\n",
    "            try:\n",
    "                if a>self.amt:\n",
    "                    raise ValueError('not available')\n",
    "                self.amt-=a\n",
    "            except ValueError as e:\n",
    "                print(e)\n",
    "        def get_balance(self):\n",
    "            return self.amt\n",
    "  "
   ]
  },
  {
   "cell_type": "code",
   "execution_count": 324,
   "id": "1a88d862-f29e-495e-9d4b-4ce355e4ade1",
   "metadata": {},
   "outputs": [
    {
     "name": "stdout",
     "output_type": "stream",
     "text": [
      "not available\n"
     ]
    },
    {
     "data": {
      "text/plain": [
       "45056"
      ]
     },
     "execution_count": 324,
     "metadata": {},
     "output_type": "execute_result"
    }
   ],
   "source": [
    "A=BankAccount(45000)\n",
    "A.get_balance()\n",
    "A.deposit(56)\n",
    "A.get_balance()\n",
    "A.withdraw(55000)\n",
    "A.get_balance()\n",
    "\n"
   ]
  },
  {
   "cell_type": "markdown",
   "id": "263fd25d-833c-4e63-b2b5-5fa48946ce13",
   "metadata": {},
   "source": [
    "# Introduction to Programming Using Python\n",
    "\n",
    "What is Python, and why is it popular?\n",
    "Python is a high-level, interpreted programming language known for its simplicity, readability, and versatility. It is popular due to its easy-to-learn syntax, extensive libraries, and wide-ranging applications from web development to data science.\n",
    "\n",
    "What are the key features of Python?\n",
    "Python features include dynamic typing, automatic memory management, an extensive standard library, support for multiple programming paradigms (procedural, object-oriented, functional), and platform independence.\n",
    "\n",
    "Getting Started With Python\n",
    "\n",
    "How do you install Python on your system?\n",
    "Python can be installed by downloading the installer from the official website (python.org) and following the installation instructions. Additionally, Python can be installed using package managers like apt for Linux or brew for macOS.\n",
    "\n",
    "What are some popular Python IDEs and code editors?\n",
    "Popular Python IDEs and editors include PyCharm, VS Code, Jupyter Notebook, Spyder, and IDLE.\n",
    "\n",
    "Decision Making With Conditional Statements\n",
    "\n",
    "What are conditional statements in Python?\n",
    "Conditional statements allow the execution of certain code blocks based on specific conditions using if, elif, and else keywords.\n",
    "\n",
    "What is the difference between if and elif?\n",
    "if is used to check the initial condition, while elif (short for 'else if') is used to check additional conditions if the previous if or elif statements are false.\n",
    "\n",
    "Iterative Statements and List Operations\n",
    "\n",
    "What are loops in Python?\n",
    "Loops are used to execute a block of code repeatedly. Python supports for and while loops.\n",
    "\n",
    "How can you iterate over a list in Python?\n",
    "You can iterate over a list using a for loop, such as:\n",
    "\n",
    "for item in my_list:\n",
    "    print(item)\n",
    "\n",
    "Looping Over Data Structures\n",
    "\n",
    "Can you loop through a dictionary in Python?\n",
    "Yes, you can use:\n",
    "\n",
    "for key, value in my_dict.items():\n",
    "    print(key, value)\n",
    "\n",
    "What is list comprehension in Python?\n",
    "List comprehension provides a concise way to create lists using an expression inside brackets.\n",
    "\n",
    "squares = [x*x for x in range(10)]\n",
    "\n",
    "Functions in Python\n",
    "\n",
    "What is a function in Python?\n",
    "A function is a reusable block of code that performs a specific task. It is defined using the def keyword.\n",
    "\n",
    "What is the difference between return and print in a function?\n",
    "return exits the function and sends a value back to the caller, while print only displays output to the console.\n",
    "\n",
    "Object-Oriented Python Programming - Part I\n",
    "\n",
    "What is Object-Oriented Programming (OOP)?\n",
    "OOP is a programming paradigm based on the concept of objects, which can contain data and methods. Key concepts include classes, objects, inheritance, polymorphism, encapsulation, and abstraction.\n",
    "\n",
    "How do you create a class in Python?\n",
    "A class is created using the class keyword:\n",
    "\n",
    "class MyClass:\n",
    "    def __init__(self, name):\n",
    "        self.name = name\n",
    "\n",
    "Object-Oriented Python Programming - Part II\n",
    "\n",
    "What is inheritance in Python?\n",
    "Inheritance allows a class to inherit attributes and methods from another class, promoting code reuse.\n",
    "\n",
    "What is polymorphism in Python?\n",
    "Polymorphism allows different classes to be treated as instances of the same class through a common interface, typically using method overriding or method overloading.\n",
    "\n",
    "Handling Programming Errors in Python\n",
    "\n",
    "How do you handle exceptions in Python?\n",
    "Exceptions are handled using try, except, finally, and else blocks to manage and respond to errors gracefully.\n",
    "\n",
    "What is the purpose of the finally block?\n",
    "The finally block executes code regardless of whether an exception occurred, typically for cleanup actions.\n",
    "\n"
   ]
  },
  {
   "cell_type": "code",
   "execution_count": null,
   "id": "130884d1-39e2-4611-915c-5d3325bf3e48",
   "metadata": {},
   "outputs": [],
   "source": [
    "# the q and the pts were generated by gpt the answers were done by me o"
   ]
  },
  {
   "cell_type": "markdown",
   "id": "4569a84d-fae4-46b4-9ca2-cc0bd340ea06",
   "metadata": {},
   "source": [
    "# "
   ]
  },
  {
   "cell_type": "markdown",
   "id": "655675a7-040b-4c3b-9367-6fcb5b82b0c9",
   "metadata": {},
   "source": [
    "# "
   ]
  },
  {
   "cell_type": "markdown",
   "id": "4fdef6c5-a497-4e9c-b6a1-945901f0c343",
   "metadata": {},
   "source": [
    "# "
   ]
  },
  {
   "cell_type": "markdown",
   "id": "29da9493-b668-4243-ab1d-5ccf58e0b107",
   "metadata": {},
   "source": [
    "# "
   ]
  },
  {
   "cell_type": "markdown",
   "id": "d5663c9f-12a5-43f8-931f-3fc80da343db",
   "metadata": {},
   "source": [
    "# "
   ]
  },
  {
   "cell_type": "markdown",
   "id": "f484a61e-6f37-49e6-9d50-c8ddf25d85d7",
   "metadata": {},
   "source": [
    "# "
   ]
  },
  {
   "cell_type": "markdown",
   "id": "24182684-9d9e-4d65-9dea-be1214be0309",
   "metadata": {},
   "source": [
    "# "
   ]
  },
  {
   "cell_type": "markdown",
   "id": "e017ce86-3f8a-4ac9-bcc9-69aba5ba17fd",
   "metadata": {},
   "source": [
    "# "
   ]
  },
  {
   "cell_type": "markdown",
   "id": "f433ea56-cdc6-49bd-9edc-cd7965de9890",
   "metadata": {},
   "source": [
    "# "
   ]
  },
  {
   "cell_type": "markdown",
   "id": "f337bb32-f171-460c-bde3-962bbf039ab0",
   "metadata": {},
   "source": [
    "# "
   ]
  },
  {
   "cell_type": "markdown",
   "id": "d2960dd7-e7f4-4d70-8e6e-0ef014d214fb",
   "metadata": {},
   "source": [
    "# "
   ]
  },
  {
   "cell_type": "markdown",
   "id": "98596342-336e-42f0-8bc2-d1ac5779fa4b",
   "metadata": {},
   "source": [
    "# "
   ]
  }
 ],
 "metadata": {
  "kernelspec": {
   "display_name": "Python [conda env:base] *",
   "language": "python",
   "name": "conda-base-py"
  },
  "language_info": {
   "codemirror_mode": {
    "name": "ipython",
    "version": 3
   },
   "file_extension": ".py",
   "mimetype": "text/x-python",
   "name": "python",
   "nbconvert_exporter": "python",
   "pygments_lexer": "ipython3",
   "version": "3.12.7"
  }
 },
 "nbformat": 4,
 "nbformat_minor": 5
}
