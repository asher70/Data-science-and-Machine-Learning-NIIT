{
 "cells": [
  {
   "cell_type": "code",
   "execution_count": null,
   "id": "1198cfea-ec49-4aeb-ae9c-77df360fe3ce",
   "metadata": {},
   "outputs": [],
   "source": [
    "\"\"\"PRACTICE\n",
    "Task 1: Creating Variables\n",
    "a) Create a variable rollno and assign an integer value to it. Print the value of rollno, the id, and the data\n",
    "type.\n",
    "b) Create a variable firstname and assign a string value to it. Print the value of firstname, the id, and the data\n",
    "type.\n",
    "c) Create a variable lastname and assign a string value to it. Print the value of lastname, the id, and the data type.\n",
    "d) Create a variable maxmarks and assign the value 50 to it. Print the value of maxmarks, the id, and the data type.\"\"\""
   ]
  },
  {
   "cell_type": "code",
   "execution_count": 1,
   "id": "4f8a054f-1c8f-4582-97eb-28f2d1a89bb2",
   "metadata": {},
   "outputs": [
    {
     "name": "stdout",
     "output_type": "stream",
     "text": [
      "the value of rollno:   49 its id is: 140704918810552 its data type  is: <class 'int'>\n",
      "the value of :  Santiago its id is: 1806443691120 its data type  is: <class 'str'>\n",
      "the value of:   Mathew its id is: 1806443521072 its data type  is: <class 'str'>\n",
      "the value of :  50 its id is: 140704918810584 its data type  is: <class 'int'>\n"
     ]
    }
   ],
   "source": [
    "rollno=49 \n",
    "firstname=\"Santiago\"\n",
    "lastname=\"Mathew\"\n",
    "maxmarks=50\n",
    "print(\"the value of rollno:  \",rollno ,\"its id is:\", id(rollno),\"its data type  is:\",type(rollno))\n",
    "print(\"the value of : \",firstname ,\"its id is:\" ,id(firstname),\"its data type  is:\",type(firstname))\n",
    "print(\"the value of:  \",lastname ,\"its id is:\", id(lastname),\"its data type  is:\",type(lastname))\n",
    "print(\"the value of : \",maxmarks ,\"its id is:\" ,id(maxmarks),\"its data type  is:\",type(maxmarks))\n",
    "# CREATED 4 VAR 2 STRING AND OTHER INTEGERS PRINTED THE VALUE STORED IN VARIABLE WITH ITS ID AND DATA TYPE\n"
   ]
  },
  {
   "cell_type": "code",
   "execution_count": null,
   "id": "0656662d-87f6-42a6-9935-9d1968d2fa20",
   "metadata": {},
   "outputs": [],
   "source": [
    "\"\"\"Task 2: Naming a Variable\n",
    "Execute the following expressions individually and explain the observations (if any) for each of them: a) var1 = 2\n",
    "b) 2var = 2 c) var 1 = 2 d) var$2 = 2\"\"\""
   ]
  },
  {
   "cell_type": "code",
   "execution_count": 3,
   "id": "36b106e1-b032-4b0f-a29f-c1d827e4e17d",
   "metadata": {},
   "outputs": [],
   "source": [
    "#a)\n",
    "var1 = 2 # it get executed as it follows rules of naming a variable"
   ]
  },
  {
   "cell_type": "code",
   "execution_count": 5,
   "id": "bb94ff53-6b27-4f7c-9972-0ff1c8c31ede",
   "metadata": {},
   "outputs": [
    {
     "ename": "SyntaxError",
     "evalue": "invalid decimal literal (1591093454.py, line 2)",
     "output_type": "error",
     "traceback": [
      "\u001b[1;36m  Cell \u001b[1;32mIn[5], line 2\u001b[1;36m\u001b[0m\n\u001b[1;33m    2var = 2 #it does not get executed as it does not  follows rules of naming a variable number should't start whhile naming a variable\u001b[0m\n\u001b[1;37m    ^\u001b[0m\n\u001b[1;31mSyntaxError\u001b[0m\u001b[1;31m:\u001b[0m invalid decimal literal\n"
     ]
    }
   ],
   "source": [
    "#b)\n",
    "2var = 2 #it does not get executed as it does not  follows rules of naming a variable number should't start whhile naming a variable "
   ]
  },
  {
   "cell_type": "code",
   "execution_count": 7,
   "id": "40a2842c-e4a9-4312-8a69-abc8e4c878d6",
   "metadata": {},
   "outputs": [
    {
     "ename": "SyntaxError",
     "evalue": "invalid syntax (1840562795.py, line 2)",
     "output_type": "error",
     "traceback": [
      "\u001b[1;36m  Cell \u001b[1;32mIn[7], line 2\u001b[1;36m\u001b[0m\n\u001b[1;33m    var 1 = 2#it does not get executed as it does not  follows rules of naming a variable number no spaces should't be given between variable\u001b[0m\n\u001b[1;37m        ^\u001b[0m\n\u001b[1;31mSyntaxError\u001b[0m\u001b[1;31m:\u001b[0m invalid syntax\n"
     ]
    }
   ],
   "source": [
    "#c)  \n",
    "var 1 = 2#it does not get executed as it does not  follows rules of naming a variable number no spaces should't be given between variable"
   ]
  },
  {
   "cell_type": "code",
   "execution_count": 9,
   "id": "bda4c96a-8a7f-4259-b418-3b3787c3006e",
   "metadata": {},
   "outputs": [
    {
     "ename": "SyntaxError",
     "evalue": "invalid syntax (1605837804.py, line 2)",
     "output_type": "error",
     "traceback": [
      "\u001b[1;36m  Cell \u001b[1;32mIn[9], line 2\u001b[1;36m\u001b[0m\n\u001b[1;33m    var$2 = 2 #it does not get executed as it does not  follows rules of naming a variable  as $ sign should be used in creating a vvariable\u001b[0m\n\u001b[1;37m       ^\u001b[0m\n\u001b[1;31mSyntaxError\u001b[0m\u001b[1;31m:\u001b[0m invalid syntax\n"
     ]
    }
   ],
   "source": [
    "#d     \n",
    "var$2 = 2 #it does not get executed as it does not  follows rules of naming a variable  as $ sign should be used in creating a vvariable"
   ]
  },
  {
   "cell_type": "code",
   "execution_count": null,
   "id": "7e911451-9cc8-47f2-8eee-ecdb979a6a36",
   "metadata": {},
   "outputs": [],
   "source": [
    "\"\"\"Task 3: Assigning Values to a Variable\n",
    "Execute the following expressions individually and explain the observations (if any) for each of them: a) Class = 15\n",
    "b) class = 14 c) DEF = 13 d) def = 12 e) a=TRUE f) b=false\"\"\""
   ]
  },
  {
   "cell_type": "code",
   "execution_count": 11,
   "id": "f8f1a333-0a44-4846-af2d-ff0f66ae7df0",
   "metadata": {},
   "outputs": [],
   "source": [
    "#a\n",
    "Class = 15 # it gets executed as the name  variable Class  is used not keyword class"
   ]
  },
  {
   "cell_type": "code",
   "execution_count": 13,
   "id": "8652fad9-5e98-4f00-833c-cafe31b57b33",
   "metadata": {},
   "outputs": [
    {
     "ename": "SyntaxError",
     "evalue": "invalid syntax (3473468154.py, line 2)",
     "output_type": "error",
     "traceback": [
      "\u001b[1;36m  Cell \u001b[1;32mIn[13], line 2\u001b[1;36m\u001b[0m\n\u001b[1;33m    class = 14 # it is invalid as class is a keyword\u001b[0m\n\u001b[1;37m          ^\u001b[0m\n\u001b[1;31mSyntaxError\u001b[0m\u001b[1;31m:\u001b[0m invalid syntax\n"
     ]
    }
   ],
   "source": [
    "#b\n",
    "class = 14 # it is invalid as class is a keyword"
   ]
  },
  {
   "cell_type": "code",
   "execution_count": 15,
   "id": "59a9eb78-ced8-4395-b84f-2715d82d41f0",
   "metadata": {},
   "outputs": [],
   "source": [
    "#c \n",
    "DEF = 13 # it gets executed as the name  variable DEF is used not the keyword def"
   ]
  },
  {
   "cell_type": "code",
   "execution_count": 17,
   "id": "c988e2c7-3808-4740-9820-f892ab05d8fe",
   "metadata": {},
   "outputs": [
    {
     "ename": "SyntaxError",
     "evalue": "invalid syntax (1912855103.py, line 2)",
     "output_type": "error",
     "traceback": [
      "\u001b[1;36m  Cell \u001b[1;32mIn[17], line 2\u001b[1;36m\u001b[0m\n\u001b[1;33m    def = 12 # it is invalid as def is a keyword not so as per naming variable convention it fails.\u001b[0m\n\u001b[1;37m        ^\u001b[0m\n\u001b[1;31mSyntaxError\u001b[0m\u001b[1;31m:\u001b[0m invalid syntax\n"
     ]
    }
   ],
   "source": [
    "#d\n",
    "def = 12 # it is invalid as def is a keyword not so as per naming variable convention it fails."
   ]
  },
  {
   "cell_type": "code",
   "execution_count": 19,
   "id": "485ed7db-a8ee-4899-a850-670b9b8c49ab",
   "metadata": {},
   "outputs": [
    {
     "ename": "NameError",
     "evalue": "name 'TRUE' is not defined",
     "output_type": "error",
     "traceback": [
      "\u001b[1;31m---------------------------------------------------------------------------\u001b[0m",
      "\u001b[1;31mNameError\u001b[0m                                 Traceback (most recent call last)",
      "Cell \u001b[1;32mIn[19], line 2\u001b[0m\n\u001b[0;32m      1\u001b[0m \u001b[38;5;66;03m# e) \u001b[39;00m\n\u001b[1;32m----> 2\u001b[0m a\u001b[38;5;241m=\u001b[39mTRUE\n",
      "\u001b[1;31mNameError\u001b[0m: name 'TRUE' is not defined"
     ]
    }
   ],
   "source": [
    "# e) \n",
    "a=TRUE \n",
    "#TRUE  is treated as a variable because nameerror is displayed and message showcasting\"name 'TRUE' is not defined\""
   ]
  },
  {
   "cell_type": "code",
   "execution_count": 21,
   "id": "e40fd1fc-4a90-4094-9ee9-29201aef96a0",
   "metadata": {},
   "outputs": [
    {
     "ename": "NameError",
     "evalue": "name 'false' is not defined",
     "output_type": "error",
     "traceback": [
      "\u001b[1;31m---------------------------------------------------------------------------\u001b[0m",
      "\u001b[1;31mNameError\u001b[0m                                 Traceback (most recent call last)",
      "Cell \u001b[1;32mIn[21], line 2\u001b[0m\n\u001b[0;32m      1\u001b[0m \u001b[38;5;66;03m#f)\u001b[39;00m\n\u001b[1;32m----> 2\u001b[0m b\u001b[38;5;241m=\u001b[39mfalse\n",
      "\u001b[1;31mNameError\u001b[0m: name 'false' is not defined"
     ]
    }
   ],
   "source": [
    "#f)\n",
    "b=false #it is a boolean expression but we need to check condition andd apply it it gives name error with message \"name 'false' is not defined\""
   ]
  },
  {
   "cell_type": "code",
   "execution_count": null,
   "id": "133ff2fa-69f9-4c24-acca-2ee6a85efb59",
   "metadata": {},
   "outputs": [],
   "source": [
    "\"\"\"\n",
    "Task 4: Using id()\n",
    "a) Create a variable named marks and assign it a float value between 0 and 100. Print the value, the id, and the data type.\n",
    "b) Change the value of marks to any other float value between 0 and 100. Print the value of marks, the id, and the data type.\n",
    "c) Is the id for the marks variable in the last two questions the same or different? Explain with justification.\"\"\""
   ]
  },
  {
   "cell_type": "code",
   "execution_count": 23,
   "id": "b09cf567-6595-4fbe-ba0a-4e6c7b214981",
   "metadata": {},
   "outputs": [
    {
     "name": "stdout",
     "output_type": "stream",
     "text": [
      "the value of marks:   56.6  ,its id is: 1806442209072  ,its data type  is: <class 'float'>\n"
     ]
    }
   ],
   "source": [
    "#a) Create a variable named marks and assign it a float value between 0 and 100. Print the value, the id, and the data type.\n",
    "marks=56.6\n",
    "print(\"the value of marks:  \",marks ,\" ,its id is:\", id(marks),\" ,its data type  is:\",type(marks))"
   ]
  },
  {
   "cell_type": "code",
   "execution_count": 25,
   "id": "f3885e51-1259-43e1-9872-91cccc11e592",
   "metadata": {},
   "outputs": [
    {
     "name": "stdout",
     "output_type": "stream",
     "text": [
      "the value of marks:   96.6  ,its id is: 1806465624432  ,its data type  is: <class 'float'>\n"
     ]
    }
   ],
   "source": [
    "#b) Change the value of marks to any other float value between 0 and 100. Print the value of marks, the id, and the data type.\n",
    "marks=96.6\n",
    "print(\"the value of marks:  \",marks ,\" ,its id is:\", id(marks),\" ,its data type  is:\",type(marks))"
   ]
  },
  {
   "cell_type": "code",
   "execution_count": 27,
   "id": "bc9f22cc-a519-47a9-8e84-9ad1abea68ae",
   "metadata": {},
   "outputs": [],
   "source": [
    "#c) Is the id for the marks variable in the last two questions the same or different? Explain with justification."
   ]
  },
  {
   "cell_type": "code",
   "execution_count": 29,
   "id": "c76c34b9-9ed5-4db8-891a-e24e90e3a270",
   "metadata": {},
   "outputs": [],
   "source": [
    "#it is different the id for marks at value 56.6 is 2204370730736 when marks value\n",
    "#is changed from 56.6 to 96.6 the id also changed from 2204370730736 to 2204339443024 "
   ]
  },
  {
   "cell_type": "code",
   "execution_count": null,
   "id": "a052f548-ca88-4fe1-955c-fa3c52b463a1",
   "metadata": {},
   "outputs": [],
   "source": [
    "\"\"\" \n",
    "Task 5: Formatting the Output\n",
    "a) Define a variable maxmarks and assign it the value 100. Divide marks by maxmarks. Print the output as a percentage. Example of expected output: 87.00%\n",
    "b) Print the value of the variable fullname by joining firstname and lastname.\n",
    "Example of expected output: John Doe\n",
    "Note: These are the variables from Task 1.\n",
    "c) Print the value of the variable fullname with the text \"scored\", followed by the percentage of marks. Example of expected output: John Doe scored 87.00%.\"\"\""
   ]
  },
  {
   "cell_type": "code",
   "execution_count": 31,
   "id": "9b60d0a8-6dfd-4a2d-9b1e-9812d20659a4",
   "metadata": {},
   "outputs": [
    {
     "name": "stdout",
     "output_type": "stream",
     "text": [
      "96.60%\n"
     ]
    }
   ],
   "source": [
    "#a) Define a variable maxmarks and assign it the value 100. Divide marks by maxmarks. \n",
    "#Print the output as a percentage. Example of expected output: 87.00%\n",
    "maxmarks=100\n",
    "pervar=(marks/ maxmarks)*100\n",
    "print(f\"{pervar:.2f}%\") # we got  0.966   when dividing marks from maxmarks then we multiplied it by 100 then we  used string to display % with  two decimal places"
   ]
  },
  {
   "cell_type": "code",
   "execution_count": 33,
   "id": "650dcc20-aca0-4cc1-89c4-9744e51e25b4",
   "metadata": {
    "scrolled": true
   },
   "outputs": [
    {
     "name": "stdout",
     "output_type": "stream",
     "text": [
      "Santiago Mathew\n"
     ]
    }
   ],
   "source": [
    "#b) Print the value of the variable fullname by joining firstname and lastname.\n",
    "#Example of expected output: John Doe\n",
    "#Note: These are the variables from Task 1.\n",
    "print(firstname,lastname) # we got op expected we just put a comma betwwen two variable and printed it"
   ]
  },
  {
   "cell_type": "code",
   "execution_count": 35,
   "id": "d72a5d3f-f14c-4cd7-b919-d7afa62dfc6f",
   "metadata": {},
   "outputs": [
    {
     "name": "stdout",
     "output_type": "stream",
     "text": [
      "Santiago Mathew 96.60%\n"
     ]
    }
   ],
   "source": [
    "#c) Print the value of the variable fullname with the text \"scored\", followed by the percentage of marks. Example of expected output: John Doe scored 87.00%\n",
    "fullname =\"scored\"\n",
    "print (\"Santiago Mathew\" ,f\"{pervar:.2f}%\") # we used \"Santiago Mathew\" and  f string on pervar with 2 decimal and  %  for displaying symbol  "
   ]
  },
  {
   "cell_type": "code",
   "execution_count": null,
   "id": "df3c6760-a407-4691-85e6-8cb9beab5065",
   "metadata": {},
   "outputs": [],
   "source": [
    "\"\"\"\n",
    "Task 6: Arithmetic Operations\n",
    "Execute the following expressions and explain the observations of the output:\n",
    "a) 1+ \"2\"\n",
    "b) \"1\" + \"2\"\n",
    "c) 1/2\n",
    "d) 1//2                                     \"\"\""
   ]
  },
  {
   "cell_type": "code",
   "execution_count": 37,
   "id": "be1f9636-b016-4670-9b90-6fc640eeaaed",
   "metadata": {},
   "outputs": [
    {
     "ename": "TypeError",
     "evalue": "unsupported operand type(s) for +: 'int' and 'str'",
     "output_type": "error",
     "traceback": [
      "\u001b[1;31m---------------------------------------------------------------------------\u001b[0m",
      "\u001b[1;31mTypeError\u001b[0m                                 Traceback (most recent call last)",
      "Cell \u001b[1;32mIn[37], line 2\u001b[0m\n\u001b[0;32m      1\u001b[0m \u001b[38;5;66;03m# a)\u001b[39;00m\n\u001b[1;32m----> 2\u001b[0m \u001b[38;5;241m1\u001b[39m\u001b[38;5;241m+\u001b[39m \u001b[38;5;124m\"\u001b[39m\u001b[38;5;124m2\u001b[39m\u001b[38;5;124m\"\u001b[39m\n",
      "\u001b[1;31mTypeError\u001b[0m: unsupported operand type(s) for +: 'int' and 'str'"
     ]
    }
   ],
   "source": [
    "# a)\n",
    "1+ \"2\" # we got type error for adding two diff type a integer with a string"
   ]
  },
  {
   "cell_type": "code",
   "execution_count": 39,
   "id": "ec1a6b01-d46f-4695-b302-ad7d43d6fafb",
   "metadata": {},
   "outputs": [
    {
     "data": {
      "text/plain": [
       "'12'"
      ]
     },
     "execution_count": 39,
     "metadata": {},
     "output_type": "execute_result"
    }
   ],
   "source": [
    "# b)\n",
    "\"1\" + \"2\"# we  got a string '12' from it concated "
   ]
  },
  {
   "cell_type": "code",
   "execution_count": 41,
   "id": "eae83df5-c6b1-466e-8767-d93874e08cd8",
   "metadata": {},
   "outputs": [
    {
     "data": {
      "text/plain": [
       "0.5"
      ]
     },
     "execution_count": 41,
     "metadata": {},
     "output_type": "execute_result"
    }
   ],
   "source": [
    "# c)\n",
    "1/2 # we got div  output in float  type"
   ]
  },
  {
   "cell_type": "code",
   "execution_count": 43,
   "id": "e450b038-be2b-4b9d-9b1b-04d5205fa0fa",
   "metadata": {},
   "outputs": [
    {
     "data": {
      "text/plain": [
       "0"
      ]
     },
     "execution_count": 43,
     "metadata": {},
     "output_type": "execute_result"
    }
   ],
   "source": [
    "#  d)\n",
    "1//2  # we got div  output in int type"
   ]
  },
  {
   "cell_type": "code",
   "execution_count": null,
   "id": "636dc01a-6159-4b69-8966-69c306ccd84c",
   "metadata": {},
   "outputs": [],
   "source": [
    "\"\"\"\n",
    "Task 7: Logical Operations\n",
    "Execute the following commands and explain the output\n",
    "for each:\n",
    "a) True and True b) True and False c) False or True d) False or False                   \"\"\""
   ]
  },
  {
   "cell_type": "code",
   "execution_count": 45,
   "id": "03aebb35-bfe8-4faa-8e40-0e7583be1de5",
   "metadata": {},
   "outputs": [
    {
     "data": {
      "text/plain": [
       "True"
      ]
     },
     "execution_count": 45,
     "metadata": {},
     "output_type": "execute_result"
    }
   ],
   "source": [
    "# a) True and True\n",
    "True and True # it gave true as true and true is the only condition in and which would give true"
   ]
  },
  {
   "cell_type": "code",
   "execution_count": 47,
   "id": "29f4073e-fb7d-4c7a-8efd-bac5417b37e1",
   "metadata": {},
   "outputs": [
    {
     "data": {
      "text/plain": [
       "False"
      ]
     },
     "execution_count": 47,
     "metadata": {},
     "output_type": "execute_result"
    }
   ],
   "source": [
    "# b) True and False\n",
    "True and False # it will give falsse as only case in and where it is true is when both are true"
   ]
  },
  {
   "cell_type": "code",
   "execution_count": 49,
   "id": "3420c82d-9c3d-4fbd-b14e-d37510abf40c",
   "metadata": {},
   "outputs": [
    {
     "data": {
      "text/plain": [
       "True"
      ]
     },
     "execution_count": 49,
     "metadata": {},
     "output_type": "execute_result"
    }
   ],
   "source": [
    "#c) False or True\n",
    "False or True # it will give true because any  one condition is true "
   ]
  },
  {
   "cell_type": "code",
   "execution_count": 51,
   "id": "fd100838-ec17-4aa9-a075-0ccbd30f6757",
   "metadata": {},
   "outputs": [
    {
     "data": {
      "text/plain": [
       "False"
      ]
     },
     "execution_count": 51,
     "metadata": {},
     "output_type": "execute_result"
    }
   ],
   "source": [
    "#d) False or False \n",
    "False or False # it will give false as both are false"
   ]
  },
  {
   "cell_type": "code",
   "execution_count": null,
   "id": "8ae8476f-049f-48e5-b53a-1fa39779d62e",
   "metadata": {},
   "outputs": [],
   "source": [
    "\"\"\"\n",
    "Task 8: Identity and Membership Operations\n",
    "a) Compare firstname and fullname using the \"in\" operator. Print and explain the output.\n",
    "b) Compare firstname and fullname using the \"is\" operator. Print and explain the output.  \"\"\""
   ]
  },
  {
   "cell_type": "code",
   "execution_count": 53,
   "id": "1a030d91-c6db-4d4b-bd97-b0185f3bf65b",
   "metadata": {},
   "outputs": [
    {
     "data": {
      "text/plain": [
       "True"
      ]
     },
     "execution_count": 53,
     "metadata": {},
     "output_type": "execute_result"
    }
   ],
   "source": [
    "#a) Compare firstname and fullname using the \"in\" operator. Print and explain the output.\n",
    "firstname=\"Santiago\"\n",
    "fullname=\"Santiago Mathew\"\n",
    "firstname in fullname # as Santiago is in Santiago Mathew it generates true"
   ]
  },
  {
   "cell_type": "code",
   "execution_count": null,
   "id": "4b1e9275-ea4a-47d6-85e3-373a425d04d5",
   "metadata": {},
   "outputs": [],
   "source": [
    "#Compare firstname and fullname using the \"is\" operator. Print and explain the output."
   ]
  },
  {
   "cell_type": "code",
   "execution_count": 55,
   "id": "4598762c-0b23-4415-ac24-aaaa069effcc",
   "metadata": {},
   "outputs": [
    {
     "name": "stdout",
     "output_type": "stream",
     "text": [
      "False\n",
      "1806497910320\n",
      "1806443691120\n"
     ]
    }
   ],
   "source": [
    "print(firstname is fullname) # it returned false because  firstname id is 2204317013360 and fullname id is 2204371537584 it is not equal\n",
    "print(id(fullname))\n",
    "print(id(firstname))"
   ]
  },
  {
   "cell_type": "code",
   "execution_count": 57,
   "id": "d4a4c48e-c408-42cc-81df-9b735ba35ba3",
   "metadata": {},
   "outputs": [
    {
     "name": "stdout",
     "output_type": "stream",
     "text": [
      "66\n",
      "1024\n"
     ]
    }
   ],
   "source": [
    "\"\"\"\n",
    "Task 9: Associativity\n",
    "Given that a=4, b=3, c=2, d = a**b+c, and e = a**(b+c)\n",
    "a) Print the value of d.\n",
    "b) Print the value of e.\n",
    "c) Explain why the values of d and e are same or different.              \"\"\"\n",
    "a=4\n",
    "b=3 \n",
    "c=2 \n",
    "d = a**b+c\n",
    "e = a**(b+c)\n",
    "# a\n",
    "print(d)\n",
    "#b\n",
    "print(e)\n",
    "#c\n",
    "#\n",
    "# in d we did't add paranthesis so following bodmas a**b which is 4**3=64 and then added 2 which gave 66\n",
    "# wheras in e we had parenthesis so it added b+c first which is  5 aka (3+2) then 4**5 so it  gave 1024"
   ]
  },
  {
   "cell_type": "code",
   "execution_count": null,
   "id": "7d599e13-21b2-484f-939e-4d28a9b90237",
   "metadata": {},
   "outputs": [],
   "source": []
  }
 ],
 "metadata": {
  "kernelspec": {
   "display_name": "Python [conda env:base] *",
   "language": "python",
   "name": "conda-base-py"
  },
  "language_info": {
   "codemirror_mode": {
    "name": "ipython",
    "version": 3
   },
   "file_extension": ".py",
   "mimetype": "text/x-python",
   "name": "python",
   "nbconvert_exporter": "python",
   "pygments_lexer": "ipython3",
   "version": "3.12.7"
  }
 },
 "nbformat": 4,
 "nbformat_minor": 5
}
