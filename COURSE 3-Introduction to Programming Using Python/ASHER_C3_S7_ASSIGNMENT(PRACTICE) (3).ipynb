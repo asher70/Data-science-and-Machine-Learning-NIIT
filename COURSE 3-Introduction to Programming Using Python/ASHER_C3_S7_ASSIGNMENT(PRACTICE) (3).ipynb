{
 "cells": [
  {
   "cell_type": "markdown",
   "id": "0c7aab12-c3ef-4263-b494-a453e479b0d4",
   "metadata": {},
   "source": [
    "\n",
    "Task 1\n",
    "Create the Product interface with an abstract method\n",
    "calculate_total_price."
   ]
  },
  {
   "cell_type": "code",
   "execution_count": 44,
   "id": "58db1788-b466-4e97-8a74-44de95f369ed",
   "metadata": {},
   "outputs": [],
   "source": [
    "from abc import ABC,abstractmethod\n",
    "class Product(ABC):\n",
    "    @abstractmethod\n",
    "    def calculate_total_price(self):\n",
    "        pass\n",
    "    "
   ]
  },
  {
   "cell_type": "markdown",
   "id": "a0b32f16-03ce-4cef-bd49-9c02883ccbae",
   "metadata": {},
   "source": [
    "\n",
    "Task 2\n",
    "Create concrete subclass DigitalProduct with the attributes such as product_name, price, weight, shipping charge, delivery_charge, and its own implementation of calculate_total_price()."
   ]
  },
  {
   "cell_type": "code",
   "execution_count": 46,
   "id": "9c78d7b5-cddd-4e18-aa08-ca4b1f2d1c31",
   "metadata": {},
   "outputs": [],
   "source": [
    "from abc import ABC,abstractmethod\n",
    "class Product(ABC):\n",
    "    @abstractmethod\n",
    "    def calculate_total_price():\n",
    "        pass\n",
    "class DigitalProduct(Product):\n",
    "    def __init__(self,product_name, price, weight, shipping_charge, delivery_charge):\n",
    "        self.product_name=product_name\n",
    "        self.price=price\n",
    "        self.weight=weight\n",
    "        self.shipping_charge=shipping_charge\n",
    "        self.delivery_charge=delivery_charge\n",
    "    def calculate_total_price(self):\n",
    "        return self.price+self.shipping_charge+self.delivery_charge"
   ]
  },
  {
   "cell_type": "code",
   "execution_count": 47,
   "id": "219fcd6f-8adc-45a3-9f7e-7c33d61d322f",
   "metadata": {},
   "outputs": [
    {
     "data": {
      "text/plain": [
       "520"
      ]
     },
     "execution_count": 47,
     "metadata": {},
     "output_type": "execute_result"
    }
   ],
   "source": [
    "A=DigitalProduct(\"Mouse\",120,5,300,100)\n",
    "A.calculate_total_price()"
   ]
  },
  {
   "cell_type": "markdown",
   "id": "38aca37e-7617-48a8-be80-4ff2ca91d81c",
   "metadata": {},
   "source": [
    "\n",
    "Task 3\n",
    "Create concrete subclass PhysicalProduct with the attributes such as product_name, price, weight, shipping charge, delivery_charge, and its own implementation of calculate_total_price()."
   ]
  },
  {
   "cell_type": "code",
   "execution_count": 49,
   "id": "d5de328e-5cf2-4714-83ea-8d34a6145c90",
   "metadata": {},
   "outputs": [],
   "source": [
    "from abc import ABC,abstractmethod\n",
    "class Product(ABC):\n",
    "    @abstractmethod\n",
    "    def calculate_total_price():\n",
    "        pass\n",
    "class DigitalProduct(Product):\n",
    "    def __init__(self,product_name, price, weight, shipping_charge, delivery_charge):\n",
    "        self.product_name=product_name\n",
    "        self.price=price\n",
    "        self.weight=weight\n",
    "        self.shipping_charge=shipping_charge\n",
    "        self.delivery_charge=delivery_charge\n",
    "    def calculate_total_price(self):\n",
    "        return self.price+self.shipping_charge+self.delivery_charge\n",
    "class PhysicalProduct(Product):\n",
    "    def __init__(self,product_name, price, weight, shipping_charge, delivery_charge):\n",
    "        self.product_name=product_name\n",
    "        self.price=price\n",
    "        self.weight=weight\n",
    "        self.shipping_charge=shipping_charge\n",
    "        self.delivery_charge=delivery_charge\n",
    "    def calculate_total_price(self):\n",
    "        return self.price*self.weight+self.shipping_charge*1.23+self.delivery_charge*1.15"
   ]
  },
  {
   "cell_type": "code",
   "execution_count": 50,
   "id": "bbea474e-6912-4b1f-95f1-76cc28d8e0d5",
   "metadata": {},
   "outputs": [
    {
     "data": {
      "text/plain": [
       "1834.0"
      ]
     },
     "execution_count": 50,
     "metadata": {},
     "output_type": "execute_result"
    }
   ],
   "source": [
    "A=PhysicalProduct(\"BARCELONA JERSEY\",135,10,300,100)\n",
    "A.calculate_total_price()"
   ]
  },
  {
   "cell_type": "markdown",
   "id": "864c5452-2bf5-4e8f-a062-853661f3914a",
   "metadata": {},
   "source": [
    "\n",
    "Task 4\n",
    "Create the Order class with methods to add items, get customer name, get items, and get the total price.\n",
    "Encapsulate customer name, items, and total price with appropriate data protection.\n",
    "Ensure that the add_item method updates the order's items list and total price accurately."
   ]
  },
  {
   "cell_type": "code",
   "execution_count": 52,
   "id": "727de4a9-cde7-4639-97c9-eb5e798f6f1d",
   "metadata": {},
   "outputs": [],
   "source": [
    "#Task 4 Create the Order class with methods to add items, get customer name, get items, \n",
    "#and get the total price. Encapsulate customer name, items, and total price with appropriate\n",
    "#data protection. Ensure that the add_item method updates the order's items list and total price accurately.\n",
    "class Order:\n",
    "    \n",
    "    def __init__(self,customer_name):\n",
    "        self.__customer_name=customer_name\n",
    "        self.__items=[]\n",
    "        self.__total_price=0\n",
    "    def add_items(self,item,price):\n",
    "        self.__items.append(item)\n",
    "        self.__total_price+=price\n",
    "    def get_customer_name(self):\n",
    "        return f'the customer name is:{self.__customer_name}'\n",
    "    def get_items(self):\n",
    "        return f'the items are:{self.__items}'\n",
    "    def get_total_price(self):\n",
    "        return f' total price is:{self.__total_price}'\n",
    "        \n"
   ]
  },
  {
   "cell_type": "code",
   "execution_count": 53,
   "id": "34b2077e-8a48-49dd-9f7a-84fb0e415b39",
   "metadata": {},
   "outputs": [
    {
     "name": "stdout",
     "output_type": "stream",
     "text": [
      "the customer name is:Mathew\n",
      "the items are:['Macbook']\n",
      " total price is:567\n"
     ]
    }
   ],
   "source": [
    "A=Order('Mathew')\n",
    "A.add_items('Macbook',567)\n",
    "print(A.get_customer_name())\n",
    "print(A.get_items())\n",
    "print(A.get_total_price())\n",
    "\n"
   ]
  },
  {
   "cell_type": "markdown",
   "id": "fa61d6f5-a6cc-4d6f-9db6-ddd5cc4075d4",
   "metadata": {},
   "source": [
    "\n",
    "Task 5\n",
    "Create a main function that simulates the process of placing orders in the online store.\n",
    "Instantiate products of different types and add them to orders.\n",
    "Display the customer's name, items in the order, and the total price for each order placed.\n",
    "Test the main function with various scenarios to ensure the system handles orders correctly."
   ]
  },
  {
   "cell_type": "code",
   "execution_count": 55,
   "id": "5ceb1356-7b2a-413d-bbb2-a59cae92e4ad",
   "metadata": {},
   "outputs": [
    {
     "name": "stdout",
     "output_type": "stream",
     "text": [
      "the customer name is:MATHEW\n",
      "the items are:['Mouse', 'BARCELONA JERSEY']\n",
      " total price is:2354.0\n",
      "the customer name is:THOMAS\n",
      "the items are:['HEADPHONE', 'HOLY BIBLE']\n",
      " total price is:2028.5\n"
     ]
    }
   ],
   "source": [
    "from abc import ABC,abstractmethod\n",
    "class Product(ABC):\n",
    "    @abstractmethod\n",
    "    def calculate_total_price():\n",
    "        pass\n",
    "class DigitalProduct(Product):\n",
    "    def __init__(self,product_name, price, weight, shipping_charge, delivery_charge):\n",
    "        self.product_name=product_name\n",
    "        self.price=price\n",
    "        self.weight=weight\n",
    "        self.shipping_charge=shipping_charge\n",
    "        self.delivery_charge=delivery_charge\n",
    "    def calculate_total_price(self):\n",
    "        return self.price+self.shipping_charge+self.delivery_charge\n",
    "class PhysicalProduct(Product):\n",
    "    def __init__(self,product_name, price, weight, shipping_charge, delivery_charge):\n",
    "        self.product_name=product_name\n",
    "        self.price=price\n",
    "        self.weight=weight\n",
    "        self.shipping_charge=shipping_charge\n",
    "        self.delivery_charge=delivery_charge\n",
    "    def calculate_total_price(self):\n",
    "        return self.price*self.weight+self.shipping_charge*1.23+self.delivery_charge*1.15\n",
    "\n",
    "class Order:\n",
    "    \n",
    "    def __init__(self,customer_name):\n",
    "        self.__customer_name=customer_name\n",
    "        self.__items=[]\n",
    "        self.__total_price=0.0\n",
    "    def add_items(self,item,price):\n",
    "        self.__items.append(item)\n",
    "        self.__total_price+=price\n",
    "    def get_customer_name(self):\n",
    "        return f'the customer name is:{self.__customer_name}'\n",
    "    def get_items(self):\n",
    "        return f'the items are:{self.__items}'\n",
    "    def get_total_price(self):\n",
    "        return f' total price is:{self.__total_price}'   \n",
    "def main():\n",
    "    A=Order('MATHEW')\n",
    "    AP=DigitalProduct(\"Mouse\",120,5,300,100)\n",
    "    #print(AP.calculate_total_price())\n",
    "    #print(AP.product_name)\n",
    "    A.add_items(AP.product_name,AP.calculate_total_price())\n",
    "    AB=PhysicalProduct(\"BARCELONA JERSEY\",135,10,300,100)\n",
    "    A.add_items(AB.product_name,AB.calculate_total_price())\n",
    "    print(A.get_customer_name())\n",
    "    print(A.get_items())\n",
    "    print(A.get_total_price())\n",
    "    B=Order('THOMAS')\n",
    "    BP=DigitalProduct(\"HEADPHONE\",12,15,250,90)\n",
    "    B.add_items(BP.product_name,BP.calculate_total_price())\n",
    "    BB=PhysicalProduct(\"HOLY BIBLE\",135,10,200,70)\n",
    "    B.add_items(BB.product_name,BB.calculate_total_price())\n",
    "    print(B.get_customer_name())\n",
    "    print(B.get_items())\n",
    "    print(B.get_total_price())\n",
    "if __name__==\"__main__\":\n",
    "    main()\n",
    "\n",
    "    \n"
   ]
  },
  {
   "cell_type": "code",
   "execution_count": 56,
   "id": "d5e9c19f-8fbf-4917-9d5f-2db5b621c042",
   "metadata": {},
   "outputs": [
    {
     "name": "stdout",
     "output_type": "stream",
     "text": [
      "the customer name is:MATHEW\n",
      "the items are:['Mouse', 'BARCELONA JERSEY']\n",
      " total price is:2354.0\n",
      "the customer name is:THOMAS\n",
      "the items are:['HEADPHONE', 'HOLY BIBLE']\n",
      " total price is:2028.5\n"
     ]
    }
   ],
   "source": [
    "main()"
   ]
  },
  {
   "cell_type": "code",
   "execution_count": null,
   "id": "a69b855a-32be-4341-be85-5e0acf41e7ec",
   "metadata": {},
   "outputs": [],
   "source": []
  },
  {
   "cell_type": "code",
   "execution_count": null,
   "id": "fcdc912e-2580-4845-b53a-5e79f037fd1d",
   "metadata": {},
   "outputs": [],
   "source": []
  },
  {
   "cell_type": "code",
   "execution_count": null,
   "id": "94dd152d-f1d5-4da8-82fb-7e92051a1a22",
   "metadata": {},
   "outputs": [],
   "source": []
  },
  {
   "cell_type": "code",
   "execution_count": null,
   "id": "995a255f-5d36-4293-94cf-2559f4ca9932",
   "metadata": {},
   "outputs": [],
   "source": []
  }
 ],
 "metadata": {
  "kernelspec": {
   "display_name": "Python [conda env:base] *",
   "language": "python",
   "name": "conda-base-py"
  },
  "language_info": {
   "codemirror_mode": {
    "name": "ipython",
    "version": 3
   },
   "file_extension": ".py",
   "mimetype": "text/x-python",
   "name": "python",
   "nbconvert_exporter": "python",
   "pygments_lexer": "ipython3",
   "version": "3.12.7"
  }
 },
 "nbformat": 4,
 "nbformat_minor": 5
}
