{
 "cells": [
  {
   "cell_type": "raw",
   "id": "0dedab8c-17e9-4f97-beed-ee94288f080f",
   "metadata": {},
   "source": [
    "\n",
    "Task 1\n",
    "Create a class named Product to encapsulate product information, including product ID, \n",
    "name, price, and quantity. Add inventory management operations such as add_product, display_product, \n",
    "and format_product. The add_product() method should validate the input. If the input is invalid, it \n",
    "should raise a ValueError with an appropriate error message.\""
   ]
  },
  {
   "cell_type": "code",
   "execution_count": 72,
   "id": "a91f75ed-13e9-41c5-aca6-aa56da82ac00",
   "metadata": {},
   "outputs": [],
   "source": [
    "class Product:\n",
    "    def __init__(self,productID,name,price,quantity):\n",
    "        self.__productID=productID\n",
    "        self.__name=name\n",
    "        self.__price=price\n",
    "        self.__quantity=quantity\n",
    "    def add_product(self):\n",
    "        try:\n",
    "           self.__productID= int(self.__productID)\n",
    "           self__.name=str(self__.name)\n",
    "           self.__price=float(self.__price) \n",
    "           self.__quantity=int(self.__quantity)\n",
    "        except ValueError :\n",
    "            print(\"It is value error enter a valid value \")\n",
    "        except TypeError:\n",
    "            print(\"IT is type error enter a number \")\n",
    "    def display_product(self):\n",
    "        print(f\"productID:{self.__productID},name:{self.__name},price:${self.__price},quantity:{self.__quantity}\")\n",
    "    def format_product(self):\n",
    "        pass\n",
    "        "
   ]
  },
  {
   "cell_type": "raw",
   "id": "1da68b11-a08a-4473-b888-e36a76314f4f",
   "metadata": {},
   "source": [
    "\n",
    "Task 2\n",
    "a. Accept the following information of two products:\n",
    "Product ID: 1001, Name: The Blue Umbrella, Price: $2.0, Quantity: 12\n",
    "Product ID: 1002, Name: The Room on the Roof, Price: $3.0, Quantity: 10"
   ]
  },
  {
   "cell_type": "code",
   "execution_count": 74,
   "id": "1fddafb2-dc29-4115-ab5f-c9950e5aa157",
   "metadata": {},
   "outputs": [
    {
     "name": "stdout",
     "output_type": "stream",
     "text": [
      "productID:1001,name: The Blue Umbrella,price:$2.0,quantity:12\n",
      "productID:1002,name: The Room on the Roof,price:$3.0,quantity:10\n"
     ]
    }
   ],
   "source": [
    "A=Product(1001,' The Blue Umbrella',2.0,12)\n",
    "A.display_product()\n",
    "A.format_product()\n",
    "B=Product(1002,' The Room on the Roof',3.0,10)\n",
    "B.display_product()\n",
    "B.format_product()"
   ]
  },
  {
   "cell_type": "raw",
   "id": "61ef5dee-03ad-4aa7-8384-4bed9ba21220",
   "metadata": {},
   "source": [
    "\n",
    "Task 2 (cont'd)\n",
    "b. Write product information to a file named\n",
    "\"product_detail.txt\":\n",
    "Product information includes product Id, name, price, quantity, and total price.\n",
    "Handle potential file I/O errors."
   ]
  },
  {
   "cell_type": "code",
   "execution_count": 9,
   "id": "6f05dbcf-3880-432e-a011-f4a15402ef55",
   "metadata": {},
   "outputs": [],
   "source": [
    "class Product:\n",
    "    def __init__(self,productID,name,price,quantity):\n",
    "        self.__productID=productID\n",
    "        self.__name=name\n",
    "        self.__price=price\n",
    "        self.__quantity=quantity\n",
    "        self.__total_price=0.0\n",
    "    def add_product(self):\n",
    "        try:\n",
    "           self.__productID=int(self.__productID)\n",
    "           self.__name=str(self__.name)\n",
    "           self.__price=float(self.__price) \n",
    "           self.__quantity=int(self.__quantity)\n",
    "        except ValueError :\n",
    "            print(\"It is value error enter a valid value \")\n",
    "        except TypeError:\n",
    "            print(\"IT is type error enter a number \")\n",
    "    def display_product(self):\n",
    "        print(f\"productID:{self.__productID}\\n,name:{self.__name}\\n price:${self.__price}\\n,quantity:{self.__quantity}\\n total_price:{self.__price*self.__quantity}\\n\")\n",
    "    def format_product(self):\n",
    "        pass\n",
    "    def get_productID(self):\n",
    "        return self.__productID\n",
    "    def get_name(self):\n",
    "        return self.__name\n",
    "    def get_price(self):\n",
    "        return self.__price\n",
    "    def get_quantity(self):\n",
    "        return self.__quantity\n",
    "    def total_price(self):\n",
    "        return self.__price*self.__quantity\n",
    "        \n",
    "       "
   ]
  },
  {
   "cell_type": "code",
   "execution_count": 11,
   "id": "acf292c7-43ff-4861-8018-e646ae170752",
   "metadata": {},
   "outputs": [],
   "source": [
    "\n",
    "A=Product(1001,' The Blue Umbrella',2.0,12)\n",
    "B=Product(1002,' The Room on the Roof',3.0,10)\n"
   ]
  },
  {
   "cell_type": "code",
   "execution_count": 13,
   "id": "4b7bf569-e0ff-4773-b96d-021b4645251f",
   "metadata": {},
   "outputs": [
    {
     "name": "stdout",
     "output_type": "stream",
     "text": [
      "All info written\n"
     ]
    }
   ],
   "source": [
    "try:\n",
    "    with open('product_detail.txt',\"w\") as file:\n",
    "        file.write(\"Details of  Products:\\n\")\n",
    "        file.write(f\"productID:{A.get_productID()}\\n\")\n",
    "        file.write(f\"Name:{A.get_name()}\\n\")\n",
    "        file.write(f\"price:{A.get_price()}\\n\")\n",
    "        file.write(f\"quantity:{A.get_quantity()}\\n\")\n",
    "        file.write(f\"total_price:{B.total_price()}\\n\")\n",
    "        #file.write(f\"\\n\")\n",
    "        file.write(f\"productID:{B.get_productID()}\\n\")\n",
    "        file.write(f\"Name:{B.get_name()}\\n\")\n",
    "        file.write(f\"price:{B.get_price()}\\n\")\n",
    "        file.write(f\"quantity:{B.get_quantity()}\\n\")\n",
    "        file.write(f\"total_price:{B.total_price()}\\n\")        \n",
    "    print(\"All info written\")\n",
    "except Exception as e:\n",
    "    print(f' The error is :{e}')\n",
    "    "
   ]
  },
  {
   "cell_type": "raw",
   "id": "edcb3edd-4593-46ef-b6f8-9e73617f5d9a",
   "metadata": {},
   "source": [
    "\n",
    "Task 3\n",
    "Read the product information from a file:\n",
    "a. File Handling:\n",
    "Open the specified file (filename) in read mode (\"r\") using a try...except block.\n",
    "Catch exceptions for various file-related errors:\n",
    "IsADirectoryError: If the provided filename is a directory, not a file.\n",
    "FileNotFoundError: If the specified file doesn't\n",
    "exist."
   ]
  },
  {
   "cell_type": "code",
   "execution_count": 358,
   "id": "91d4e912-131c-4aef-8c62-21fda94f25a9",
   "metadata": {},
   "outputs": [
    {
     "name": "stdout",
     "output_type": "stream",
     "text": [
      "Details of  Products:\n",
      "productID:1001\n",
      "Name: The Blue Umbrella\n",
      "price:2.0\n",
      "quantity:12\n",
      "total_price:30.0\n",
      "\n",
      "productID:1002\n",
      "Name: The Room on the Roof\n",
      "price:3.0\n",
      "quantity:10\n",
      "total_price:30.0\n",
      "\n"
     ]
    }
   ],
   "source": [
    "try:\n",
    "    with open(\"product_detail.txt\",\"r\") as file:\n",
    "        details=file.read()\n",
    "        print(details)\n",
    "except IsADirectoryError as iad:\n",
    "    print(f\" Error: file is a directory, not a file \")\n",
    "except  FileNotFoundError as fnfe:\n",
    "    print(f\" Error: file  doesn't exist \")\n",
    "\n",
    "    "
   ]
  },
  {
   "cell_type": "raw",
   "id": "c6a8f5e8-c8aa-4afa-a8a4-6d83998b6e8a",
   "metadata": {},
   "source": [
    "\n",
    "Task 3 (cont'd)\n",
    "PermissionError: If the program lacks permission to access the file.\n",
    "Exception: for any unexpected errors.\n",
    "Include a finally block to ensure the file is closed, regardless of exceptions."
   ]
  },
  {
   "cell_type": "code",
   "execution_count": 19,
   "id": "72bdec30-652c-44b4-9dd6-338698a0e530",
   "metadata": {},
   "outputs": [
    {
     "name": "stdout",
     "output_type": "stream",
     "text": [
      "Details of  Products:\n",
      "productID:1001\n",
      "Name: The Blue Umbrella\n",
      "price:2.0\n",
      "quantity:12\n",
      "total_price:30.0\n",
      "productID:1002\n",
      "Name: The Room on the Roof\n",
      "price:3.0\n",
      "quantity:10\n",
      "total_price:30.0\n",
      "\n",
      "it is over\n"
     ]
    }
   ],
   "source": [
    "try:\n",
    "    with open(\"product_detail.txt\",\"r\") as file:\n",
    "        details=file.read()\n",
    "        print(details)\n",
    "except IsADirectoryError as iad:\n",
    "    print(f\" Error: file is a directory, not a file \")\n",
    "except  FileNotFoundError as fnfe:\n",
    "    print(f\" Error: file  doesn't exist \")\n",
    "except PermissionError as pe:\n",
    "    print(f\" Error: program lacks permission to access the file \")\n",
    "except Exception as e:\n",
    "    print(f\"Error:any unexpected errors\")\n",
    "finally:\n",
    "    print(\"it is over\")"
   ]
  },
  {
   "cell_type": "raw",
   "id": "5e189ff2-3ab3-4ba5-a705-2a3b9333c901",
   "metadata": {},
   "source": [
    "\n",
    "Task 3 (cont'd)\n",
    "b. Data Processing:\n",
    "• Skip the first line of the file (assuming it's a header\n",
    "row).\n",
    "Read the remaining lines using readlines().\n",
    "Iterate through each line:\n",
    "Split the line by commas using strip().split(\",\") to\n",
    "extract product data.\n",
    "Convert the extracted data into appropriate data types\n",
    "(e.g., int for quantity, float for price, etc.) within a\n",
    "try...except block."
   ]
  },
  {
   "cell_type": "code",
   "execution_count": 77,
   "id": "59ea7a67-b3d2-4b46-a30d-12e789c13301",
   "metadata": {},
   "outputs": [
    {
     "name": "stdout",
     "output_type": "stream",
     "text": [
      "['productID:1001\\n', 'Name: The Blue Umbrella\\n', 'price:2.0\\n', 'quantity:12\\n', 'total_price:30.0\\n', 'productID:1002\\n', 'Name: The Room on the Roof\\n', 'price:3.0\\n', 'quantity:10\\n', 'total_price:30.0\\n']\n",
      "productID:1001\n",
      "Name: The Blue Umbrella\n",
      "price:2.0\n",
      "quantity:12\n",
      "total_price:30.0\n",
      "productID:1002\n",
      "Name: The Room on the Roof\n",
      "price:3.0\n",
      "quantity:10\n",
      "total_price:30.0\n"
     ]
    }
   ],
   "source": [
    "with open(\"product_detail.txt\",\"r\") as file:\n",
    "    j=[]\n",
    "    lines=file.readlines()[1::]\n",
    "    print(lines)\n",
    "    for l in lines:\n",
    "        p=l.strip().split(\",\")\n",
    "        t=p[0]\n",
    "        try:\n",
    "            k=t.split(\":\")\n",
    "            k[0]=str(k[0])\n",
    "            if \".\" in  k[1]:\n",
    "                k[1]= float(k[1])\n",
    "            elif \" \" in k[1]:\n",
    "                k[1]=str(k[1])\n",
    "            else:\n",
    "                k[1]=int(k[1])\n",
    "            print(f\"{k[0]}:{k[1]}\")\n",
    "        except  IndexError as IE:\n",
    "            print(f\"Error:{IE}\")\n",
    "        \n",
    "\n"
   ]
  },
  {
   "cell_type": "raw",
   "id": "a4663491-38a6-4e9e-ae1c-ecf4d5d60cc2",
   "metadata": {},
   "source": [
    "\n",
    "Task 3 (cont'd)\n",
    "Catche ValueError exceptions if data conversion fails, indicating an error parsing the line.\n",
    "If data conversion is successful, create a Product object (assuming a Product class exists) and populate its attributes with the extracted data. Call a display_product() method (assuming it exists within the Product class) to format the product information for display.\n",
    "Append the formatted product information to a products list."
   ]
  },
  {
   "cell_type": "code",
   "execution_count": 1,
   "id": "4ad14f23-da92-4d3e-b698-1ee53e4fdf1f",
   "metadata": {},
   "outputs": [],
   "source": [
    "class Product:\n",
    "    def __init__(self,productID,name,price,quantity):\n",
    "        self.__productID=productID\n",
    "        self.__name=name\n",
    "        self.__price=price\n",
    "        self.__quantity=quantity\n",
    "        self.__total_price=0.0\n",
    "    def add_product(self):\n",
    "        try:\n",
    "           self.__productID== int(self.__productID)\n",
    "           self.__name==str(self__.name)\n",
    "           self.__price==float(self.__price) \n",
    "           self.__quantity==int(self.__quantity)\n",
    "        except ValueError :\n",
    "            print(\"It is value error enter a valid value \")\n",
    "        except TypeError:\n",
    "            print(\"IT is type error enter a number \")\n",
    "    def display_product(self):\n",
    "        print(f\"productID:{self.__productID}\\n,name:{self.__name}\\n price:${self.__price}\\n,quantity:{self.__quantity}\\n total_price:{self.__price*self.__quantity}\\n\")\n",
    "    def format_product(self):\n",
    "        pass\n",
    "    def get_productID(self):\n",
    "        return self.__productID\n",
    "    def get_name(self):\n",
    "        return self.__name\n",
    "    def get_price(self):\n",
    "        return self.__price\n",
    "    def get_quantity(self):\n",
    "        return self.__quantity\n",
    "    def total_price(self):\n",
    "        return self.__price*self.__quantity\n",
    "        \n",
    "       "
   ]
  },
  {
   "cell_type": "code",
   "execution_count": 34,
   "id": "48075aa5-58ff-4e77-88dc-3d94adef366b",
   "metadata": {},
   "outputs": [
    {
     "name": "stdout",
     "output_type": "stream",
     "text": [
      "['productID:1001\\n', 'Name: The Blue Umbrella\\n', 'price:2.0\\n', 'quantity:12\\n', 'total_price:30.0\\n', 'productID:1002\\n', 'Name: The Room on the Roof\\n', 'price:3.0\\n', 'quantity:10\\n', 'total_price:30.0\\n']\n",
      "productID:1001\n",
      ",name: The Blue Umbrella\n",
      " price:$2.0\n",
      ",quantity:12\n",
      " total_price:24.0\n",
      "\n",
      "productID:1002\n",
      ",name: The Room on the Roof\n",
      " price:$3.0\n",
      ",quantity:10\n",
      " total_price:30.0\n",
      "\n",
      "total_price:30.0\n",
      "\n"
     ]
    }
   ],
   "source": [
    "with open(\"product_detail.txt\",\"r\") as file:\n",
    "    j=[]\n",
    "    #l=[]\n",
    "    lines=file.readlines()[1::]\n",
    "    print(lines)\n",
    "    for l in lines:\n",
    "        p=l.strip().split(\",\")\n",
    "        t=p[0]\n",
    "        try:\n",
    "            k=t.split(\":\")\n",
    "            k[0]=str(k[0])\n",
    "            if \".\" in  k[1]:\n",
    "                k[1]= float(k[1])\n",
    "            elif \" \" in k[1]:\n",
    "                k[1]=str(k[1])\n",
    "            else:\n",
    "                k[1]=int(k[1])\n",
    "            #print(f\"{k[0]}:{k[1]}\")\n",
    "            j.append(k[1])\n",
    "            #l.append('{k[0]}:{k[1]}')\n",
    "        except  IndexError as IE:\n",
    "            print(f\"Error:{IE}\")\n",
    "        except ValueError as VE:\n",
    "            print(f\"Error: parsing the line\")\n",
    "    A=Product(j[0],j[1],j[2],j[3])\n",
    "    B=Product(j[5],j[6],j[7],j[8])\n",
    "    A.display_product()\n",
    "    B.display_product()\n",
    "    print(l)\n",
    "  "
   ]
  },
  {
   "cell_type": "raw",
   "id": "3b05f64c-2ebe-4d03-8735-f9e178000c31",
   "metadata": {},
   "source": [
    "\n",
    "Task 3 (cont'd)\n",
    "c.\n",
    "Output:\n",
    "• If any products were successfully processed, iterate\n",
    "through the products list and print each product's\n",
    "information."
   ]
  },
  {
   "cell_type": "code",
   "execution_count": 36,
   "id": "6df298fe-7a82-4e7c-9f75-81f08b7c82c5",
   "metadata": {},
   "outputs": [
    {
     "name": "stdout",
     "output_type": "stream",
     "text": [
      "1001\n",
      " The Blue Umbrella\n",
      "2.0\n",
      "12\n",
      "30.0\n",
      "1002\n",
      " The Room on the Roof\n",
      "3.0\n",
      "10\n",
      "30.0\n"
     ]
    }
   ],
   "source": [
    "for i in j:\n",
    "    print(i)"
   ]
  }
 ],
 "metadata": {
  "kernelspec": {
   "display_name": "Python [conda env:base] *",
   "language": "python",
   "name": "conda-base-py"
  },
  "language_info": {
   "codemirror_mode": {
    "name": "ipython",
    "version": 3
   },
   "file_extension": ".py",
   "mimetype": "text/x-python",
   "name": "python",
   "nbconvert_exporter": "python",
   "pygments_lexer": "ipython3",
   "version": "3.12.7"
  }
 },
 "nbformat": 4,
 "nbformat_minor": 5
}
