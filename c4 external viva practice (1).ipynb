{
 "cells": [
  {
   "cell_type": "markdown",
   "id": "9884f480",
   "metadata": {},
   "source": [
    "# Python and SQL Practice Questions"
   ]
  },
  {
   "cell_type": "markdown",
   "id": "0c4ae23c",
   "metadata": {},
   "source": [
    "## NumPy Array Creation"
   ]
  },
  {
   "cell_type": "code",
   "execution_count": 3,
   "id": "88ec8e58-76d4-42ca-8097-a481b178d307",
   "metadata": {},
   "outputs": [],
   "source": [
    "import numpy as np\n",
    "import pandas as pd\n",
    "import matplotlib.pyplot as plt\n",
    "import seaborn as sns "
   ]
  },
  {
   "cell_type": "markdown",
   "id": "2f4bf731",
   "metadata": {},
   "source": [
    "- Create a 1D NumPy array of integers from 1 to 10."
   ]
  },
  {
   "cell_type": "code",
   "execution_count": 5,
   "id": "fde4e404-1381-4a8e-88a4-9b73f107da09",
   "metadata": {},
   "outputs": [
    {
     "data": {
      "text/plain": [
       "array([ 1,  2,  3,  4,  5,  6,  7,  8,  9, 10])"
      ]
     },
     "execution_count": 5,
     "metadata": {},
     "output_type": "execute_result"
    }
   ],
   "source": [
    "np.arange(1,11)"
   ]
  },
  {
   "cell_type": "markdown",
   "id": "f6d7af56",
   "metadata": {},
   "source": [
    "- Create a 2D NumPy array with shape (3,4) filled with random integers."
   ]
  },
  {
   "cell_type": "code",
   "execution_count": 7,
   "id": "9ef7f715-0ff1-473e-856a-585483a7d22a",
   "metadata": {},
   "outputs": [
    {
     "data": {
      "text/plain": [
       "array([[91, 75, 38, 67],\n",
       "       [52, 54, 81, 29],\n",
       "       [98, 22, 11, 39]])"
      ]
     },
     "execution_count": 7,
     "metadata": {},
     "output_type": "execute_result"
    }
   ],
   "source": [
    "np.random.randint(1,100,size=(3,4))"
   ]
  },
  {
   "cell_type": "markdown",
   "id": "52f43b3b",
   "metadata": {},
   "source": [
    "- Convert a list `[[1,2,3], [4,5,6], [7,8,9]]` into a NumPy array."
   ]
  },
  {
   "cell_type": "code",
   "execution_count": 9,
   "id": "241a41a6-daf6-40d3-b012-08743a6a5f34",
   "metadata": {},
   "outputs": [
    {
     "data": {
      "text/plain": [
       "array([[1, 2, 3],\n",
       "       [4, 5, 6],\n",
       "       [7, 8, 9]])"
      ]
     },
     "execution_count": 9,
     "metadata": {},
     "output_type": "execute_result"
    }
   ],
   "source": [
    "p=[[1,2,3], [4,5,6], [7,8,9]]\n",
    "np.array(p)"
   ]
  },
  {
   "cell_type": "markdown",
   "id": "45f000e9",
   "metadata": {},
   "source": [
    "- Create an array of 10 zeros and another of 10 ones."
   ]
  },
  {
   "cell_type": "code",
   "execution_count": 11,
   "id": "184a02f3-fb57-4543-bec8-39ae2d62f0a1",
   "metadata": {},
   "outputs": [
    {
     "data": {
      "text/plain": [
       "array([0., 0., 0., 0., 0., 0., 0., 0., 0., 0.])"
      ]
     },
     "execution_count": 11,
     "metadata": {},
     "output_type": "execute_result"
    }
   ],
   "source": [
    "np.zeros(10)"
   ]
  },
  {
   "cell_type": "code",
   "execution_count": 12,
   "id": "aa19519f-5fcd-4dc1-832e-1d620b0acbda",
   "metadata": {},
   "outputs": [
    {
     "data": {
      "text/plain": [
       "array([1., 1., 1., 1., 1., 1., 1., 1., 1., 1.])"
      ]
     },
     "execution_count": 12,
     "metadata": {},
     "output_type": "execute_result"
    }
   ],
   "source": [
    "np.ones(10)"
   ]
  },
  {
   "cell_type": "markdown",
   "id": "5f4ab2d5",
   "metadata": {},
   "source": [
    "- Generate an array of 50 evenly spaced numbers between 0 and 1."
   ]
  },
  {
   "cell_type": "code",
   "execution_count": 14,
   "id": "f571447f-1564-4c98-84e1-98631d6ebce7",
   "metadata": {},
   "outputs": [
    {
     "data": {
      "text/plain": [
       "array([0, 1, 0, 0, 1, 0, 0, 0, 0, 0, 0, 1, 0, 0, 1, 0, 0, 0, 1, 0, 0, 1,\n",
       "       0, 0, 0, 0, 1, 0, 1, 1, 1, 1, 0, 0, 0, 1, 1, 1, 0, 1, 0, 1, 0, 0,\n",
       "       1, 1, 0, 1, 0, 1])"
      ]
     },
     "execution_count": 14,
     "metadata": {},
     "output_type": "execute_result"
    }
   ],
   "source": [
    "np.random.randint(0,2,50)"
   ]
  },
  {
   "cell_type": "markdown",
   "id": "43a4afe4",
   "metadata": {},
   "source": [
    "## Pandas Series Creation"
   ]
  },
  {
   "cell_type": "markdown",
   "id": "d0e85651",
   "metadata": {},
   "source": [
    "- Create a Pandas Series from a list `[10, 20, 30, 40]`."
   ]
  },
  {
   "cell_type": "code",
   "execution_count": 17,
   "id": "baa157d3-a329-4eb1-ac5c-7b8ae37a23c6",
   "metadata": {},
   "outputs": [
    {
     "data": {
      "text/plain": [
       "0    10\n",
       "1    20\n",
       "2    30\n",
       "3    40\n",
       "dtype: int64"
      ]
     },
     "execution_count": 17,
     "metadata": {},
     "output_type": "execute_result"
    }
   ],
   "source": [
    "l=[10, 20, 30, 40]\n",
    "p=pd.Series(l)\n",
    "p.reset_index(drop=True)"
   ]
  },
  {
   "cell_type": "markdown",
   "id": "533a11cd",
   "metadata": {},
   "source": [
    "- Create a Series from a dictionary: `{'a': 100, 'b': 200, 'c': 300}`."
   ]
  },
  {
   "cell_type": "code",
   "execution_count": 19,
   "id": "b3b25f65-80a8-44c8-b937-68736670d0a3",
   "metadata": {},
   "outputs": [
    {
     "data": {
      "text/plain": [
       "a    100\n",
       "b    200\n",
       "c    300\n",
       "d    400\n",
       "dtype: int64"
      ]
     },
     "execution_count": 19,
     "metadata": {},
     "output_type": "execute_result"
    }
   ],
   "source": [
    "diction={'a': 100, 'b': 200, 'c': 300,'d':400}\n",
    "D=pd.Series(diction)\n",
    "D"
   ]
  },
  {
   "cell_type": "markdown",
   "id": "ad949cf1",
   "metadata": {},
   "source": [
    "- Convert a NumPy array into a Pandas Series."
   ]
  },
  {
   "cell_type": "code",
   "execution_count": 21,
   "id": "fb8832a1-558d-4c78-9950-13e64a8f81be",
   "metadata": {},
   "outputs": [
    {
     "data": {
      "text/plain": [
       "0    75\n",
       "dtype: int64"
      ]
     },
     "execution_count": 21,
     "metadata": {},
     "output_type": "execute_result"
    }
   ],
   "source": [
    "p=np.random.randint(1,100)\n",
    "pd.Series(p)"
   ]
  },
  {
   "cell_type": "markdown",
   "id": "14dd44a5",
   "metadata": {},
   "source": [
    "- Change the index of a Series to `['A', 'B', 'C', 'D']`."
   ]
  },
  {
   "cell_type": "code",
   "execution_count": 23,
   "id": "47ce5a97-ffd1-40c9-98e3-132b12756f9a",
   "metadata": {},
   "outputs": [
    {
     "data": {
      "text/plain": [
       "a    100\n",
       "b    200\n",
       "c    300\n",
       "d    400\n",
       "dtype: int64"
      ]
     },
     "execution_count": 23,
     "metadata": {},
     "output_type": "execute_result"
    }
   ],
   "source": [
    "diction={'a': 100, 'b': 200, 'c': 300,'d':400}\n",
    "D=pd.Series(diction)\n",
    "D"
   ]
  },
  {
   "cell_type": "code",
   "execution_count": 24,
   "id": "bdd92d0e-b1a4-4688-bcf9-1d85512577ac",
   "metadata": {},
   "outputs": [
    {
     "data": {
      "text/plain": [
       "A    100\n",
       "B    200\n",
       "C    300\n",
       "D    400\n",
       "dtype: int64"
      ]
     },
     "execution_count": 24,
     "metadata": {},
     "output_type": "execute_result"
    }
   ],
   "source": [
    "D.index=['A', 'B', 'C', 'D']\n",
    "D"
   ]
  },
  {
   "cell_type": "markdown",
   "id": "df3841b6",
   "metadata": {},
   "source": [
    "## DataFrame Creation"
   ]
  },
  {
   "cell_type": "markdown",
   "id": "50ed2acc",
   "metadata": {},
   "source": [
    "- Create a DataFrame from a dictionary:\n",
    "```python\n",
    "data = {'Name': ['Alice', 'Bob', 'Charlie'], 'Age': [25, 30, 35], 'Salary': [50000, 60000, 70000]}\n",
    "```"
   ]
  },
  {
   "cell_type": "code",
   "execution_count": 27,
   "id": "1e09dff4-5d40-477c-b41a-c3124238a3f3",
   "metadata": {},
   "outputs": [
    {
     "data": {
      "text/html": [
       "<div>\n",
       "<style scoped>\n",
       "    .dataframe tbody tr th:only-of-type {\n",
       "        vertical-align: middle;\n",
       "    }\n",
       "\n",
       "    .dataframe tbody tr th {\n",
       "        vertical-align: top;\n",
       "    }\n",
       "\n",
       "    .dataframe thead th {\n",
       "        text-align: right;\n",
       "    }\n",
       "</style>\n",
       "<table border=\"1\" class=\"dataframe\">\n",
       "  <thead>\n",
       "    <tr style=\"text-align: right;\">\n",
       "      <th></th>\n",
       "      <th>Name</th>\n",
       "      <th>Age</th>\n",
       "      <th>Salary</th>\n",
       "    </tr>\n",
       "  </thead>\n",
       "  <tbody>\n",
       "    <tr>\n",
       "      <th>0</th>\n",
       "      <td>Alice</td>\n",
       "      <td>25</td>\n",
       "      <td>50000</td>\n",
       "    </tr>\n",
       "    <tr>\n",
       "      <th>1</th>\n",
       "      <td>Bob</td>\n",
       "      <td>30</td>\n",
       "      <td>60000</td>\n",
       "    </tr>\n",
       "    <tr>\n",
       "      <th>2</th>\n",
       "      <td>Charlie</td>\n",
       "      <td>35</td>\n",
       "      <td>70000</td>\n",
       "    </tr>\n",
       "  </tbody>\n",
       "</table>\n",
       "</div>"
      ],
      "text/plain": [
       "      Name  Age  Salary\n",
       "0    Alice   25   50000\n",
       "1      Bob   30   60000\n",
       "2  Charlie   35   70000"
      ]
     },
     "execution_count": 27,
     "metadata": {},
     "output_type": "execute_result"
    }
   ],
   "source": [
    "data = {'Name': ['Alice', 'Bob', 'Charlie'], 'Age': [25, 30, 35], 'Salary': [50000, 60000, 70000]}\n",
    "pd.DataFrame(data)"
   ]
  },
  {
   "cell_type": "markdown",
   "id": "0c8fc173",
   "metadata": {},
   "source": [
    "- Create a DataFrame using a NumPy array."
   ]
  },
  {
   "cell_type": "code",
   "execution_count": 29,
   "id": "5aa2369d-0378-4d2d-b892-b58e34e42d1c",
   "metadata": {},
   "outputs": [
    {
     "data": {
      "text/html": [
       "<div>\n",
       "<style scoped>\n",
       "    .dataframe tbody tr th:only-of-type {\n",
       "        vertical-align: middle;\n",
       "    }\n",
       "\n",
       "    .dataframe tbody tr th {\n",
       "        vertical-align: top;\n",
       "    }\n",
       "\n",
       "    .dataframe thead th {\n",
       "        text-align: right;\n",
       "    }\n",
       "</style>\n",
       "<table border=\"1\" class=\"dataframe\">\n",
       "  <thead>\n",
       "    <tr style=\"text-align: right;\">\n",
       "      <th></th>\n",
       "      <th>goals</th>\n",
       "      <th>assists</th>\n",
       "      <th>yellowcard</th>\n",
       "      <th>redcard</th>\n",
       "    </tr>\n",
       "  </thead>\n",
       "  <tbody>\n",
       "    <tr>\n",
       "      <th>0</th>\n",
       "      <td>3</td>\n",
       "      <td>4</td>\n",
       "      <td>3</td>\n",
       "      <td>4</td>\n",
       "    </tr>\n",
       "    <tr>\n",
       "      <th>1</th>\n",
       "      <td>2</td>\n",
       "      <td>4</td>\n",
       "      <td>2</td>\n",
       "      <td>3</td>\n",
       "    </tr>\n",
       "    <tr>\n",
       "      <th>2</th>\n",
       "      <td>1</td>\n",
       "      <td>2</td>\n",
       "      <td>1</td>\n",
       "      <td>3</td>\n",
       "    </tr>\n",
       "  </tbody>\n",
       "</table>\n",
       "</div>"
      ],
      "text/plain": [
       "   goals  assists  yellowcard  redcard\n",
       "0      3        4           3        4\n",
       "1      2        4           2        3\n",
       "2      1        2           1        3"
      ]
     },
     "execution_count": 29,
     "metadata": {},
     "output_type": "execute_result"
    }
   ],
   "source": [
    "pd.DataFrame(np.random.randint(1,5,size=(3,4)),columns=['goals','assists','yellowcard','redcard'])"
   ]
  },
  {
   "cell_type": "markdown",
   "id": "1335d111",
   "metadata": {},
   "source": [
    "- Create a DataFrame with missing values."
   ]
  },
  {
   "cell_type": "code",
   "execution_count": 31,
   "id": "d4406dda-f2ea-43cd-b56d-3de75889d39d",
   "metadata": {},
   "outputs": [
    {
     "data": {
      "text/html": [
       "<div>\n",
       "<style scoped>\n",
       "    .dataframe tbody tr th:only-of-type {\n",
       "        vertical-align: middle;\n",
       "    }\n",
       "\n",
       "    .dataframe tbody tr th {\n",
       "        vertical-align: top;\n",
       "    }\n",
       "\n",
       "    .dataframe thead th {\n",
       "        text-align: right;\n",
       "    }\n",
       "</style>\n",
       "<table border=\"1\" class=\"dataframe\">\n",
       "  <thead>\n",
       "    <tr style=\"text-align: right;\">\n",
       "      <th></th>\n",
       "      <th>A</th>\n",
       "      <th>B</th>\n",
       "      <th>C</th>\n",
       "    </tr>\n",
       "  </thead>\n",
       "  <tbody>\n",
       "    <tr>\n",
       "      <th>0</th>\n",
       "      <td>1.0</td>\n",
       "      <td>NaN</td>\n",
       "      <td>8.0</td>\n",
       "    </tr>\n",
       "    <tr>\n",
       "      <th>1</th>\n",
       "      <td>2.0</td>\n",
       "      <td>5.0</td>\n",
       "      <td>9.0</td>\n",
       "    </tr>\n",
       "    <tr>\n",
       "      <th>2</th>\n",
       "      <td>NaN</td>\n",
       "      <td>6.0</td>\n",
       "      <td>10.0</td>\n",
       "    </tr>\n",
       "    <tr>\n",
       "      <th>3</th>\n",
       "      <td>4.0</td>\n",
       "      <td>7.0</td>\n",
       "      <td>NaN</td>\n",
       "    </tr>\n",
       "  </tbody>\n",
       "</table>\n",
       "</div>"
      ],
      "text/plain": [
       "     A    B     C\n",
       "0  1.0  NaN   8.0\n",
       "1  2.0  5.0   9.0\n",
       "2  NaN  6.0  10.0\n",
       "3  4.0  7.0   NaN"
      ]
     },
     "execution_count": 31,
     "metadata": {},
     "output_type": "execute_result"
    }
   ],
   "source": [
    "data = {'A': [1, 2, np.nan, 4], \n",
    "        'B': [np.nan, 5, 6, 7], \n",
    "        'C': [8, 9, 10, np.nan]}\n",
    "pd.DataFrame(data)"
   ]
  },
  {
   "cell_type": "markdown",
   "id": "900d272e",
   "metadata": {},
   "source": [
    "- Load data from an Excel file into a DataFrame."
   ]
  },
  {
   "cell_type": "code",
   "execution_count": 33,
   "id": "e939c01d-51cc-49d3-a2ba-48eb4f04851f",
   "metadata": {},
   "outputs": [
    {
     "data": {
      "text/html": [
       "<div>\n",
       "<style scoped>\n",
       "    .dataframe tbody tr th:only-of-type {\n",
       "        vertical-align: middle;\n",
       "    }\n",
       "\n",
       "    .dataframe tbody tr th {\n",
       "        vertical-align: top;\n",
       "    }\n",
       "\n",
       "    .dataframe thead th {\n",
       "        text-align: right;\n",
       "    }\n",
       "</style>\n",
       "<table border=\"1\" class=\"dataframe\">\n",
       "  <thead>\n",
       "    <tr style=\"text-align: right;\">\n",
       "      <th></th>\n",
       "      <th>Category</th>\n",
       "      <th>Category (copy)</th>\n",
       "      <th>City</th>\n",
       "      <th>Country</th>\n",
       "      <th>Customer ID</th>\n",
       "      <th>Customer Name</th>\n",
       "      <th>Order Date</th>\n",
       "      <th>Order ID</th>\n",
       "      <th>Postal Code</th>\n",
       "      <th>Product ID</th>\n",
       "      <th>...</th>\n",
       "      <th>Bottom Half</th>\n",
       "      <th>Discount</th>\n",
       "      <th>Number of Records</th>\n",
       "      <th>Outer Venn Position</th>\n",
       "      <th>Overlapping Customers</th>\n",
       "      <th>Overlapping Position</th>\n",
       "      <th>Profit</th>\n",
       "      <th>Profit Ratio</th>\n",
       "      <th>Quantity</th>\n",
       "      <th>Sales</th>\n",
       "    </tr>\n",
       "  </thead>\n",
       "  <tbody>\n",
       "    <tr>\n",
       "      <th>0</th>\n",
       "      <td>Furniture</td>\n",
       "      <td>Furniture</td>\n",
       "      <td>Henderson</td>\n",
       "      <td>United States</td>\n",
       "      <td>CG-12520</td>\n",
       "      <td>Claire Gute</td>\n",
       "      <td>2017-08-11 00:00:00</td>\n",
       "      <td>CA-2017-152156</td>\n",
       "      <td>42420.0</td>\n",
       "      <td>FUR-BO-10001798</td>\n",
       "      <td>...</td>\n",
       "      <td>1</td>\n",
       "      <td>0.00</td>\n",
       "      <td>1</td>\n",
       "      <td>0</td>\n",
       "      <td>0</td>\n",
       "      <td>0.0</td>\n",
       "      <td>41.9136</td>\n",
       "      <td>0.16</td>\n",
       "      <td>2</td>\n",
       "      <td>261.9600</td>\n",
       "    </tr>\n",
       "    <tr>\n",
       "      <th>1</th>\n",
       "      <td>Furniture</td>\n",
       "      <td>Furniture</td>\n",
       "      <td>Henderson</td>\n",
       "      <td>United States</td>\n",
       "      <td>CG-12520</td>\n",
       "      <td>Claire Gute</td>\n",
       "      <td>2017-08-11 00:00:00</td>\n",
       "      <td>CA-2017-152156</td>\n",
       "      <td>42420.0</td>\n",
       "      <td>FUR-CH-10000454</td>\n",
       "      <td>...</td>\n",
       "      <td>1</td>\n",
       "      <td>0.00</td>\n",
       "      <td>1</td>\n",
       "      <td>0</td>\n",
       "      <td>0</td>\n",
       "      <td>0.0</td>\n",
       "      <td>219.5820</td>\n",
       "      <td>0.30</td>\n",
       "      <td>3</td>\n",
       "      <td>731.9400</td>\n",
       "    </tr>\n",
       "    <tr>\n",
       "      <th>2</th>\n",
       "      <td>Office Supplies</td>\n",
       "      <td>Office Supplies</td>\n",
       "      <td>Los Angeles</td>\n",
       "      <td>United States</td>\n",
       "      <td>DV-13045</td>\n",
       "      <td>Darrin Van Huff</td>\n",
       "      <td>2017-12-06 00:00:00</td>\n",
       "      <td>CA-2017-138688</td>\n",
       "      <td>90036.0</td>\n",
       "      <td>OFF-LA-10000240</td>\n",
       "      <td>...</td>\n",
       "      <td>1</td>\n",
       "      <td>0.00</td>\n",
       "      <td>1</td>\n",
       "      <td>0</td>\n",
       "      <td>1</td>\n",
       "      <td>0.0</td>\n",
       "      <td>6.8714</td>\n",
       "      <td>0.47</td>\n",
       "      <td>2</td>\n",
       "      <td>14.6200</td>\n",
       "    </tr>\n",
       "    <tr>\n",
       "      <th>3</th>\n",
       "      <td>Furniture</td>\n",
       "      <td>Furniture</td>\n",
       "      <td>Fort Lauderdale</td>\n",
       "      <td>United States</td>\n",
       "      <td>SO-20335</td>\n",
       "      <td>Sean O'Donnell</td>\n",
       "      <td>2016-11-10 00:00:00</td>\n",
       "      <td>US-2016-108966</td>\n",
       "      <td>33311.0</td>\n",
       "      <td>FUR-TA-10000577</td>\n",
       "      <td>...</td>\n",
       "      <td>1</td>\n",
       "      <td>0.45</td>\n",
       "      <td>1</td>\n",
       "      <td>0</td>\n",
       "      <td>1</td>\n",
       "      <td>0.0</td>\n",
       "      <td>-383.0310</td>\n",
       "      <td>-0.40</td>\n",
       "      <td>5</td>\n",
       "      <td>957.5775</td>\n",
       "    </tr>\n",
       "    <tr>\n",
       "      <th>4</th>\n",
       "      <td>Office Supplies</td>\n",
       "      <td>Office Supplies</td>\n",
       "      <td>Fort Lauderdale</td>\n",
       "      <td>United States</td>\n",
       "      <td>SO-20335</td>\n",
       "      <td>Sean O'Donnell</td>\n",
       "      <td>2016-11-10 00:00:00</td>\n",
       "      <td>US-2016-108966</td>\n",
       "      <td>33311.0</td>\n",
       "      <td>OFF-ST-10000760</td>\n",
       "      <td>...</td>\n",
       "      <td>1</td>\n",
       "      <td>0.20</td>\n",
       "      <td>1</td>\n",
       "      <td>0</td>\n",
       "      <td>1</td>\n",
       "      <td>0.0</td>\n",
       "      <td>2.5164</td>\n",
       "      <td>0.11</td>\n",
       "      <td>2</td>\n",
       "      <td>22.3680</td>\n",
       "    </tr>\n",
       "    <tr>\n",
       "      <th>...</th>\n",
       "      <td>...</td>\n",
       "      <td>...</td>\n",
       "      <td>...</td>\n",
       "      <td>...</td>\n",
       "      <td>...</td>\n",
       "      <td>...</td>\n",
       "      <td>...</td>\n",
       "      <td>...</td>\n",
       "      <td>...</td>\n",
       "      <td>...</td>\n",
       "      <td>...</td>\n",
       "      <td>...</td>\n",
       "      <td>...</td>\n",
       "      <td>...</td>\n",
       "      <td>...</td>\n",
       "      <td>...</td>\n",
       "      <td>...</td>\n",
       "      <td>...</td>\n",
       "      <td>...</td>\n",
       "      <td>...</td>\n",
       "      <td>...</td>\n",
       "    </tr>\n",
       "    <tr>\n",
       "      <th>9989</th>\n",
       "      <td>Furniture</td>\n",
       "      <td>Furniture</td>\n",
       "      <td>Miami</td>\n",
       "      <td>United States</td>\n",
       "      <td>TB-21400</td>\n",
       "      <td>Tom Boeckenhauer</td>\n",
       "      <td>21-01-2015</td>\n",
       "      <td>CA-2015-110422</td>\n",
       "      <td>33180.0</td>\n",
       "      <td>FUR-FU-10001889</td>\n",
       "      <td>...</td>\n",
       "      <td>1</td>\n",
       "      <td>0.20</td>\n",
       "      <td>1</td>\n",
       "      <td>0</td>\n",
       "      <td>1</td>\n",
       "      <td>0.0</td>\n",
       "      <td>4.1028</td>\n",
       "      <td>0.16</td>\n",
       "      <td>3</td>\n",
       "      <td>25.2480</td>\n",
       "    </tr>\n",
       "    <tr>\n",
       "      <th>9990</th>\n",
       "      <td>Furniture</td>\n",
       "      <td>Furniture</td>\n",
       "      <td>Costa Mesa</td>\n",
       "      <td>United States</td>\n",
       "      <td>DB-13060</td>\n",
       "      <td>Dave Brooks</td>\n",
       "      <td>26-02-2018</td>\n",
       "      <td>CA-2018-121258</td>\n",
       "      <td>92627.0</td>\n",
       "      <td>FUR-FU-10000747</td>\n",
       "      <td>...</td>\n",
       "      <td>1</td>\n",
       "      <td>0.00</td>\n",
       "      <td>1</td>\n",
       "      <td>0</td>\n",
       "      <td>1</td>\n",
       "      <td>0.0</td>\n",
       "      <td>15.6332</td>\n",
       "      <td>0.17</td>\n",
       "      <td>2</td>\n",
       "      <td>91.9600</td>\n",
       "    </tr>\n",
       "    <tr>\n",
       "      <th>9991</th>\n",
       "      <td>Technology</td>\n",
       "      <td>Technology</td>\n",
       "      <td>Costa Mesa</td>\n",
       "      <td>United States</td>\n",
       "      <td>DB-13060</td>\n",
       "      <td>Dave Brooks</td>\n",
       "      <td>26-02-2018</td>\n",
       "      <td>CA-2018-121258</td>\n",
       "      <td>92627.0</td>\n",
       "      <td>TEC-PH-10003645</td>\n",
       "      <td>...</td>\n",
       "      <td>1</td>\n",
       "      <td>0.20</td>\n",
       "      <td>1</td>\n",
       "      <td>0</td>\n",
       "      <td>1</td>\n",
       "      <td>0.0</td>\n",
       "      <td>19.3932</td>\n",
       "      <td>0.08</td>\n",
       "      <td>2</td>\n",
       "      <td>258.5760</td>\n",
       "    </tr>\n",
       "    <tr>\n",
       "      <th>9992</th>\n",
       "      <td>Office Supplies</td>\n",
       "      <td>Office Supplies</td>\n",
       "      <td>Costa Mesa</td>\n",
       "      <td>United States</td>\n",
       "      <td>DB-13060</td>\n",
       "      <td>Dave Brooks</td>\n",
       "      <td>26-02-2018</td>\n",
       "      <td>CA-2018-121258</td>\n",
       "      <td>92627.0</td>\n",
       "      <td>OFF-PA-10004041</td>\n",
       "      <td>...</td>\n",
       "      <td>1</td>\n",
       "      <td>0.00</td>\n",
       "      <td>1</td>\n",
       "      <td>0</td>\n",
       "      <td>1</td>\n",
       "      <td>0.0</td>\n",
       "      <td>13.3200</td>\n",
       "      <td>0.45</td>\n",
       "      <td>4</td>\n",
       "      <td>29.6000</td>\n",
       "    </tr>\n",
       "    <tr>\n",
       "      <th>9993</th>\n",
       "      <td>Office Supplies</td>\n",
       "      <td>Office Supplies</td>\n",
       "      <td>Westminster</td>\n",
       "      <td>United States</td>\n",
       "      <td>CC-12220</td>\n",
       "      <td>Chris Cortes</td>\n",
       "      <td>2018-04-05 00:00:00</td>\n",
       "      <td>CA-2018-119914</td>\n",
       "      <td>92683.0</td>\n",
       "      <td>OFF-AP-10002684</td>\n",
       "      <td>...</td>\n",
       "      <td>1</td>\n",
       "      <td>0.00</td>\n",
       "      <td>1</td>\n",
       "      <td>0</td>\n",
       "      <td>1</td>\n",
       "      <td>0.0</td>\n",
       "      <td>72.9480</td>\n",
       "      <td>0.30</td>\n",
       "      <td>2</td>\n",
       "      <td>243.1600</td>\n",
       "    </tr>\n",
       "  </tbody>\n",
       "</table>\n",
       "<p>9994 rows × 30 columns</p>\n",
       "</div>"
      ],
      "text/plain": [
       "             Category  Category (copy)             City        Country  \\\n",
       "0           Furniture        Furniture        Henderson  United States   \n",
       "1           Furniture        Furniture        Henderson  United States   \n",
       "2     Office Supplies  Office Supplies      Los Angeles  United States   \n",
       "3           Furniture        Furniture  Fort Lauderdale  United States   \n",
       "4     Office Supplies  Office Supplies  Fort Lauderdale  United States   \n",
       "...               ...              ...              ...            ...   \n",
       "9989        Furniture        Furniture            Miami  United States   \n",
       "9990        Furniture        Furniture       Costa Mesa  United States   \n",
       "9991       Technology       Technology       Costa Mesa  United States   \n",
       "9992  Office Supplies  Office Supplies       Costa Mesa  United States   \n",
       "9993  Office Supplies  Office Supplies      Westminster  United States   \n",
       "\n",
       "     Customer ID     Customer Name           Order Date        Order ID  \\\n",
       "0       CG-12520       Claire Gute  2017-08-11 00:00:00  CA-2017-152156   \n",
       "1       CG-12520       Claire Gute  2017-08-11 00:00:00  CA-2017-152156   \n",
       "2       DV-13045   Darrin Van Huff  2017-12-06 00:00:00  CA-2017-138688   \n",
       "3       SO-20335    Sean O'Donnell  2016-11-10 00:00:00  US-2016-108966   \n",
       "4       SO-20335    Sean O'Donnell  2016-11-10 00:00:00  US-2016-108966   \n",
       "...          ...               ...                  ...             ...   \n",
       "9989    TB-21400  Tom Boeckenhauer           21-01-2015  CA-2015-110422   \n",
       "9990    DB-13060       Dave Brooks           26-02-2018  CA-2018-121258   \n",
       "9991    DB-13060       Dave Brooks           26-02-2018  CA-2018-121258   \n",
       "9992    DB-13060       Dave Brooks           26-02-2018  CA-2018-121258   \n",
       "9993    CC-12220      Chris Cortes  2018-04-05 00:00:00  CA-2018-119914   \n",
       "\n",
       "      Postal Code       Product ID  ... Bottom Half Discount  \\\n",
       "0         42420.0  FUR-BO-10001798  ...           1     0.00   \n",
       "1         42420.0  FUR-CH-10000454  ...           1     0.00   \n",
       "2         90036.0  OFF-LA-10000240  ...           1     0.00   \n",
       "3         33311.0  FUR-TA-10000577  ...           1     0.45   \n",
       "4         33311.0  OFF-ST-10000760  ...           1     0.20   \n",
       "...           ...              ...  ...         ...      ...   \n",
       "9989      33180.0  FUR-FU-10001889  ...           1     0.20   \n",
       "9990      92627.0  FUR-FU-10000747  ...           1     0.00   \n",
       "9991      92627.0  TEC-PH-10003645  ...           1     0.20   \n",
       "9992      92627.0  OFF-PA-10004041  ...           1     0.00   \n",
       "9993      92683.0  OFF-AP-10002684  ...           1     0.00   \n",
       "\n",
       "      Number of Records Outer Venn Position Overlapping Customers  \\\n",
       "0                     1                   0                     0   \n",
       "1                     1                   0                     0   \n",
       "2                     1                   0                     1   \n",
       "3                     1                   0                     1   \n",
       "4                     1                   0                     1   \n",
       "...                 ...                 ...                   ...   \n",
       "9989                  1                   0                     1   \n",
       "9990                  1                   0                     1   \n",
       "9991                  1                   0                     1   \n",
       "9992                  1                   0                     1   \n",
       "9993                  1                   0                     1   \n",
       "\n",
       "     Overlapping Position    Profit Profit Ratio Quantity     Sales  \n",
       "0                     0.0   41.9136         0.16        2  261.9600  \n",
       "1                     0.0  219.5820         0.30        3  731.9400  \n",
       "2                     0.0    6.8714         0.47        2   14.6200  \n",
       "3                     0.0 -383.0310        -0.40        5  957.5775  \n",
       "4                     0.0    2.5164         0.11        2   22.3680  \n",
       "...                   ...       ...          ...      ...       ...  \n",
       "9989                  0.0    4.1028         0.16        3   25.2480  \n",
       "9990                  0.0   15.6332         0.17        2   91.9600  \n",
       "9991                  0.0   19.3932         0.08        2  258.5760  \n",
       "9992                  0.0   13.3200         0.45        4   29.6000  \n",
       "9993                  0.0   72.9480         0.30        2  243.1600  \n",
       "\n",
       "[9994 rows x 30 columns]"
      ]
     },
     "execution_count": 33,
     "metadata": {},
     "output_type": "execute_result"
    }
   ],
   "source": [
    "pd.read_excel('DS1_C6_S1_Practice_Superstore_Data.xlsx')"
   ]
  },
  {
   "cell_type": "markdown",
   "id": "b349e0e3",
   "metadata": {},
   "source": [
    "## DataFrame Creation Using CSV Files"
   ]
  },
  {
   "cell_type": "markdown",
   "id": "f2156032",
   "metadata": {},
   "source": [
    "- Read a CSV file into a Pandas DataFrame."
   ]
  },
  {
   "cell_type": "code",
   "execution_count": 36,
   "id": "a97fdf36-414c-4142-a5db-e97cecc9b49d",
   "metadata": {},
   "outputs": [
    {
     "data": {
      "text/html": [
       "<div>\n",
       "<style scoped>\n",
       "    .dataframe tbody tr th:only-of-type {\n",
       "        vertical-align: middle;\n",
       "    }\n",
       "\n",
       "    .dataframe tbody tr th {\n",
       "        vertical-align: top;\n",
       "    }\n",
       "\n",
       "    .dataframe thead th {\n",
       "        text-align: right;\n",
       "    }\n",
       "</style>\n",
       "<table border=\"1\" class=\"dataframe\">\n",
       "  <thead>\n",
       "    <tr style=\"text-align: right;\">\n",
       "      <th></th>\n",
       "      <th>hotel</th>\n",
       "      <th>is_canceled</th>\n",
       "      <th>lead_time</th>\n",
       "      <th>arrival_date_year</th>\n",
       "      <th>arrival_date_month</th>\n",
       "      <th>arrival_date_week_number</th>\n",
       "      <th>arrival_date_day_of_month</th>\n",
       "      <th>stays_in_weekend_nights</th>\n",
       "      <th>stays_in_week_nights</th>\n",
       "      <th>adults</th>\n",
       "      <th>...</th>\n",
       "      <th>deposit_type</th>\n",
       "      <th>agent</th>\n",
       "      <th>company</th>\n",
       "      <th>days_in_waiting_list</th>\n",
       "      <th>customer_type</th>\n",
       "      <th>adr</th>\n",
       "      <th>required_car_parking_spaces</th>\n",
       "      <th>total_of_special_requests</th>\n",
       "      <th>reservation_status</th>\n",
       "      <th>reservation_status_date</th>\n",
       "    </tr>\n",
       "  </thead>\n",
       "  <tbody>\n",
       "    <tr>\n",
       "      <th>0</th>\n",
       "      <td>Resort Hotel</td>\n",
       "      <td>0</td>\n",
       "      <td>68</td>\n",
       "      <td>2015</td>\n",
       "      <td>July</td>\n",
       "      <td>27</td>\n",
       "      <td>1</td>\n",
       "      <td>0</td>\n",
       "      <td>4</td>\n",
       "      <td>2</td>\n",
       "      <td>...</td>\n",
       "      <td>No Deposit</td>\n",
       "      <td>240.0</td>\n",
       "      <td>NaN</td>\n",
       "      <td>0</td>\n",
       "      <td>Transient</td>\n",
       "      <td>97.00</td>\n",
       "      <td>0</td>\n",
       "      <td>3</td>\n",
       "      <td>Check-Out</td>\n",
       "      <td>05-07-2015</td>\n",
       "    </tr>\n",
       "    <tr>\n",
       "      <th>1</th>\n",
       "      <td>Resort Hotel</td>\n",
       "      <td>0</td>\n",
       "      <td>14</td>\n",
       "      <td>2015</td>\n",
       "      <td>July</td>\n",
       "      <td>27</td>\n",
       "      <td>2</td>\n",
       "      <td>0</td>\n",
       "      <td>2</td>\n",
       "      <td>2</td>\n",
       "      <td>...</td>\n",
       "      <td>No Deposit</td>\n",
       "      <td>242.0</td>\n",
       "      <td>NaN</td>\n",
       "      <td>0</td>\n",
       "      <td>Transient</td>\n",
       "      <td>98.00</td>\n",
       "      <td>0</td>\n",
       "      <td>1</td>\n",
       "      <td>Check-Out</td>\n",
       "      <td>04-07-2015</td>\n",
       "    </tr>\n",
       "    <tr>\n",
       "      <th>2</th>\n",
       "      <td>Resort Hotel</td>\n",
       "      <td>0</td>\n",
       "      <td>10</td>\n",
       "      <td>2015</td>\n",
       "      <td>July</td>\n",
       "      <td>27</td>\n",
       "      <td>3</td>\n",
       "      <td>0</td>\n",
       "      <td>2</td>\n",
       "      <td>2</td>\n",
       "      <td>...</td>\n",
       "      <td>No Deposit</td>\n",
       "      <td>240.0</td>\n",
       "      <td>NaN</td>\n",
       "      <td>0</td>\n",
       "      <td>Transient</td>\n",
       "      <td>153.00</td>\n",
       "      <td>1</td>\n",
       "      <td>0</td>\n",
       "      <td>Check-Out</td>\n",
       "      <td>05-07-2015</td>\n",
       "    </tr>\n",
       "    <tr>\n",
       "      <th>3</th>\n",
       "      <td>Resort Hotel</td>\n",
       "      <td>0</td>\n",
       "      <td>9</td>\n",
       "      <td>2015</td>\n",
       "      <td>July</td>\n",
       "      <td>27</td>\n",
       "      <td>3</td>\n",
       "      <td>0</td>\n",
       "      <td>1</td>\n",
       "      <td>2</td>\n",
       "      <td>...</td>\n",
       "      <td>No Deposit</td>\n",
       "      <td>241.0</td>\n",
       "      <td>NaN</td>\n",
       "      <td>0</td>\n",
       "      <td>Transient</td>\n",
       "      <td>94.71</td>\n",
       "      <td>0</td>\n",
       "      <td>0</td>\n",
       "      <td>Check-Out</td>\n",
       "      <td>04-07-2015</td>\n",
       "    </tr>\n",
       "    <tr>\n",
       "      <th>4</th>\n",
       "      <td>Resort Hotel</td>\n",
       "      <td>0</td>\n",
       "      <td>51</td>\n",
       "      <td>2015</td>\n",
       "      <td>July</td>\n",
       "      <td>28</td>\n",
       "      <td>6</td>\n",
       "      <td>1</td>\n",
       "      <td>3</td>\n",
       "      <td>2</td>\n",
       "      <td>...</td>\n",
       "      <td>No Deposit</td>\n",
       "      <td>241.0</td>\n",
       "      <td>NaN</td>\n",
       "      <td>0</td>\n",
       "      <td>Transient</td>\n",
       "      <td>117.81</td>\n",
       "      <td>1</td>\n",
       "      <td>2</td>\n",
       "      <td>Check-Out</td>\n",
       "      <td>10-07-2015</td>\n",
       "    </tr>\n",
       "    <tr>\n",
       "      <th>...</th>\n",
       "      <td>...</td>\n",
       "      <td>...</td>\n",
       "      <td>...</td>\n",
       "      <td>...</td>\n",
       "      <td>...</td>\n",
       "      <td>...</td>\n",
       "      <td>...</td>\n",
       "      <td>...</td>\n",
       "      <td>...</td>\n",
       "      <td>...</td>\n",
       "      <td>...</td>\n",
       "      <td>...</td>\n",
       "      <td>...</td>\n",
       "      <td>...</td>\n",
       "      <td>...</td>\n",
       "      <td>...</td>\n",
       "      <td>...</td>\n",
       "      <td>...</td>\n",
       "      <td>...</td>\n",
       "      <td>...</td>\n",
       "      <td>...</td>\n",
       "    </tr>\n",
       "    <tr>\n",
       "      <th>2092</th>\n",
       "      <td>City Hotel</td>\n",
       "      <td>0</td>\n",
       "      <td>15</td>\n",
       "      <td>2017</td>\n",
       "      <td>August</td>\n",
       "      <td>34</td>\n",
       "      <td>25</td>\n",
       "      <td>2</td>\n",
       "      <td>2</td>\n",
       "      <td>2</td>\n",
       "      <td>...</td>\n",
       "      <td>No Deposit</td>\n",
       "      <td>14.0</td>\n",
       "      <td>NaN</td>\n",
       "      <td>0</td>\n",
       "      <td>Transient</td>\n",
       "      <td>132.53</td>\n",
       "      <td>0</td>\n",
       "      <td>2</td>\n",
       "      <td>Check-Out</td>\n",
       "      <td>29-08-2017</td>\n",
       "    </tr>\n",
       "    <tr>\n",
       "      <th>2093</th>\n",
       "      <td>City Hotel</td>\n",
       "      <td>0</td>\n",
       "      <td>83</td>\n",
       "      <td>2017</td>\n",
       "      <td>August</td>\n",
       "      <td>35</td>\n",
       "      <td>28</td>\n",
       "      <td>1</td>\n",
       "      <td>3</td>\n",
       "      <td>1</td>\n",
       "      <td>...</td>\n",
       "      <td>No Deposit</td>\n",
       "      <td>14.0</td>\n",
       "      <td>NaN</td>\n",
       "      <td>0</td>\n",
       "      <td>Transient</td>\n",
       "      <td>147.68</td>\n",
       "      <td>0</td>\n",
       "      <td>0</td>\n",
       "      <td>Check-Out</td>\n",
       "      <td>01-09-2017</td>\n",
       "    </tr>\n",
       "    <tr>\n",
       "      <th>2094</th>\n",
       "      <td>City Hotel</td>\n",
       "      <td>0</td>\n",
       "      <td>189</td>\n",
       "      <td>2017</td>\n",
       "      <td>August</td>\n",
       "      <td>35</td>\n",
       "      <td>29</td>\n",
       "      <td>0</td>\n",
       "      <td>3</td>\n",
       "      <td>2</td>\n",
       "      <td>...</td>\n",
       "      <td>No Deposit</td>\n",
       "      <td>42.0</td>\n",
       "      <td>NaN</td>\n",
       "      <td>0</td>\n",
       "      <td>Transient</td>\n",
       "      <td>80.10</td>\n",
       "      <td>0</td>\n",
       "      <td>1</td>\n",
       "      <td>Check-Out</td>\n",
       "      <td>01-09-2017</td>\n",
       "    </tr>\n",
       "    <tr>\n",
       "      <th>2095</th>\n",
       "      <td>City Hotel</td>\n",
       "      <td>0</td>\n",
       "      <td>147</td>\n",
       "      <td>2017</td>\n",
       "      <td>August</td>\n",
       "      <td>35</td>\n",
       "      <td>28</td>\n",
       "      <td>1</td>\n",
       "      <td>5</td>\n",
       "      <td>2</td>\n",
       "      <td>...</td>\n",
       "      <td>No Deposit</td>\n",
       "      <td>14.0</td>\n",
       "      <td>NaN</td>\n",
       "      <td>0</td>\n",
       "      <td>Transient</td>\n",
       "      <td>117.00</td>\n",
       "      <td>0</td>\n",
       "      <td>1</td>\n",
       "      <td>Check-Out</td>\n",
       "      <td>03-09-2017</td>\n",
       "    </tr>\n",
       "    <tr>\n",
       "      <th>2096</th>\n",
       "      <td>City Hotel</td>\n",
       "      <td>0</td>\n",
       "      <td>135</td>\n",
       "      <td>2017</td>\n",
       "      <td>August</td>\n",
       "      <td>35</td>\n",
       "      <td>30</td>\n",
       "      <td>1</td>\n",
       "      <td>4</td>\n",
       "      <td>2</td>\n",
       "      <td>...</td>\n",
       "      <td>No Deposit</td>\n",
       "      <td>14.0</td>\n",
       "      <td>NaN</td>\n",
       "      <td>0</td>\n",
       "      <td>Transient</td>\n",
       "      <td>143.10</td>\n",
       "      <td>0</td>\n",
       "      <td>1</td>\n",
       "      <td>Check-Out</td>\n",
       "      <td>04-09-2017</td>\n",
       "    </tr>\n",
       "  </tbody>\n",
       "</table>\n",
       "<p>2097 rows × 32 columns</p>\n",
       "</div>"
      ],
      "text/plain": [
       "             hotel  is_canceled  lead_time  arrival_date_year  \\\n",
       "0     Resort Hotel            0         68               2015   \n",
       "1     Resort Hotel            0         14               2015   \n",
       "2     Resort Hotel            0         10               2015   \n",
       "3     Resort Hotel            0          9               2015   \n",
       "4     Resort Hotel            0         51               2015   \n",
       "...            ...          ...        ...                ...   \n",
       "2092    City Hotel            0         15               2017   \n",
       "2093    City Hotel            0         83               2017   \n",
       "2094    City Hotel            0        189               2017   \n",
       "2095    City Hotel            0        147               2017   \n",
       "2096    City Hotel            0        135               2017   \n",
       "\n",
       "     arrival_date_month  arrival_date_week_number  arrival_date_day_of_month  \\\n",
       "0                  July                        27                          1   \n",
       "1                  July                        27                          2   \n",
       "2                  July                        27                          3   \n",
       "3                  July                        27                          3   \n",
       "4                  July                        28                          6   \n",
       "...                 ...                       ...                        ...   \n",
       "2092             August                        34                         25   \n",
       "2093             August                        35                         28   \n",
       "2094             August                        35                         29   \n",
       "2095             August                        35                         28   \n",
       "2096             August                        35                         30   \n",
       "\n",
       "      stays_in_weekend_nights  stays_in_week_nights  adults  ...  \\\n",
       "0                           0                     4       2  ...   \n",
       "1                           0                     2       2  ...   \n",
       "2                           0                     2       2  ...   \n",
       "3                           0                     1       2  ...   \n",
       "4                           1                     3       2  ...   \n",
       "...                       ...                   ...     ...  ...   \n",
       "2092                        2                     2       2  ...   \n",
       "2093                        1                     3       1  ...   \n",
       "2094                        0                     3       2  ...   \n",
       "2095                        1                     5       2  ...   \n",
       "2096                        1                     4       2  ...   \n",
       "\n",
       "      deposit_type  agent company days_in_waiting_list customer_type     adr  \\\n",
       "0       No Deposit  240.0     NaN                    0     Transient   97.00   \n",
       "1       No Deposit  242.0     NaN                    0     Transient   98.00   \n",
       "2       No Deposit  240.0     NaN                    0     Transient  153.00   \n",
       "3       No Deposit  241.0     NaN                    0     Transient   94.71   \n",
       "4       No Deposit  241.0     NaN                    0     Transient  117.81   \n",
       "...            ...    ...     ...                  ...           ...     ...   \n",
       "2092    No Deposit   14.0     NaN                    0     Transient  132.53   \n",
       "2093    No Deposit   14.0     NaN                    0     Transient  147.68   \n",
       "2094    No Deposit   42.0     NaN                    0     Transient   80.10   \n",
       "2095    No Deposit   14.0     NaN                    0     Transient  117.00   \n",
       "2096    No Deposit   14.0     NaN                    0     Transient  143.10   \n",
       "\n",
       "      required_car_parking_spaces  total_of_special_requests  \\\n",
       "0                               0                          3   \n",
       "1                               0                          1   \n",
       "2                               1                          0   \n",
       "3                               0                          0   \n",
       "4                               1                          2   \n",
       "...                           ...                        ...   \n",
       "2092                            0                          2   \n",
       "2093                            0                          0   \n",
       "2094                            0                          1   \n",
       "2095                            0                          1   \n",
       "2096                            0                          1   \n",
       "\n",
       "      reservation_status reservation_status_date  \n",
       "0              Check-Out              05-07-2015  \n",
       "1              Check-Out              04-07-2015  \n",
       "2              Check-Out              05-07-2015  \n",
       "3              Check-Out              04-07-2015  \n",
       "4              Check-Out              10-07-2015  \n",
       "...                  ...                     ...  \n",
       "2092           Check-Out              29-08-2017  \n",
       "2093           Check-Out              01-09-2017  \n",
       "2094           Check-Out              01-09-2017  \n",
       "2095           Check-Out              03-09-2017  \n",
       "2096           Check-Out              04-09-2017  \n",
       "\n",
       "[2097 rows x 32 columns]"
      ]
     },
     "execution_count": 36,
     "metadata": {},
     "output_type": "execute_result"
    }
   ],
   "source": [
    "pd.read_csv('DS1_C5_S5_Hotel Dataset.csv')"
   ]
  },
  {
   "cell_type": "markdown",
   "id": "9c913453",
   "metadata": {},
   "source": [
    "- Write a DataFrame to a CSV file."
   ]
  },
  {
   "cell_type": "code",
   "execution_count": 38,
   "id": "2225fe61-44af-467e-8b05-b2c10ea5a1d7",
   "metadata": {},
   "outputs": [
    {
     "name": "stderr",
     "output_type": "stream",
     "text": [
      "C:\\Users\\asher\\AppData\\Local\\Temp\\ipykernel_23972\\3853505828.py:5: FutureWarning: A value is trying to be set on a copy of a DataFrame or Series through chained assignment using an inplace method.\n",
      "The behavior will change in pandas 3.0. This inplace method will never work because the intermediate object on which we are setting values always behaves as a copy.\n",
      "\n",
      "For example, when doing 'df[col].method(value, inplace=True)', try using 'df.method({col: value}, inplace=True)' or df[col] = df[col].method(value) instead, to perform the operation inplace on the original object.\n",
      "\n",
      "\n",
      "  data['A'].fillna(data['A'].median(),inplace=True)\n",
      "C:\\Users\\asher\\AppData\\Local\\Temp\\ipykernel_23972\\3853505828.py:6: FutureWarning: A value is trying to be set on a copy of a DataFrame or Series through chained assignment using an inplace method.\n",
      "The behavior will change in pandas 3.0. This inplace method will never work because the intermediate object on which we are setting values always behaves as a copy.\n",
      "\n",
      "For example, when doing 'df[col].method(value, inplace=True)', try using 'df.method({col: value}, inplace=True)' or df[col] = df[col].method(value) instead, to perform the operation inplace on the original object.\n",
      "\n",
      "\n",
      "  data['B'].fillna(data['B'].median(),inplace=True)\n",
      "C:\\Users\\asher\\AppData\\Local\\Temp\\ipykernel_23972\\3853505828.py:7: FutureWarning: A value is trying to be set on a copy of a DataFrame or Series through chained assignment using an inplace method.\n",
      "The behavior will change in pandas 3.0. This inplace method will never work because the intermediate object on which we are setting values always behaves as a copy.\n",
      "\n",
      "For example, when doing 'df[col].method(value, inplace=True)', try using 'df.method({col: value}, inplace=True)' or df[col] = df[col].method(value) instead, to perform the operation inplace on the original object.\n",
      "\n",
      "\n",
      "  data['C'].fillna(data['C'].median(),inplace=True)\n"
     ]
    }
   ],
   "source": [
    "data = {'A': [1, 2, np.nan, 4], \n",
    "        'B': [np.nan, 5, 6, 7], \n",
    "        'C': [8, 9, 10, np.nan]}\n",
    "data=pd.DataFrame(data)\n",
    "data['A'].fillna(data['A'].median(),inplace=True)\n",
    "data['B'].fillna(data['B'].median(),inplace=True)\n",
    "data['C'].fillna(data['C'].median(),inplace=True)\n",
    "data.to_csv('denullified.csv')"
   ]
  },
  {
   "cell_type": "markdown",
   "id": "a8b6972b",
   "metadata": {},
   "source": [
    "- Load only specific columns from a CSV."
   ]
  },
  {
   "cell_type": "code",
   "execution_count": 40,
   "id": "2015b03d-9d07-48bf-950f-8c7bb1472a54",
   "metadata": {},
   "outputs": [
    {
     "data": {
      "text/html": [
       "<div>\n",
       "<style scoped>\n",
       "    .dataframe tbody tr th:only-of-type {\n",
       "        vertical-align: middle;\n",
       "    }\n",
       "\n",
       "    .dataframe tbody tr th {\n",
       "        vertical-align: top;\n",
       "    }\n",
       "\n",
       "    .dataframe thead th {\n",
       "        text-align: right;\n",
       "    }\n",
       "</style>\n",
       "<table border=\"1\" class=\"dataframe\">\n",
       "  <thead>\n",
       "    <tr style=\"text-align: right;\">\n",
       "      <th></th>\n",
       "      <th>A</th>\n",
       "      <th>B</th>\n",
       "      <th>C</th>\n",
       "    </tr>\n",
       "  </thead>\n",
       "  <tbody>\n",
       "    <tr>\n",
       "      <th>0</th>\n",
       "      <td>NaN</td>\n",
       "      <td>6.0</td>\n",
       "      <td>8.0</td>\n",
       "    </tr>\n",
       "    <tr>\n",
       "      <th>1</th>\n",
       "      <td>NaN</td>\n",
       "      <td>NaN</td>\n",
       "      <td>9.0</td>\n",
       "    </tr>\n",
       "    <tr>\n",
       "      <th>2</th>\n",
       "      <td>NaN</td>\n",
       "      <td>6.0</td>\n",
       "      <td>10.0</td>\n",
       "    </tr>\n",
       "    <tr>\n",
       "      <th>3</th>\n",
       "      <td>NaN</td>\n",
       "      <td>7.0</td>\n",
       "      <td>9.0</td>\n",
       "    </tr>\n",
       "  </tbody>\n",
       "</table>\n",
       "</div>"
      ],
      "text/plain": [
       "    A    B     C\n",
       "0 NaN  6.0   8.0\n",
       "1 NaN  NaN   9.0\n",
       "2 NaN  6.0  10.0\n",
       "3 NaN  7.0   9.0"
      ]
     },
     "execution_count": 40,
     "metadata": {},
     "output_type": "execute_result"
    }
   ],
   "source": [
    "data[data>5]"
   ]
  },
  {
   "cell_type": "markdown",
   "id": "c9b00801",
   "metadata": {},
   "source": [
    "- Load a CSV file without the header row."
   ]
  },
  {
   "cell_type": "code",
   "execution_count": 42,
   "id": "3aec219c-e8e5-49d3-bed0-34a9f26b31da",
   "metadata": {},
   "outputs": [],
   "source": [
    "q=pd.read_csv('DS1_C5_S5_Hotel Dataset.csv')"
   ]
  },
  {
   "cell_type": "markdown",
   "id": "8879e0db",
   "metadata": {},
   "source": [
    "## Indexing Pandas DataFrames"
   ]
  },
  {
   "cell_type": "markdown",
   "id": "35c07536",
   "metadata": {},
   "source": [
    "- Select a single column from a DataFrame."
   ]
  },
  {
   "cell_type": "code",
   "execution_count": 45,
   "id": "8b8ee81f-875b-40cc-a61a-c18c2e58a499",
   "metadata": {},
   "outputs": [
    {
     "data": {
      "text/plain": [
       "0       Resort Hotel\n",
       "1       Resort Hotel\n",
       "2       Resort Hotel\n",
       "3       Resort Hotel\n",
       "4       Resort Hotel\n",
       "            ...     \n",
       "2092      City Hotel\n",
       "2093      City Hotel\n",
       "2094      City Hotel\n",
       "2095      City Hotel\n",
       "2096      City Hotel\n",
       "Name: hotel, Length: 2097, dtype: object"
      ]
     },
     "execution_count": 45,
     "metadata": {},
     "output_type": "execute_result"
    }
   ],
   "source": [
    "q['hotel']"
   ]
  },
  {
   "cell_type": "markdown",
   "id": "dd5855bb",
   "metadata": {},
   "source": [
    "- Select multiple columns."
   ]
  },
  {
   "cell_type": "code",
   "execution_count": 47,
   "id": "c838bb82-ce41-4b41-9fb4-65c9965c6326",
   "metadata": {},
   "outputs": [
    {
     "data": {
      "text/html": [
       "<div>\n",
       "<style scoped>\n",
       "    .dataframe tbody tr th:only-of-type {\n",
       "        vertical-align: middle;\n",
       "    }\n",
       "\n",
       "    .dataframe tbody tr th {\n",
       "        vertical-align: top;\n",
       "    }\n",
       "\n",
       "    .dataframe thead th {\n",
       "        text-align: right;\n",
       "    }\n",
       "</style>\n",
       "<table border=\"1\" class=\"dataframe\">\n",
       "  <thead>\n",
       "    <tr style=\"text-align: right;\">\n",
       "      <th></th>\n",
       "      <th>hotel</th>\n",
       "      <th>is_canceled</th>\n",
       "      <th>lead_time</th>\n",
       "      <th>arrival_date_year</th>\n",
       "      <th>arrival_date_month</th>\n",
       "    </tr>\n",
       "  </thead>\n",
       "  <tbody>\n",
       "    <tr>\n",
       "      <th>0</th>\n",
       "      <td>Resort Hotel</td>\n",
       "      <td>0</td>\n",
       "      <td>68</td>\n",
       "      <td>2015</td>\n",
       "      <td>July</td>\n",
       "    </tr>\n",
       "    <tr>\n",
       "      <th>1</th>\n",
       "      <td>Resort Hotel</td>\n",
       "      <td>0</td>\n",
       "      <td>14</td>\n",
       "      <td>2015</td>\n",
       "      <td>July</td>\n",
       "    </tr>\n",
       "    <tr>\n",
       "      <th>2</th>\n",
       "      <td>Resort Hotel</td>\n",
       "      <td>0</td>\n",
       "      <td>10</td>\n",
       "      <td>2015</td>\n",
       "      <td>July</td>\n",
       "    </tr>\n",
       "    <tr>\n",
       "      <th>3</th>\n",
       "      <td>Resort Hotel</td>\n",
       "      <td>0</td>\n",
       "      <td>9</td>\n",
       "      <td>2015</td>\n",
       "      <td>July</td>\n",
       "    </tr>\n",
       "    <tr>\n",
       "      <th>4</th>\n",
       "      <td>Resort Hotel</td>\n",
       "      <td>0</td>\n",
       "      <td>51</td>\n",
       "      <td>2015</td>\n",
       "      <td>July</td>\n",
       "    </tr>\n",
       "    <tr>\n",
       "      <th>...</th>\n",
       "      <td>...</td>\n",
       "      <td>...</td>\n",
       "      <td>...</td>\n",
       "      <td>...</td>\n",
       "      <td>...</td>\n",
       "    </tr>\n",
       "    <tr>\n",
       "      <th>2092</th>\n",
       "      <td>City Hotel</td>\n",
       "      <td>0</td>\n",
       "      <td>15</td>\n",
       "      <td>2017</td>\n",
       "      <td>August</td>\n",
       "    </tr>\n",
       "    <tr>\n",
       "      <th>2093</th>\n",
       "      <td>City Hotel</td>\n",
       "      <td>0</td>\n",
       "      <td>83</td>\n",
       "      <td>2017</td>\n",
       "      <td>August</td>\n",
       "    </tr>\n",
       "    <tr>\n",
       "      <th>2094</th>\n",
       "      <td>City Hotel</td>\n",
       "      <td>0</td>\n",
       "      <td>189</td>\n",
       "      <td>2017</td>\n",
       "      <td>August</td>\n",
       "    </tr>\n",
       "    <tr>\n",
       "      <th>2095</th>\n",
       "      <td>City Hotel</td>\n",
       "      <td>0</td>\n",
       "      <td>147</td>\n",
       "      <td>2017</td>\n",
       "      <td>August</td>\n",
       "    </tr>\n",
       "    <tr>\n",
       "      <th>2096</th>\n",
       "      <td>City Hotel</td>\n",
       "      <td>0</td>\n",
       "      <td>135</td>\n",
       "      <td>2017</td>\n",
       "      <td>August</td>\n",
       "    </tr>\n",
       "  </tbody>\n",
       "</table>\n",
       "<p>2097 rows × 5 columns</p>\n",
       "</div>"
      ],
      "text/plain": [
       "             hotel  is_canceled  lead_time  arrival_date_year  \\\n",
       "0     Resort Hotel            0         68               2015   \n",
       "1     Resort Hotel            0         14               2015   \n",
       "2     Resort Hotel            0         10               2015   \n",
       "3     Resort Hotel            0          9               2015   \n",
       "4     Resort Hotel            0         51               2015   \n",
       "...            ...          ...        ...                ...   \n",
       "2092    City Hotel            0         15               2017   \n",
       "2093    City Hotel            0         83               2017   \n",
       "2094    City Hotel            0        189               2017   \n",
       "2095    City Hotel            0        147               2017   \n",
       "2096    City Hotel            0        135               2017   \n",
       "\n",
       "     arrival_date_month  \n",
       "0                  July  \n",
       "1                  July  \n",
       "2                  July  \n",
       "3                  July  \n",
       "4                  July  \n",
       "...                 ...  \n",
       "2092             August  \n",
       "2093             August  \n",
       "2094             August  \n",
       "2095             August  \n",
       "2096             August  \n",
       "\n",
       "[2097 rows x 5 columns]"
      ]
     },
     "execution_count": 47,
     "metadata": {},
     "output_type": "execute_result"
    }
   ],
   "source": [
    "q[['hotel',\t'is_canceled',\t'lead_time',\t'arrival_date_year'\t,'arrival_date_month']]"
   ]
  },
  {
   "cell_type": "markdown",
   "id": "ca45e96f",
   "metadata": {},
   "source": [
    "- Select rows using `.loc[]` and `.iloc[]`."
   ]
  },
  {
   "cell_type": "code",
   "execution_count": 49,
   "id": "635f8867-2ed9-4a3c-9ee5-fd981d326783",
   "metadata": {},
   "outputs": [
    {
     "data": {
      "text/plain": [
       "arrival_date_month    July\n",
       "Name: 4, dtype: object"
      ]
     },
     "execution_count": 49,
     "metadata": {},
     "output_type": "execute_result"
    }
   ],
   "source": [
    "q.loc[4,['arrival_date_month']]"
   ]
  },
  {
   "cell_type": "code",
   "execution_count": 50,
   "id": "ce3433f2-b6d4-4c84-a84d-20bf246a030e",
   "metadata": {},
   "outputs": [
    {
     "data": {
      "text/plain": [
       "lead_time              10\n",
       "arrival_date_year    2015\n",
       "Name: 2, dtype: object"
      ]
     },
     "execution_count": 50,
     "metadata": {},
     "output_type": "execute_result"
    }
   ],
   "source": [
    "q.iloc[2,2:4]"
   ]
  },
  {
   "cell_type": "code",
   "execution_count": 51,
   "id": "c88cee14-244e-418d-9823-02efb0760a59",
   "metadata": {},
   "outputs": [
    {
     "data": {
      "text/html": [
       "<div>\n",
       "<style scoped>\n",
       "    .dataframe tbody tr th:only-of-type {\n",
       "        vertical-align: middle;\n",
       "    }\n",
       "\n",
       "    .dataframe tbody tr th {\n",
       "        vertical-align: top;\n",
       "    }\n",
       "\n",
       "    .dataframe thead th {\n",
       "        text-align: right;\n",
       "    }\n",
       "</style>\n",
       "<table border=\"1\" class=\"dataframe\">\n",
       "  <thead>\n",
       "    <tr style=\"text-align: right;\">\n",
       "      <th></th>\n",
       "      <th>hotel</th>\n",
       "      <th>is_canceled</th>\n",
       "      <th>lead_time</th>\n",
       "      <th>arrival_date_year</th>\n",
       "      <th>arrival_date_month</th>\n",
       "      <th>arrival_date_week_number</th>\n",
       "      <th>arrival_date_day_of_month</th>\n",
       "      <th>stays_in_weekend_nights</th>\n",
       "      <th>stays_in_week_nights</th>\n",
       "      <th>adults</th>\n",
       "      <th>...</th>\n",
       "      <th>deposit_type</th>\n",
       "      <th>agent</th>\n",
       "      <th>company</th>\n",
       "      <th>days_in_waiting_list</th>\n",
       "      <th>customer_type</th>\n",
       "      <th>adr</th>\n",
       "      <th>required_car_parking_spaces</th>\n",
       "      <th>total_of_special_requests</th>\n",
       "      <th>reservation_status</th>\n",
       "      <th>reservation_status_date</th>\n",
       "    </tr>\n",
       "  </thead>\n",
       "  <tbody>\n",
       "    <tr>\n",
       "      <th>0</th>\n",
       "      <td>Resort Hotel</td>\n",
       "      <td>0</td>\n",
       "      <td>68</td>\n",
       "      <td>2015</td>\n",
       "      <td>July</td>\n",
       "      <td>27</td>\n",
       "      <td>1</td>\n",
       "      <td>0</td>\n",
       "      <td>4</td>\n",
       "      <td>2</td>\n",
       "      <td>...</td>\n",
       "      <td>No Deposit</td>\n",
       "      <td>240.0</td>\n",
       "      <td>NaN</td>\n",
       "      <td>0</td>\n",
       "      <td>Transient</td>\n",
       "      <td>97.00</td>\n",
       "      <td>0</td>\n",
       "      <td>3</td>\n",
       "      <td>Check-Out</td>\n",
       "      <td>05-07-2015</td>\n",
       "    </tr>\n",
       "    <tr>\n",
       "      <th>1</th>\n",
       "      <td>Resort Hotel</td>\n",
       "      <td>0</td>\n",
       "      <td>14</td>\n",
       "      <td>2015</td>\n",
       "      <td>July</td>\n",
       "      <td>27</td>\n",
       "      <td>2</td>\n",
       "      <td>0</td>\n",
       "      <td>2</td>\n",
       "      <td>2</td>\n",
       "      <td>...</td>\n",
       "      <td>No Deposit</td>\n",
       "      <td>242.0</td>\n",
       "      <td>NaN</td>\n",
       "      <td>0</td>\n",
       "      <td>Transient</td>\n",
       "      <td>98.00</td>\n",
       "      <td>0</td>\n",
       "      <td>1</td>\n",
       "      <td>Check-Out</td>\n",
       "      <td>04-07-2015</td>\n",
       "    </tr>\n",
       "    <tr>\n",
       "      <th>2</th>\n",
       "      <td>Resort Hotel</td>\n",
       "      <td>0</td>\n",
       "      <td>10</td>\n",
       "      <td>2015</td>\n",
       "      <td>July</td>\n",
       "      <td>27</td>\n",
       "      <td>3</td>\n",
       "      <td>0</td>\n",
       "      <td>2</td>\n",
       "      <td>2</td>\n",
       "      <td>...</td>\n",
       "      <td>No Deposit</td>\n",
       "      <td>240.0</td>\n",
       "      <td>NaN</td>\n",
       "      <td>0</td>\n",
       "      <td>Transient</td>\n",
       "      <td>153.00</td>\n",
       "      <td>1</td>\n",
       "      <td>0</td>\n",
       "      <td>Check-Out</td>\n",
       "      <td>05-07-2015</td>\n",
       "    </tr>\n",
       "    <tr>\n",
       "      <th>3</th>\n",
       "      <td>Resort Hotel</td>\n",
       "      <td>0</td>\n",
       "      <td>9</td>\n",
       "      <td>2015</td>\n",
       "      <td>July</td>\n",
       "      <td>27</td>\n",
       "      <td>3</td>\n",
       "      <td>0</td>\n",
       "      <td>1</td>\n",
       "      <td>2</td>\n",
       "      <td>...</td>\n",
       "      <td>No Deposit</td>\n",
       "      <td>241.0</td>\n",
       "      <td>NaN</td>\n",
       "      <td>0</td>\n",
       "      <td>Transient</td>\n",
       "      <td>94.71</td>\n",
       "      <td>0</td>\n",
       "      <td>0</td>\n",
       "      <td>Check-Out</td>\n",
       "      <td>04-07-2015</td>\n",
       "    </tr>\n",
       "    <tr>\n",
       "      <th>4</th>\n",
       "      <td>Resort Hotel</td>\n",
       "      <td>0</td>\n",
       "      <td>51</td>\n",
       "      <td>2015</td>\n",
       "      <td>July</td>\n",
       "      <td>28</td>\n",
       "      <td>6</td>\n",
       "      <td>1</td>\n",
       "      <td>3</td>\n",
       "      <td>2</td>\n",
       "      <td>...</td>\n",
       "      <td>No Deposit</td>\n",
       "      <td>241.0</td>\n",
       "      <td>NaN</td>\n",
       "      <td>0</td>\n",
       "      <td>Transient</td>\n",
       "      <td>117.81</td>\n",
       "      <td>1</td>\n",
       "      <td>2</td>\n",
       "      <td>Check-Out</td>\n",
       "      <td>10-07-2015</td>\n",
       "    </tr>\n",
       "    <tr>\n",
       "      <th>...</th>\n",
       "      <td>...</td>\n",
       "      <td>...</td>\n",
       "      <td>...</td>\n",
       "      <td>...</td>\n",
       "      <td>...</td>\n",
       "      <td>...</td>\n",
       "      <td>...</td>\n",
       "      <td>...</td>\n",
       "      <td>...</td>\n",
       "      <td>...</td>\n",
       "      <td>...</td>\n",
       "      <td>...</td>\n",
       "      <td>...</td>\n",
       "      <td>...</td>\n",
       "      <td>...</td>\n",
       "      <td>...</td>\n",
       "      <td>...</td>\n",
       "      <td>...</td>\n",
       "      <td>...</td>\n",
       "      <td>...</td>\n",
       "      <td>...</td>\n",
       "    </tr>\n",
       "    <tr>\n",
       "      <th>2092</th>\n",
       "      <td>City Hotel</td>\n",
       "      <td>0</td>\n",
       "      <td>15</td>\n",
       "      <td>2017</td>\n",
       "      <td>August</td>\n",
       "      <td>34</td>\n",
       "      <td>25</td>\n",
       "      <td>2</td>\n",
       "      <td>2</td>\n",
       "      <td>2</td>\n",
       "      <td>...</td>\n",
       "      <td>No Deposit</td>\n",
       "      <td>14.0</td>\n",
       "      <td>NaN</td>\n",
       "      <td>0</td>\n",
       "      <td>Transient</td>\n",
       "      <td>132.53</td>\n",
       "      <td>0</td>\n",
       "      <td>2</td>\n",
       "      <td>Check-Out</td>\n",
       "      <td>29-08-2017</td>\n",
       "    </tr>\n",
       "    <tr>\n",
       "      <th>2093</th>\n",
       "      <td>City Hotel</td>\n",
       "      <td>0</td>\n",
       "      <td>83</td>\n",
       "      <td>2017</td>\n",
       "      <td>August</td>\n",
       "      <td>35</td>\n",
       "      <td>28</td>\n",
       "      <td>1</td>\n",
       "      <td>3</td>\n",
       "      <td>1</td>\n",
       "      <td>...</td>\n",
       "      <td>No Deposit</td>\n",
       "      <td>14.0</td>\n",
       "      <td>NaN</td>\n",
       "      <td>0</td>\n",
       "      <td>Transient</td>\n",
       "      <td>147.68</td>\n",
       "      <td>0</td>\n",
       "      <td>0</td>\n",
       "      <td>Check-Out</td>\n",
       "      <td>01-09-2017</td>\n",
       "    </tr>\n",
       "    <tr>\n",
       "      <th>2094</th>\n",
       "      <td>City Hotel</td>\n",
       "      <td>0</td>\n",
       "      <td>189</td>\n",
       "      <td>2017</td>\n",
       "      <td>August</td>\n",
       "      <td>35</td>\n",
       "      <td>29</td>\n",
       "      <td>0</td>\n",
       "      <td>3</td>\n",
       "      <td>2</td>\n",
       "      <td>...</td>\n",
       "      <td>No Deposit</td>\n",
       "      <td>42.0</td>\n",
       "      <td>NaN</td>\n",
       "      <td>0</td>\n",
       "      <td>Transient</td>\n",
       "      <td>80.10</td>\n",
       "      <td>0</td>\n",
       "      <td>1</td>\n",
       "      <td>Check-Out</td>\n",
       "      <td>01-09-2017</td>\n",
       "    </tr>\n",
       "    <tr>\n",
       "      <th>2095</th>\n",
       "      <td>City Hotel</td>\n",
       "      <td>0</td>\n",
       "      <td>147</td>\n",
       "      <td>2017</td>\n",
       "      <td>August</td>\n",
       "      <td>35</td>\n",
       "      <td>28</td>\n",
       "      <td>1</td>\n",
       "      <td>5</td>\n",
       "      <td>2</td>\n",
       "      <td>...</td>\n",
       "      <td>No Deposit</td>\n",
       "      <td>14.0</td>\n",
       "      <td>NaN</td>\n",
       "      <td>0</td>\n",
       "      <td>Transient</td>\n",
       "      <td>117.00</td>\n",
       "      <td>0</td>\n",
       "      <td>1</td>\n",
       "      <td>Check-Out</td>\n",
       "      <td>03-09-2017</td>\n",
       "    </tr>\n",
       "    <tr>\n",
       "      <th>2096</th>\n",
       "      <td>City Hotel</td>\n",
       "      <td>0</td>\n",
       "      <td>135</td>\n",
       "      <td>2017</td>\n",
       "      <td>August</td>\n",
       "      <td>35</td>\n",
       "      <td>30</td>\n",
       "      <td>1</td>\n",
       "      <td>4</td>\n",
       "      <td>2</td>\n",
       "      <td>...</td>\n",
       "      <td>No Deposit</td>\n",
       "      <td>14.0</td>\n",
       "      <td>NaN</td>\n",
       "      <td>0</td>\n",
       "      <td>Transient</td>\n",
       "      <td>143.10</td>\n",
       "      <td>0</td>\n",
       "      <td>1</td>\n",
       "      <td>Check-Out</td>\n",
       "      <td>04-09-2017</td>\n",
       "    </tr>\n",
       "  </tbody>\n",
       "</table>\n",
       "<p>2097 rows × 32 columns</p>\n",
       "</div>"
      ],
      "text/plain": [
       "             hotel  is_canceled  lead_time  arrival_date_year  \\\n",
       "0     Resort Hotel            0         68               2015   \n",
       "1     Resort Hotel            0         14               2015   \n",
       "2     Resort Hotel            0         10               2015   \n",
       "3     Resort Hotel            0          9               2015   \n",
       "4     Resort Hotel            0         51               2015   \n",
       "...            ...          ...        ...                ...   \n",
       "2092    City Hotel            0         15               2017   \n",
       "2093    City Hotel            0         83               2017   \n",
       "2094    City Hotel            0        189               2017   \n",
       "2095    City Hotel            0        147               2017   \n",
       "2096    City Hotel            0        135               2017   \n",
       "\n",
       "     arrival_date_month  arrival_date_week_number  arrival_date_day_of_month  \\\n",
       "0                  July                        27                          1   \n",
       "1                  July                        27                          2   \n",
       "2                  July                        27                          3   \n",
       "3                  July                        27                          3   \n",
       "4                  July                        28                          6   \n",
       "...                 ...                       ...                        ...   \n",
       "2092             August                        34                         25   \n",
       "2093             August                        35                         28   \n",
       "2094             August                        35                         29   \n",
       "2095             August                        35                         28   \n",
       "2096             August                        35                         30   \n",
       "\n",
       "      stays_in_weekend_nights  stays_in_week_nights  adults  ...  \\\n",
       "0                           0                     4       2  ...   \n",
       "1                           0                     2       2  ...   \n",
       "2                           0                     2       2  ...   \n",
       "3                           0                     1       2  ...   \n",
       "4                           1                     3       2  ...   \n",
       "...                       ...                   ...     ...  ...   \n",
       "2092                        2                     2       2  ...   \n",
       "2093                        1                     3       1  ...   \n",
       "2094                        0                     3       2  ...   \n",
       "2095                        1                     5       2  ...   \n",
       "2096                        1                     4       2  ...   \n",
       "\n",
       "      deposit_type  agent company days_in_waiting_list customer_type     adr  \\\n",
       "0       No Deposit  240.0     NaN                    0     Transient   97.00   \n",
       "1       No Deposit  242.0     NaN                    0     Transient   98.00   \n",
       "2       No Deposit  240.0     NaN                    0     Transient  153.00   \n",
       "3       No Deposit  241.0     NaN                    0     Transient   94.71   \n",
       "4       No Deposit  241.0     NaN                    0     Transient  117.81   \n",
       "...            ...    ...     ...                  ...           ...     ...   \n",
       "2092    No Deposit   14.0     NaN                    0     Transient  132.53   \n",
       "2093    No Deposit   14.0     NaN                    0     Transient  147.68   \n",
       "2094    No Deposit   42.0     NaN                    0     Transient   80.10   \n",
       "2095    No Deposit   14.0     NaN                    0     Transient  117.00   \n",
       "2096    No Deposit   14.0     NaN                    0     Transient  143.10   \n",
       "\n",
       "      required_car_parking_spaces  total_of_special_requests  \\\n",
       "0                               0                          3   \n",
       "1                               0                          1   \n",
       "2                               1                          0   \n",
       "3                               0                          0   \n",
       "4                               1                          2   \n",
       "...                           ...                        ...   \n",
       "2092                            0                          2   \n",
       "2093                            0                          0   \n",
       "2094                            0                          1   \n",
       "2095                            0                          1   \n",
       "2096                            0                          1   \n",
       "\n",
       "      reservation_status reservation_status_date  \n",
       "0              Check-Out              05-07-2015  \n",
       "1              Check-Out              04-07-2015  \n",
       "2              Check-Out              05-07-2015  \n",
       "3              Check-Out              04-07-2015  \n",
       "4              Check-Out              10-07-2015  \n",
       "...                  ...                     ...  \n",
       "2092           Check-Out              29-08-2017  \n",
       "2093           Check-Out              01-09-2017  \n",
       "2094           Check-Out              01-09-2017  \n",
       "2095           Check-Out              03-09-2017  \n",
       "2096           Check-Out              04-09-2017  \n",
       "\n",
       "[2097 rows x 32 columns]"
      ]
     },
     "execution_count": 51,
     "metadata": {},
     "output_type": "execute_result"
    }
   ],
   "source": [
    "q"
   ]
  },
  {
   "cell_type": "markdown",
   "id": "c126f6a9",
   "metadata": {},
   "source": [
    "- Slice the DataFrame to get the first 5 rows."
   ]
  },
  {
   "cell_type": "code",
   "execution_count": 53,
   "id": "d362f192-1994-4ee8-897d-ca2e1ab88ae4",
   "metadata": {},
   "outputs": [
    {
     "data": {
      "text/plain": [
       "0    68\n",
       "1    14\n",
       "2    10\n",
       "3     9\n",
       "4    51\n",
       "Name: lead_time, dtype: int64"
      ]
     },
     "execution_count": 53,
     "metadata": {},
     "output_type": "execute_result"
    }
   ],
   "source": [
    "q.iloc[:5,2]"
   ]
  },
  {
   "cell_type": "markdown",
   "id": "171636c4",
   "metadata": {},
   "source": [
    "## Appending New Rows and Columns"
   ]
  },
  {
   "cell_type": "markdown",
   "id": "4b253a70",
   "metadata": {},
   "source": [
    "- Add a new column to a DataFrame."
   ]
  },
  {
   "cell_type": "code",
   "execution_count": 56,
   "id": "a8851a4d-f1d4-4daf-b2b0-d218cf4df230",
   "metadata": {},
   "outputs": [],
   "source": [
    "p=q"
   ]
  },
  {
   "cell_type": "code",
   "execution_count": 57,
   "id": "eea508dd-0785-41b4-a4f2-8955bd6716ed",
   "metadata": {},
   "outputs": [
    {
     "data": {
      "text/plain": [
       "0       101.0\n",
       "1       101.0\n",
       "2         NaN\n",
       "3         NaN\n",
       "4       101.0\n",
       "        ...  \n",
       "2092    101.0\n",
       "2093      NaN\n",
       "2094    101.0\n",
       "2095    101.0\n",
       "2096    101.0\n",
       "Name: TOSP, Length: 2097, dtype: float64"
      ]
     },
     "execution_count": 57,
     "metadata": {},
     "output_type": "execute_result"
    }
   ],
   "source": [
    "p['TOSP']=p['total_of_special_requests']*100/p['total_of_special_requests']+1\t\n",
    "p['TOSP']"
   ]
  },
  {
   "cell_type": "markdown",
   "id": "54caa302",
   "metadata": {},
   "source": [
    "- Append a new row to the DataFrame."
   ]
  },
  {
   "cell_type": "code",
   "execution_count": 59,
   "id": "aa6a9199-3aaf-4851-a476-0cbf5721d403",
   "metadata": {},
   "outputs": [
    {
     "name": "stderr",
     "output_type": "stream",
     "text": [
      "C:\\Users\\asher\\AppData\\Local\\Temp\\ipykernel_23972\\800222377.py:5: FutureWarning: A value is trying to be set on a copy of a DataFrame or Series through chained assignment using an inplace method.\n",
      "The behavior will change in pandas 3.0. This inplace method will never work because the intermediate object on which we are setting values always behaves as a copy.\n",
      "\n",
      "For example, when doing 'df[col].method(value, inplace=True)', try using 'df.method({col: value}, inplace=True)' or df[col] = df[col].method(value) instead, to perform the operation inplace on the original object.\n",
      "\n",
      "\n",
      "  data['A'].fillna(data['A'].median(),inplace=True)\n",
      "C:\\Users\\asher\\AppData\\Local\\Temp\\ipykernel_23972\\800222377.py:6: FutureWarning: A value is trying to be set on a copy of a DataFrame or Series through chained assignment using an inplace method.\n",
      "The behavior will change in pandas 3.0. This inplace method will never work because the intermediate object on which we are setting values always behaves as a copy.\n",
      "\n",
      "For example, when doing 'df[col].method(value, inplace=True)', try using 'df.method({col: value}, inplace=True)' or df[col] = df[col].method(value) instead, to perform the operation inplace on the original object.\n",
      "\n",
      "\n",
      "  data['B'].fillna(data['B'].median(),inplace=True)\n",
      "C:\\Users\\asher\\AppData\\Local\\Temp\\ipykernel_23972\\800222377.py:7: FutureWarning: A value is trying to be set on a copy of a DataFrame or Series through chained assignment using an inplace method.\n",
      "The behavior will change in pandas 3.0. This inplace method will never work because the intermediate object on which we are setting values always behaves as a copy.\n",
      "\n",
      "For example, when doing 'df[col].method(value, inplace=True)', try using 'df.method({col: value}, inplace=True)' or df[col] = df[col].method(value) instead, to perform the operation inplace on the original object.\n",
      "\n",
      "\n",
      "  data['C'].fillna(data['C'].median(),inplace=True)\n"
     ]
    }
   ],
   "source": [
    "data = {'A': [1, 2, np.nan, 4], \n",
    "        'B': [np.nan, 5, 6, 7], \n",
    "        'C': [8, 9, 10, np.nan]}\n",
    "data=pd.DataFrame(data)\n",
    "data['A'].fillna(data['A'].median(),inplace=True)\n",
    "data['B'].fillna(data['B'].median(),inplace=True)\n",
    "data['C'].fillna(data['C'].median(),inplace=True)"
   ]
  },
  {
   "cell_type": "code",
   "execution_count": 60,
   "id": "701fb408-85e8-4807-8b9b-8fd94ae2237e",
   "metadata": {},
   "outputs": [
    {
     "data": {
      "text/html": [
       "<div>\n",
       "<style scoped>\n",
       "    .dataframe tbody tr th:only-of-type {\n",
       "        vertical-align: middle;\n",
       "    }\n",
       "\n",
       "    .dataframe tbody tr th {\n",
       "        vertical-align: top;\n",
       "    }\n",
       "\n",
       "    .dataframe thead th {\n",
       "        text-align: right;\n",
       "    }\n",
       "</style>\n",
       "<table border=\"1\" class=\"dataframe\">\n",
       "  <thead>\n",
       "    <tr style=\"text-align: right;\">\n",
       "      <th></th>\n",
       "      <th>A</th>\n",
       "      <th>B</th>\n",
       "      <th>C</th>\n",
       "    </tr>\n",
       "  </thead>\n",
       "  <tbody>\n",
       "    <tr>\n",
       "      <th>0</th>\n",
       "      <td>1.0</td>\n",
       "      <td>6.0</td>\n",
       "      <td>8.0</td>\n",
       "    </tr>\n",
       "    <tr>\n",
       "      <th>1</th>\n",
       "      <td>2.0</td>\n",
       "      <td>5.0</td>\n",
       "      <td>9.0</td>\n",
       "    </tr>\n",
       "    <tr>\n",
       "      <th>2</th>\n",
       "      <td>2.0</td>\n",
       "      <td>6.0</td>\n",
       "      <td>10.0</td>\n",
       "    </tr>\n",
       "    <tr>\n",
       "      <th>3</th>\n",
       "      <td>4.0</td>\n",
       "      <td>5.0</td>\n",
       "      <td>8.0</td>\n",
       "    </tr>\n",
       "  </tbody>\n",
       "</table>\n",
       "</div>"
      ],
      "text/plain": [
       "     A    B     C\n",
       "0  1.0  6.0   8.0\n",
       "1  2.0  5.0   9.0\n",
       "2  2.0  6.0  10.0\n",
       "3  4.0  5.0   8.0"
      ]
     },
     "execution_count": 60,
     "metadata": {},
     "output_type": "execute_result"
    }
   ],
   "source": [
    "a=[4,5,8]\n",
    "data.loc[3,:]=a\n",
    "data"
   ]
  },
  {
   "cell_type": "markdown",
   "id": "f415b083",
   "metadata": {},
   "source": [
    "- Insert a column at a specific position."
   ]
  },
  {
   "cell_type": "code",
   "execution_count": 62,
   "id": "eaa3f50b-90d1-4aca-a115-48f1f33e457b",
   "metadata": {},
   "outputs": [],
   "source": [
    "data['E']=data.iloc[:,1]"
   ]
  },
  {
   "cell_type": "code",
   "execution_count": 63,
   "id": "a2e5754f-1ff0-47a5-9946-fa785738d684",
   "metadata": {},
   "outputs": [
    {
     "ename": "ValueError",
     "evalue": "cannot insert E, already exists",
     "output_type": "error",
     "traceback": [
      "\u001b[1;31m---------------------------------------------------------------------------\u001b[0m",
      "\u001b[1;31mValueError\u001b[0m                                Traceback (most recent call last)",
      "\u001b[1;32m~\\AppData\\Local\\Temp\\ipykernel_23972\\2191624722.py\u001b[0m in \u001b[0;36m?\u001b[1;34m()\u001b[0m\n\u001b[1;32m----> 1\u001b[1;33m \u001b[0mdata\u001b[0m\u001b[1;33m.\u001b[0m\u001b[0minsert\u001b[0m\u001b[1;33m(\u001b[0m\u001b[1;36m1\u001b[0m\u001b[1;33m,\u001b[0m\u001b[1;34m'E'\u001b[0m\u001b[1;33m,\u001b[0m\u001b[1;33m[\u001b[0m\u001b[1;36m8.0\u001b[0m\u001b[1;33m,\u001b[0m\u001b[1;36m9.0\u001b[0m\u001b[1;33m,\u001b[0m\u001b[1;36m10\u001b[0m\u001b[1;33m,\u001b[0m\u001b[1;36m5.0\u001b[0m\u001b[1;33m]\u001b[0m\u001b[1;33m)\u001b[0m\u001b[1;33m\u001b[0m\u001b[1;33m\u001b[0m\u001b[0m\n\u001b[0m",
      "\u001b[1;32m~\\anaconda3\\Lib\\site-packages\\pandas\\core\\frame.py\u001b[0m in \u001b[0;36m?\u001b[1;34m(self, loc, column, value, allow_duplicates)\u001b[0m\n\u001b[0;32m   5154\u001b[0m                 \u001b[1;34m\"'self.flags.allows_duplicate_labels' is False.\"\u001b[0m\u001b[1;33m\u001b[0m\u001b[1;33m\u001b[0m\u001b[0m\n\u001b[0;32m   5155\u001b[0m             \u001b[1;33m)\u001b[0m\u001b[1;33m\u001b[0m\u001b[1;33m\u001b[0m\u001b[0m\n\u001b[0;32m   5156\u001b[0m         \u001b[1;32mif\u001b[0m \u001b[1;32mnot\u001b[0m \u001b[0mallow_duplicates\u001b[0m \u001b[1;32mand\u001b[0m \u001b[0mcolumn\u001b[0m \u001b[1;32min\u001b[0m \u001b[0mself\u001b[0m\u001b[1;33m.\u001b[0m\u001b[0mcolumns\u001b[0m\u001b[1;33m:\u001b[0m\u001b[1;33m\u001b[0m\u001b[1;33m\u001b[0m\u001b[0m\n\u001b[0;32m   5157\u001b[0m             \u001b[1;31m# Should this be a different kind of error??\u001b[0m\u001b[1;33m\u001b[0m\u001b[1;33m\u001b[0m\u001b[0m\n\u001b[1;32m-> 5158\u001b[1;33m             \u001b[1;32mraise\u001b[0m \u001b[0mValueError\u001b[0m\u001b[1;33m(\u001b[0m\u001b[1;33mf\"\u001b[0m\u001b[1;33mcannot insert \u001b[0m\u001b[1;33m{\u001b[0m\u001b[0mcolumn\u001b[0m\u001b[1;33m}\u001b[0m\u001b[1;33m, already exists\u001b[0m\u001b[1;33m\"\u001b[0m\u001b[1;33m)\u001b[0m\u001b[1;33m\u001b[0m\u001b[1;33m\u001b[0m\u001b[0m\n\u001b[0m\u001b[0;32m   5159\u001b[0m         \u001b[1;32mif\u001b[0m \u001b[1;32mnot\u001b[0m \u001b[0mis_integer\u001b[0m\u001b[1;33m(\u001b[0m\u001b[0mloc\u001b[0m\u001b[1;33m)\u001b[0m\u001b[1;33m:\u001b[0m\u001b[1;33m\u001b[0m\u001b[1;33m\u001b[0m\u001b[0m\n\u001b[0;32m   5160\u001b[0m             \u001b[1;32mraise\u001b[0m \u001b[0mTypeError\u001b[0m\u001b[1;33m(\u001b[0m\u001b[1;34m\"loc must be int\"\u001b[0m\u001b[1;33m)\u001b[0m\u001b[1;33m\u001b[0m\u001b[1;33m\u001b[0m\u001b[0m\n\u001b[0;32m   5161\u001b[0m         \u001b[1;31m# convert non stdlib ints to satisfy typing checks\u001b[0m\u001b[1;33m\u001b[0m\u001b[1;33m\u001b[0m\u001b[0m\n",
      "\u001b[1;31mValueError\u001b[0m: cannot insert E, already exists"
     ]
    }
   ],
   "source": [
    "data.insert(1,'E',[8.0,9.0,10,5.0])"
   ]
  },
  {
   "cell_type": "code",
   "execution_count": null,
   "id": "ea455301-32f0-4c80-a355-129b05249c4f",
   "metadata": {},
   "outputs": [],
   "source": [
    "data"
   ]
  },
  {
   "cell_type": "code",
   "execution_count": null,
   "id": "3b3c5d77-a26a-4317-9756-6eb2b729a41a",
   "metadata": {},
   "outputs": [],
   "source": []
  },
  {
   "cell_type": "markdown",
   "id": "884defe3",
   "metadata": {},
   "source": [
    "- Delete a column from the DataFrame."
   ]
  },
  {
   "cell_type": "code",
   "execution_count": null,
   "id": "bf2c929c-8217-48de-9596-923948c510bd",
   "metadata": {},
   "outputs": [],
   "source": [
    "data=data.drop(columns=['E'])\n",
    "data"
   ]
  },
  {
   "cell_type": "code",
   "execution_count": null,
   "id": "500f16de-9ad7-4147-b3fc-13b686e61892",
   "metadata": {},
   "outputs": [],
   "source": [
    "data=data.drop(3)\n",
    "data"
   ]
  },
  {
   "cell_type": "markdown",
   "id": "9b8fbfc5",
   "metadata": {},
   "source": [
    "## Search and Replace in DataFrames"
   ]
  },
  {
   "cell_type": "markdown",
   "id": "db377042",
   "metadata": {},
   "source": [
    "- Replace all occurrences of 'male' with 'M' in a column."
   ]
  },
  {
   "cell_type": "code",
   "execution_count": null,
   "id": "fe010740-ee2e-4872-98df-ba89846381a4",
   "metadata": {},
   "outputs": [],
   "source": [
    "df = pd.DataFrame({'Name': ['Alice', 'Bob', 'Charlie'],\n",
    "                   'Gender': ['female', 'male', 'male']})"
   ]
  },
  {
   "cell_type": "code",
   "execution_count": null,
   "id": "8a37212d-69c7-4d0b-84f2-04b53dbf3f98",
   "metadata": {},
   "outputs": [],
   "source": [
    "df=df.replace('male','M')\n",
    "df"
   ]
  },
  {
   "cell_type": "markdown",
   "id": "de165dd8",
   "metadata": {},
   "source": [
    "- Find and replace missing values with mean."
   ]
  },
  {
   "cell_type": "code",
   "execution_count": null,
   "id": "5ec5a653-844b-4340-b762-22b5877efa8b",
   "metadata": {},
   "outputs": [],
   "source": [
    "data = {'A': [1, 2, np.nan, 4], \n",
    "        'B': [np.nan, 5, 6, 7], \n",
    "        'C': [8, 9, 10, np.nan]}\n",
    "data=pd.DataFrame(data)"
   ]
  },
  {
   "cell_type": "code",
   "execution_count": null,
   "id": "ed37aa71-3d7f-4683-abdd-43bec3f3db30",
   "metadata": {},
   "outputs": [],
   "source": [
    "data.fillna(data.mean(),inplace=True)\n"
   ]
  },
  {
   "cell_type": "code",
   "execution_count": null,
   "id": "9ba01a84-1526-4e12-80fa-b61c94afbf3b",
   "metadata": {},
   "outputs": [],
   "source": [
    "data"
   ]
  },
  {
   "cell_type": "code",
   "execution_count": null,
   "id": "ff24eef7-7c11-45a5-8311-09d92a4d1a9f",
   "metadata": {},
   "outputs": [],
   "source": [
    "data = {'A': [1, 2, np.nan, 4], \n",
    "        'B': [np.nan, 5, 6, 7], \n",
    "        'C': [8, 9, 10, np.nan]}\n",
    "data=pd.DataFrame(data)"
   ]
  },
  {
   "cell_type": "code",
   "execution_count": null,
   "id": "05b845e6-3239-4b25-90f8-0d8e2afcac5e",
   "metadata": {},
   "outputs": [],
   "source": [
    "data"
   ]
  },
  {
   "cell_type": "code",
   "execution_count": null,
   "id": "9932d20b-2f1f-49b9-88ce-11a4aa6cf079",
   "metadata": {},
   "outputs": [],
   "source": [
    "data['A'].fillna(data['A'].mean(),inplace=True)\n"
   ]
  },
  {
   "cell_type": "code",
   "execution_count": null,
   "id": "dbc948e8-c1d2-4469-862e-b576b05afd98",
   "metadata": {},
   "outputs": [],
   "source": [
    "data"
   ]
  },
  {
   "cell_type": "markdown",
   "id": "aeb1c079",
   "metadata": {},
   "source": [
    "- Replace specific values based on a condition."
   ]
  },
  {
   "cell_type": "code",
   "execution_count": null,
   "id": "488f567f-ded6-476c-a824-9dbc2e28fecc",
   "metadata": {},
   "outputs": [],
   "source": [
    "data[data>5]='T'"
   ]
  },
  {
   "cell_type": "code",
   "execution_count": null,
   "id": "2ec20567-7b2a-41b7-90aa-ebeb8c698ce1",
   "metadata": {},
   "outputs": [],
   "source": [
    "data"
   ]
  },
  {
   "cell_type": "markdown",
   "id": "6e34d10a",
   "metadata": {},
   "source": [
    "## Update and Delete Operations"
   ]
  },
  {
   "cell_type": "markdown",
   "id": "b2166611",
   "metadata": {},
   "source": [
    "- Update all salaries in a DataFrame by increasing them by 10%."
   ]
  },
  {
   "cell_type": "code",
   "execution_count": null,
   "id": "f21cfe19-65c9-410b-b1f8-e340e24bd7f1",
   "metadata": {},
   "outputs": [],
   "source": [
    "data = {\n",
    "    'Employee_ID': [101, 102, 103, 104],\n",
    "    'Name': ['Alice', 'Bob', 'Charlie', 'David'],\n",
    "    'Department': ['HR', 'IT', 'Finance', 'Marketing'],\n",
    "    'Salary': [60000, 75000, 82000, 72000]\n",
    "}\n",
    "data=pd.DataFrame(data)"
   ]
  },
  {
   "cell_type": "code",
   "execution_count": null,
   "id": "92e17ef1-023a-4bf6-abf6-43a307bc7008",
   "metadata": {},
   "outputs": [],
   "source": [
    "data['Salary']=data['Salary']+data['Salary']*0.1\n",
    "data"
   ]
  },
  {
   "cell_type": "markdown",
   "id": "bbea1a8b",
   "metadata": {},
   "source": [
    "- Delete a specific row based on a condition."
   ]
  },
  {
   "cell_type": "code",
   "execution_count": null,
   "id": "b30ac66a-098d-463a-86c3-ea36783e8b5b",
   "metadata": {},
   "outputs": [],
   "source": [
    "data[data['Salary']<70000]"
   ]
  },
  {
   "cell_type": "code",
   "execution_count": null,
   "id": "5268b773-2a83-4972-96d1-1edb74563ceb",
   "metadata": {},
   "outputs": [],
   "source": [
    "data.drop(data[data['Salary']<90000].index,inplace=True)\n",
    "data"
   ]
  },
  {
   "cell_type": "markdown",
   "id": "d98d2049",
   "metadata": {},
   "source": [
    "- Remove all rows with missing values."
   ]
  },
  {
   "cell_type": "code",
   "execution_count": null,
   "id": "a4011bc2-fbdf-4ebe-8ada-9cca3da4e133",
   "metadata": {},
   "outputs": [],
   "source": [
    "data = {'A': [1, 2, np.nan, 4], \n",
    "        'B': [np.nan, 5, 6, 7], \n",
    "        'C': [8, 9, 10, np.nan]}\n",
    "data=pd.DataFrame(data)"
   ]
  },
  {
   "cell_type": "code",
   "execution_count": null,
   "id": "839bf322-194d-4a7d-965f-f151a021fbd5",
   "metadata": {},
   "outputs": [],
   "source": [
    "data"
   ]
  },
  {
   "cell_type": "code",
   "execution_count": null,
   "id": "d1157eaf-13e7-49a6-8e84-140a7f7e5971",
   "metadata": {},
   "outputs": [],
   "source": [
    "d=data.dropna()\n",
    "d"
   ]
  },
  {
   "cell_type": "markdown",
   "id": "bc3cd064",
   "metadata": {},
   "source": [
    "## Joining DataFrames"
   ]
  },
  {
   "cell_type": "markdown",
   "id": "af8711ea",
   "metadata": {},
   "source": [
    "- Perform an inner join on two DataFrames using a common key."
   ]
  },
  {
   "cell_type": "code",
   "execution_count": 96,
   "id": "d1e6eecb-1ffb-49c0-9d8d-5ff24b7e3cc9",
   "metadata": {},
   "outputs": [],
   "source": [
    "df1 = pd.DataFrame({\n",
    "    'Employee_ID': [101, 102, 103],\n",
    "    'Name': ['Alice', 'Bob', 'Charlie'],\n",
    "    'Salary': [60000, 75000, 82000]\n",
    "})\n",
    "\n",
    "# Second DataFrame\n",
    "df2 = pd.DataFrame({\n",
    "    'Employee_ID': [104, 105, 106],\n",
    "    'Name': ['David', 'Eve', 'Frank'],\n",
    "    'Salary': [72000, 50000, 65000]\n",
    "})\n",
    "\n",
    "df_dept = pd.DataFrame({\n",
    "    'Employee_ID': [101, 102, 103, 104],\n",
    "    'Department': ['HR', 'IT', 'Finance', 'Marketing']\n",
    "})\n",
    "\n",
    "\n"
   ]
  },
  {
   "cell_type": "code",
   "execution_count": 98,
   "id": "4c0613fe-9436-4927-be4d-90d1bc86148b",
   "metadata": {
    "scrolled": true
   },
   "outputs": [
    {
     "data": {
      "text/html": [
       "<div>\n",
       "<style scoped>\n",
       "    .dataframe tbody tr th:only-of-type {\n",
       "        vertical-align: middle;\n",
       "    }\n",
       "\n",
       "    .dataframe tbody tr th {\n",
       "        vertical-align: top;\n",
       "    }\n",
       "\n",
       "    .dataframe thead th {\n",
       "        text-align: right;\n",
       "    }\n",
       "</style>\n",
       "<table border=\"1\" class=\"dataframe\">\n",
       "  <thead>\n",
       "    <tr style=\"text-align: right;\">\n",
       "      <th></th>\n",
       "      <th>Employee_ID</th>\n",
       "      <th>Name</th>\n",
       "      <th>Salary</th>\n",
       "      <th>Department</th>\n",
       "    </tr>\n",
       "  </thead>\n",
       "  <tbody>\n",
       "    <tr>\n",
       "      <th>0</th>\n",
       "      <td>101</td>\n",
       "      <td>Alice</td>\n",
       "      <td>60000</td>\n",
       "      <td>HR</td>\n",
       "    </tr>\n",
       "    <tr>\n",
       "      <th>1</th>\n",
       "      <td>102</td>\n",
       "      <td>Bob</td>\n",
       "      <td>75000</td>\n",
       "      <td>IT</td>\n",
       "    </tr>\n",
       "    <tr>\n",
       "      <th>2</th>\n",
       "      <td>103</td>\n",
       "      <td>Charlie</td>\n",
       "      <td>82000</td>\n",
       "      <td>Finance</td>\n",
       "    </tr>\n",
       "  </tbody>\n",
       "</table>\n",
       "</div>"
      ],
      "text/plain": [
       "   Employee_ID     Name  Salary Department\n",
       "0          101    Alice   60000         HR\n",
       "1          102      Bob   75000         IT\n",
       "2          103  Charlie   82000    Finance"
      ]
     },
     "execution_count": 98,
     "metadata": {},
     "output_type": "execute_result"
    }
   ],
   "source": [
    "pd.merge(df1,df_dept,on='Employee_ID',how='inner')"
   ]
  },
  {
   "cell_type": "code",
   "execution_count": 100,
   "id": "1a1c7675-7e24-4e70-a3fc-5a70bf27c872",
   "metadata": {},
   "outputs": [],
   "source": [
    "df1 = pd.DataFrame({\n",
    "    'Employee_ID': [101, 102, 103],\n",
    "    'Name': ['Alice', 'Bob', 'Charlie'],\n",
    "    'Salary': [60000, 75000, 82000]\n",
    "})\n",
    "\n",
    "# Second DataFrame\n",
    "df2 = pd.DataFrame({\n",
    "    'Employee_ID': [104, 105, 106],\n",
    "    'Name': ['David', 'Eve', 'Frank'],\n",
    "    'Salary': [72000, 50000, 65000]\n",
    "})\n",
    "\n",
    "df_dept = pd.DataFrame({\n",
    "    'Employee_ID': [101, 102, 103, 104],\n",
    "    'Department': ['HR', 'IT', 'Finance', 'Marketing']\n",
    "})\n",
    "\n",
    "\n"
   ]
  },
  {
   "cell_type": "markdown",
   "id": "160445fb",
   "metadata": {},
   "source": [
    "- Perform a left join and a right join."
   ]
  },
  {
   "cell_type": "code",
   "execution_count": 102,
   "id": "47005dd6-7ea4-4f2c-90b4-2b16bfebd1e3",
   "metadata": {},
   "outputs": [
    {
     "data": {
      "text/html": [
       "<div>\n",
       "<style scoped>\n",
       "    .dataframe tbody tr th:only-of-type {\n",
       "        vertical-align: middle;\n",
       "    }\n",
       "\n",
       "    .dataframe tbody tr th {\n",
       "        vertical-align: top;\n",
       "    }\n",
       "\n",
       "    .dataframe thead th {\n",
       "        text-align: right;\n",
       "    }\n",
       "</style>\n",
       "<table border=\"1\" class=\"dataframe\">\n",
       "  <thead>\n",
       "    <tr style=\"text-align: right;\">\n",
       "      <th></th>\n",
       "      <th>Employee_ID</th>\n",
       "      <th>Name</th>\n",
       "      <th>Salary</th>\n",
       "      <th>Department</th>\n",
       "    </tr>\n",
       "  </thead>\n",
       "  <tbody>\n",
       "    <tr>\n",
       "      <th>0</th>\n",
       "      <td>101</td>\n",
       "      <td>Alice</td>\n",
       "      <td>60000</td>\n",
       "      <td>HR</td>\n",
       "    </tr>\n",
       "    <tr>\n",
       "      <th>1</th>\n",
       "      <td>102</td>\n",
       "      <td>Bob</td>\n",
       "      <td>75000</td>\n",
       "      <td>IT</td>\n",
       "    </tr>\n",
       "    <tr>\n",
       "      <th>2</th>\n",
       "      <td>103</td>\n",
       "      <td>Charlie</td>\n",
       "      <td>82000</td>\n",
       "      <td>Finance</td>\n",
       "    </tr>\n",
       "  </tbody>\n",
       "</table>\n",
       "</div>"
      ],
      "text/plain": [
       "   Employee_ID     Name  Salary Department\n",
       "0          101    Alice   60000         HR\n",
       "1          102      Bob   75000         IT\n",
       "2          103  Charlie   82000    Finance"
      ]
     },
     "execution_count": 102,
     "metadata": {},
     "output_type": "execute_result"
    }
   ],
   "source": [
    "pd.merge(df1,df_dept,on='Employee_ID',how='left')"
   ]
  },
  {
   "cell_type": "code",
   "execution_count": 104,
   "id": "44868b92-c76f-4333-be86-f84ebc4bac53",
   "metadata": {},
   "outputs": [
    {
     "data": {
      "text/html": [
       "<div>\n",
       "<style scoped>\n",
       "    .dataframe tbody tr th:only-of-type {\n",
       "        vertical-align: middle;\n",
       "    }\n",
       "\n",
       "    .dataframe tbody tr th {\n",
       "        vertical-align: top;\n",
       "    }\n",
       "\n",
       "    .dataframe thead th {\n",
       "        text-align: right;\n",
       "    }\n",
       "</style>\n",
       "<table border=\"1\" class=\"dataframe\">\n",
       "  <thead>\n",
       "    <tr style=\"text-align: right;\">\n",
       "      <th></th>\n",
       "      <th>Employee_ID</th>\n",
       "      <th>Name</th>\n",
       "      <th>Salary</th>\n",
       "      <th>Department</th>\n",
       "    </tr>\n",
       "  </thead>\n",
       "  <tbody>\n",
       "    <tr>\n",
       "      <th>0</th>\n",
       "      <td>101</td>\n",
       "      <td>Alice</td>\n",
       "      <td>60000.0</td>\n",
       "      <td>HR</td>\n",
       "    </tr>\n",
       "    <tr>\n",
       "      <th>1</th>\n",
       "      <td>102</td>\n",
       "      <td>Bob</td>\n",
       "      <td>75000.0</td>\n",
       "      <td>IT</td>\n",
       "    </tr>\n",
       "    <tr>\n",
       "      <th>2</th>\n",
       "      <td>103</td>\n",
       "      <td>Charlie</td>\n",
       "      <td>82000.0</td>\n",
       "      <td>Finance</td>\n",
       "    </tr>\n",
       "    <tr>\n",
       "      <th>3</th>\n",
       "      <td>104</td>\n",
       "      <td>NaN</td>\n",
       "      <td>NaN</td>\n",
       "      <td>Marketing</td>\n",
       "    </tr>\n",
       "  </tbody>\n",
       "</table>\n",
       "</div>"
      ],
      "text/plain": [
       "   Employee_ID     Name   Salary Department\n",
       "0          101    Alice  60000.0         HR\n",
       "1          102      Bob  75000.0         IT\n",
       "2          103  Charlie  82000.0    Finance\n",
       "3          104      NaN      NaN  Marketing"
      ]
     },
     "execution_count": 104,
     "metadata": {},
     "output_type": "execute_result"
    }
   ],
   "source": [
    "pd.merge(df1,df_dept,on='Employee_ID',how='right')"
   ]
  },
  {
   "cell_type": "code",
   "execution_count": 146,
   "id": "48d2e4d0-74fc-46ac-9819-719927ca88c1",
   "metadata": {},
   "outputs": [],
   "source": [
    "df1 = pd.DataFrame({\n",
    "    'Employee_ID': [101, 102, 103],\n",
    "    'Name': ['Alice', 'Bob', 'Charlie'],\n",
    "    'Salary': [60000, 75000, 82000]\n",
    "})\n",
    "\n",
    "# Second DataFrame\n",
    "df2 = pd.DataFrame({\n",
    "    'Employee_ID': [104, 105, 106],\n",
    "    'Name': ['David', 'Eve', 'Frank'],\n",
    "    'Salary': [72000, 50000, 65000]\n",
    "})"
   ]
  },
  {
   "cell_type": "code",
   "execution_count": 154,
   "id": "63107985-f47a-4b8d-9c0a-4df041762656",
   "metadata": {},
   "outputs": [
    {
     "data": {
      "text/html": [
       "<div>\n",
       "<style scoped>\n",
       "    .dataframe tbody tr th:only-of-type {\n",
       "        vertical-align: middle;\n",
       "    }\n",
       "\n",
       "    .dataframe tbody tr th {\n",
       "        vertical-align: top;\n",
       "    }\n",
       "\n",
       "    .dataframe thead th {\n",
       "        text-align: right;\n",
       "    }\n",
       "</style>\n",
       "<table border=\"1\" class=\"dataframe\">\n",
       "  <thead>\n",
       "    <tr style=\"text-align: right;\">\n",
       "      <th></th>\n",
       "      <th>Name</th>\n",
       "      <th>Salary</th>\n",
       "    </tr>\n",
       "    <tr>\n",
       "      <th>Employee_ID</th>\n",
       "      <th></th>\n",
       "      <th></th>\n",
       "    </tr>\n",
       "  </thead>\n",
       "  <tbody>\n",
       "    <tr>\n",
       "      <th>101</th>\n",
       "      <td>Alice</td>\n",
       "      <td>60000</td>\n",
       "    </tr>\n",
       "    <tr>\n",
       "      <th>102</th>\n",
       "      <td>Bob</td>\n",
       "      <td>75000</td>\n",
       "    </tr>\n",
       "    <tr>\n",
       "      <th>103</th>\n",
       "      <td>Charlie</td>\n",
       "      <td>82000</td>\n",
       "    </tr>\n",
       "    <tr>\n",
       "      <th>104</th>\n",
       "      <td>David</td>\n",
       "      <td>72000</td>\n",
       "    </tr>\n",
       "    <tr>\n",
       "      <th>105</th>\n",
       "      <td>Eve</td>\n",
       "      <td>50000</td>\n",
       "    </tr>\n",
       "    <tr>\n",
       "      <th>106</th>\n",
       "      <td>Frank</td>\n",
       "      <td>65000</td>\n",
       "    </tr>\n",
       "  </tbody>\n",
       "</table>\n",
       "</div>"
      ],
      "text/plain": [
       "                Name  Salary\n",
       "Employee_ID                 \n",
       "101            Alice   60000\n",
       "102              Bob   75000\n",
       "103          Charlie   82000\n",
       "104            David   72000\n",
       "105              Eve   50000\n",
       "106            Frank   65000"
      ]
     },
     "execution_count": 154,
     "metadata": {},
     "output_type": "execute_result"
    }
   ],
   "source": [
    "j=pd.concat([df1,df2],ignore_index=True)\n",
    "j=j.set_index('Employee_ID')\n",
    "j"
   ]
  },
  {
   "cell_type": "markdown",
   "id": "935eac01",
   "metadata": {},
   "source": [
    "- Merge two DataFrames based on multiple columns."
   ]
  },
  {
   "cell_type": "code",
   "execution_count": 192,
   "id": "6e49b940-d013-4f01-8ab7-787db9766331",
   "metadata": {},
   "outputs": [],
   "source": [
    "\n",
    "# First DataFrame\n",
    "df1 = pd.DataFrame({\n",
    "    'Employee_ID': [101, 102, 103, 104],\n",
    "    'Department': ['HR', 'IT', 'Finance', 'Marketing'],\n",
    "    'Salary': [60000, 75000, 82000, 72000]\n",
    "})\n",
    "\n",
    "# Second DataFrame\n",
    "df2 = pd.DataFrame({\n",
    "    'Employee_ID': [101, 102, 103, 104],\n",
    "    'Department': ['HR', 'IT', 'Finance', 'Marketing'],\n",
    "    'Bonus': [5000, 7000, 6000, 8000]\n",
    "})\n"
   ]
  },
  {
   "cell_type": "code",
   "execution_count": 194,
   "id": "a8d5a63f-282d-4b95-b14b-0ce6e164c5b0",
   "metadata": {},
   "outputs": [],
   "source": [
    "j=pd.merge(df1,df2,on=['Employee_ID','Department'],how='inner')"
   ]
  },
  {
   "cell_type": "markdown",
   "id": "e51f6cfd",
   "metadata": {},
   "source": [
    "## Handling Duplicates"
   ]
  },
  {
   "cell_type": "markdown",
   "id": "5a5ee536",
   "metadata": {},
   "source": [
    "- Check for duplicate rows."
   ]
  },
  {
   "cell_type": "code",
   "execution_count": 186,
   "id": "16117d4e-9810-491b-b894-15dbe33549df",
   "metadata": {},
   "outputs": [],
   "source": [
    "df = pd.DataFrame({\n",
    "    'Employee_ID': [101, 102, 103, 101, 104, 102],\n",
    "    'Name': ['Alice', 'Bob', 'Charlie', 'Alice', 'David', 'Bob'],\n",
    "    'Salary': [60000, 75000, 82000, 60000, 72000, 75000]})"
   ]
  },
  {
   "cell_type": "code",
   "execution_count": 188,
   "id": "d3dd3267-5045-4528-ab1f-4af7287f1713",
   "metadata": {},
   "outputs": [
    {
     "data": {
      "text/html": [
       "<div>\n",
       "<style scoped>\n",
       "    .dataframe tbody tr th:only-of-type {\n",
       "        vertical-align: middle;\n",
       "    }\n",
       "\n",
       "    .dataframe tbody tr th {\n",
       "        vertical-align: top;\n",
       "    }\n",
       "\n",
       "    .dataframe thead th {\n",
       "        text-align: right;\n",
       "    }\n",
       "</style>\n",
       "<table border=\"1\" class=\"dataframe\">\n",
       "  <thead>\n",
       "    <tr style=\"text-align: right;\">\n",
       "      <th></th>\n",
       "      <th>Employee_ID</th>\n",
       "      <th>Name</th>\n",
       "      <th>Salary</th>\n",
       "    </tr>\n",
       "  </thead>\n",
       "  <tbody>\n",
       "    <tr>\n",
       "      <th>3</th>\n",
       "      <td>101</td>\n",
       "      <td>Alice</td>\n",
       "      <td>60000</td>\n",
       "    </tr>\n",
       "    <tr>\n",
       "      <th>5</th>\n",
       "      <td>102</td>\n",
       "      <td>Bob</td>\n",
       "      <td>75000</td>\n",
       "    </tr>\n",
       "  </tbody>\n",
       "</table>\n",
       "</div>"
      ],
      "text/plain": [
       "   Employee_ID   Name  Salary\n",
       "3          101  Alice   60000\n",
       "5          102    Bob   75000"
      ]
     },
     "execution_count": 188,
     "metadata": {},
     "output_type": "execute_result"
    }
   ],
   "source": [
    "df[df.duplicated()]"
   ]
  },
  {
   "cell_type": "markdown",
   "id": "3372933d",
   "metadata": {},
   "source": [
    "- Remove duplicate values based on a specific column."
   ]
  },
  {
   "cell_type": "code",
   "execution_count": 182,
   "id": "081de5a6-f9ea-4e8e-b3f1-d0bdcae27cf3",
   "metadata": {},
   "outputs": [],
   "source": [
    "df=df.drop_duplicates()"
   ]
  },
  {
   "cell_type": "code",
   "execution_count": 184,
   "id": "e921a6f7-a97c-4109-b582-0a3620e51343",
   "metadata": {},
   "outputs": [
    {
     "data": {
      "text/html": [
       "<div>\n",
       "<style scoped>\n",
       "    .dataframe tbody tr th:only-of-type {\n",
       "        vertical-align: middle;\n",
       "    }\n",
       "\n",
       "    .dataframe tbody tr th {\n",
       "        vertical-align: top;\n",
       "    }\n",
       "\n",
       "    .dataframe thead th {\n",
       "        text-align: right;\n",
       "    }\n",
       "</style>\n",
       "<table border=\"1\" class=\"dataframe\">\n",
       "  <thead>\n",
       "    <tr style=\"text-align: right;\">\n",
       "      <th></th>\n",
       "      <th>Employee_ID</th>\n",
       "      <th>Name</th>\n",
       "      <th>Salary</th>\n",
       "    </tr>\n",
       "  </thead>\n",
       "  <tbody>\n",
       "    <tr>\n",
       "      <th>0</th>\n",
       "      <td>101</td>\n",
       "      <td>Alice</td>\n",
       "      <td>60000</td>\n",
       "    </tr>\n",
       "    <tr>\n",
       "      <th>1</th>\n",
       "      <td>102</td>\n",
       "      <td>Bob</td>\n",
       "      <td>75000</td>\n",
       "    </tr>\n",
       "    <tr>\n",
       "      <th>2</th>\n",
       "      <td>103</td>\n",
       "      <td>Charlie</td>\n",
       "      <td>82000</td>\n",
       "    </tr>\n",
       "    <tr>\n",
       "      <th>4</th>\n",
       "      <td>104</td>\n",
       "      <td>David</td>\n",
       "      <td>72000</td>\n",
       "    </tr>\n",
       "  </tbody>\n",
       "</table>\n",
       "</div>"
      ],
      "text/plain": [
       "   Employee_ID     Name  Salary\n",
       "0          101    Alice   60000\n",
       "1          102      Bob   75000\n",
       "2          103  Charlie   82000\n",
       "4          104    David   72000"
      ]
     },
     "execution_count": 184,
     "metadata": {},
     "output_type": "execute_result"
    }
   ],
   "source": [
    "df"
   ]
  },
  {
   "cell_type": "code",
   "execution_count": 190,
   "id": "12c0a812-c40e-4b70-acab-0246b67d4b8c",
   "metadata": {},
   "outputs": [
    {
     "data": {
      "text/html": [
       "<div>\n",
       "<style scoped>\n",
       "    .dataframe tbody tr th:only-of-type {\n",
       "        vertical-align: middle;\n",
       "    }\n",
       "\n",
       "    .dataframe tbody tr th {\n",
       "        vertical-align: top;\n",
       "    }\n",
       "\n",
       "    .dataframe thead th {\n",
       "        text-align: right;\n",
       "    }\n",
       "</style>\n",
       "<table border=\"1\" class=\"dataframe\">\n",
       "  <thead>\n",
       "    <tr style=\"text-align: right;\">\n",
       "      <th></th>\n",
       "      <th>Employee_ID</th>\n",
       "      <th>Name</th>\n",
       "      <th>Salary</th>\n",
       "    </tr>\n",
       "  </thead>\n",
       "  <tbody>\n",
       "    <tr>\n",
       "      <th>0</th>\n",
       "      <td>101</td>\n",
       "      <td>Alice</td>\n",
       "      <td>60000</td>\n",
       "    </tr>\n",
       "    <tr>\n",
       "      <th>1</th>\n",
       "      <td>102</td>\n",
       "      <td>Bob</td>\n",
       "      <td>75000</td>\n",
       "    </tr>\n",
       "    <tr>\n",
       "      <th>2</th>\n",
       "      <td>103</td>\n",
       "      <td>Charlie</td>\n",
       "      <td>82000</td>\n",
       "    </tr>\n",
       "    <tr>\n",
       "      <th>4</th>\n",
       "      <td>104</td>\n",
       "      <td>David</td>\n",
       "      <td>72000</td>\n",
       "    </tr>\n",
       "  </tbody>\n",
       "</table>\n",
       "</div>"
      ],
      "text/plain": [
       "   Employee_ID     Name  Salary\n",
       "0          101    Alice   60000\n",
       "1          102      Bob   75000\n",
       "2          103  Charlie   82000\n",
       "4          104    David   72000"
      ]
     },
     "execution_count": 190,
     "metadata": {},
     "output_type": "execute_result"
    }
   ],
   "source": [
    "df.drop_duplicates('Salary')"
   ]
  },
  {
   "cell_type": "markdown",
   "id": "2325e4fd",
   "metadata": {},
   "source": [
    "## GroupBy Operations"
   ]
  },
  {
   "cell_type": "markdown",
   "id": "bdc28df1",
   "metadata": {},
   "source": [
    "- Group by a column and calculate the mean."
   ]
  },
  {
   "cell_type": "code",
   "execution_count": 212,
   "id": "3291299f-b10d-43f5-9f03-1a4e2aa15152",
   "metadata": {},
   "outputs": [
    {
     "data": {
      "text/plain": [
       "hotel\n",
       "City Hotel      119.773381\n",
       "Resort Hotel    133.865177\n",
       "Name: adr, dtype: float64"
      ]
     },
     "execution_count": 212,
     "metadata": {},
     "output_type": "execute_result"
    }
   ],
   "source": [
    "p.groupby('hotel')['adr'].mean()\n"
   ]
  },
  {
   "cell_type": "code",
   "execution_count": 216,
   "id": "1540b5e5-cb97-4b37-9a14-c1effbe77380",
   "metadata": {},
   "outputs": [
    {
     "data": {
      "text/html": [
       "<div>\n",
       "<style scoped>\n",
       "    .dataframe tbody tr th:only-of-type {\n",
       "        vertical-align: middle;\n",
       "    }\n",
       "\n",
       "    .dataframe tbody tr th {\n",
       "        vertical-align: top;\n",
       "    }\n",
       "\n",
       "    .dataframe thead tr th {\n",
       "        text-align: left;\n",
       "    }\n",
       "\n",
       "    .dataframe thead tr:last-of-type th {\n",
       "        text-align: right;\n",
       "    }\n",
       "</style>\n",
       "<table border=\"1\" class=\"dataframe\">\n",
       "  <thead>\n",
       "    <tr>\n",
       "      <th></th>\n",
       "      <th colspan=\"2\" halign=\"left\">adr</th>\n",
       "    </tr>\n",
       "    <tr>\n",
       "      <th></th>\n",
       "      <th>mean</th>\n",
       "      <th>count</th>\n",
       "    </tr>\n",
       "    <tr>\n",
       "      <th>hotel</th>\n",
       "      <th></th>\n",
       "      <th></th>\n",
       "    </tr>\n",
       "  </thead>\n",
       "  <tbody>\n",
       "    <tr>\n",
       "      <th>City Hotel</th>\n",
       "      <td>119.773381</td>\n",
       "      <td>1618</td>\n",
       "    </tr>\n",
       "    <tr>\n",
       "      <th>Resort Hotel</th>\n",
       "      <td>133.865177</td>\n",
       "      <td>479</td>\n",
       "    </tr>\n",
       "  </tbody>\n",
       "</table>\n",
       "</div>"
      ],
      "text/plain": [
       "                     adr      \n",
       "                    mean count\n",
       "hotel                         \n",
       "City Hotel    119.773381  1618\n",
       "Resort Hotel  133.865177   479"
      ]
     },
     "execution_count": 216,
     "metadata": {},
     "output_type": "execute_result"
    }
   ],
   "source": [
    "p.groupby('hotel').agg({'adr':['mean','count']})"
   ]
  },
  {
   "cell_type": "markdown",
   "id": "fc23336c",
   "metadata": {},
   "source": [
    "- Find the sum of sales grouped by product category."
   ]
  },
  {
   "cell_type": "code",
   "execution_count": 218,
   "id": "4d30cd60-3e66-47f0-9a0f-9fc46ccfa029",
   "metadata": {},
   "outputs": [],
   "source": [
    "data = {\n",
    "    'Sale_ID': range(1, 21),\n",
    "    'Product': ['Laptop', 'Phone', 'Tablet', 'Headphones', 'Smartwatch'] * 4,\n",
    "    'Category': ['Electronics', 'Electronics', 'Electronics', 'Accessories', 'Accessories'] * 4,\n",
    "    'Price': [1000, 800, 600, 200, 300, 1200, 750, 650, 250, 350,\n",
    "              1100, 820, 580, 180, 320, 1050, 780, 620, 220, 330],\n",
    "    'Quantity': [5, 10, 7, 15, 12, 4, 9, 6, 14, 13,\n",
    "                 3, 8, 5, 13, 10, 6, 11, 8, 12, 9],\n",
    "    'Total_Sales': [1000*5, 800*10, 600*7, 200*15, 300*12, 1200*4, 750*9, 650*6, 250*14, 350*13,\n",
    "                    1100*3, 820*8, 580*5, 180*13, 320*10, 1050*6, 780*11, 620*8, 220*12, 330*9],\n",
    "    'Region': ['North', 'South', 'East', 'West', 'Central'] * 4\n",
    "}\n",
    "\n",
    "df_sales = pd.DataFrame(data)\n"
   ]
  },
  {
   "cell_type": "code",
   "execution_count": 226,
   "id": "ead3ed30-c52a-4286-876d-1a062605b5fe",
   "metadata": {},
   "outputs": [
    {
     "data": {
      "text/plain": [
       "Category\n",
       "Accessories    25800\n",
       "Electronics    65250\n",
       "Name: Total_Sales, dtype: int64"
      ]
     },
     "execution_count": 226,
     "metadata": {},
     "output_type": "execute_result"
    }
   ],
   "source": [
    "df_sales.groupby('Category')['Total_Sales'].sum()"
   ]
  },
  {
   "cell_type": "markdown",
   "id": "231612c3",
   "metadata": {},
   "source": [
    "- Count occurrences of each unique value in a column."
   ]
  },
  {
   "cell_type": "code",
   "execution_count": 228,
   "id": "64bb3b87-685c-49b4-8c7e-1d582de2a5c0",
   "metadata": {},
   "outputs": [
    {
     "data": {
      "text/plain": [
       "Category\n",
       "Accessories     8\n",
       "Electronics    12\n",
       "Name: Category, dtype: int64"
      ]
     },
     "execution_count": 228,
     "metadata": {},
     "output_type": "execute_result"
    }
   ],
   "source": [
    "df_sales.groupby('Category')['Category'].count()"
   ]
  },
  {
   "cell_type": "markdown",
   "id": "65c3a1e4",
   "metadata": {},
   "source": [
    "## Pivot Tables"
   ]
  },
  {
   "cell_type": "markdown",
   "id": "1cf6da4b",
   "metadata": {},
   "source": [
    "- Create a pivot table summarizing sales per region."
   ]
  },
  {
   "cell_type": "code",
   "execution_count": 248,
   "id": "8bd56621-2b89-470c-9c30-c940b94e15a9",
   "metadata": {},
   "outputs": [
    {
     "data": {
      "text/html": [
       "<div>\n",
       "<style scoped>\n",
       "    .dataframe tbody tr th:only-of-type {\n",
       "        vertical-align: middle;\n",
       "    }\n",
       "\n",
       "    .dataframe tbody tr th {\n",
       "        vertical-align: top;\n",
       "    }\n",
       "\n",
       "    .dataframe thead th {\n",
       "        text-align: right;\n",
       "    }\n",
       "</style>\n",
       "<table border=\"1\" class=\"dataframe\">\n",
       "  <thead>\n",
       "    <tr style=\"text-align: right;\">\n",
       "      <th>Region</th>\n",
       "      <th>Central</th>\n",
       "      <th>East</th>\n",
       "      <th>North</th>\n",
       "      <th>South</th>\n",
       "      <th>West</th>\n",
       "    </tr>\n",
       "    <tr>\n",
       "      <th>Product</th>\n",
       "      <th></th>\n",
       "      <th></th>\n",
       "      <th></th>\n",
       "      <th></th>\n",
       "      <th></th>\n",
       "    </tr>\n",
       "  </thead>\n",
       "  <tbody>\n",
       "    <tr>\n",
       "      <th>Headphones</th>\n",
       "      <td>NaN</td>\n",
       "      <td>NaN</td>\n",
       "      <td>NaN</td>\n",
       "      <td>NaN</td>\n",
       "      <td>11480.0</td>\n",
       "    </tr>\n",
       "    <tr>\n",
       "      <th>Laptop</th>\n",
       "      <td>NaN</td>\n",
       "      <td>NaN</td>\n",
       "      <td>19400.0</td>\n",
       "      <td>NaN</td>\n",
       "      <td>NaN</td>\n",
       "    </tr>\n",
       "    <tr>\n",
       "      <th>Phone</th>\n",
       "      <td>NaN</td>\n",
       "      <td>NaN</td>\n",
       "      <td>NaN</td>\n",
       "      <td>29890.0</td>\n",
       "      <td>NaN</td>\n",
       "    </tr>\n",
       "    <tr>\n",
       "      <th>Smartwatch</th>\n",
       "      <td>14320.0</td>\n",
       "      <td>NaN</td>\n",
       "      <td>NaN</td>\n",
       "      <td>NaN</td>\n",
       "      <td>NaN</td>\n",
       "    </tr>\n",
       "    <tr>\n",
       "      <th>Tablet</th>\n",
       "      <td>NaN</td>\n",
       "      <td>15960.0</td>\n",
       "      <td>NaN</td>\n",
       "      <td>NaN</td>\n",
       "      <td>NaN</td>\n",
       "    </tr>\n",
       "  </tbody>\n",
       "</table>\n",
       "</div>"
      ],
      "text/plain": [
       "Region      Central     East    North    South     West\n",
       "Product                                                \n",
       "Headphones      NaN      NaN      NaN      NaN  11480.0\n",
       "Laptop          NaN      NaN  19400.0      NaN      NaN\n",
       "Phone           NaN      NaN      NaN  29890.0      NaN\n",
       "Smartwatch  14320.0      NaN      NaN      NaN      NaN\n",
       "Tablet          NaN  15960.0      NaN      NaN      NaN"
      ]
     },
     "execution_count": 248,
     "metadata": {},
     "output_type": "execute_result"
    }
   ],
   "source": [
    "pd.pivot_table(df_sales,values='Total_Sales',index='Product',columns='Region',aggfunc='sum')"
   ]
  },
  {
   "cell_type": "markdown",
   "id": "e10bb07a",
   "metadata": {},
   "source": [
    "- Use pivot tables to find the mean and sum per category."
   ]
  },
  {
   "cell_type": "code",
   "execution_count": 252,
   "id": "ad4435d6-f8b2-4024-acf0-56f7d8aba040",
   "metadata": {},
   "outputs": [
    {
     "data": {
      "text/html": [
       "<div>\n",
       "<style scoped>\n",
       "    .dataframe tbody tr th:only-of-type {\n",
       "        vertical-align: middle;\n",
       "    }\n",
       "\n",
       "    .dataframe tbody tr th {\n",
       "        vertical-align: top;\n",
       "    }\n",
       "\n",
       "    .dataframe thead tr th {\n",
       "        text-align: left;\n",
       "    }\n",
       "\n",
       "    .dataframe thead tr:last-of-type th {\n",
       "        text-align: right;\n",
       "    }\n",
       "</style>\n",
       "<table border=\"1\" class=\"dataframe\">\n",
       "  <thead>\n",
       "    <tr>\n",
       "      <th></th>\n",
       "      <th colspan=\"5\" halign=\"left\">mean</th>\n",
       "      <th colspan=\"5\" halign=\"left\">sum</th>\n",
       "    </tr>\n",
       "    <tr>\n",
       "      <th></th>\n",
       "      <th colspan=\"5\" halign=\"left\">Total_Sales</th>\n",
       "      <th colspan=\"5\" halign=\"left\">Total_Sales</th>\n",
       "    </tr>\n",
       "    <tr>\n",
       "      <th>Region</th>\n",
       "      <th>Central</th>\n",
       "      <th>East</th>\n",
       "      <th>North</th>\n",
       "      <th>South</th>\n",
       "      <th>West</th>\n",
       "      <th>Central</th>\n",
       "      <th>East</th>\n",
       "      <th>North</th>\n",
       "      <th>South</th>\n",
       "      <th>West</th>\n",
       "    </tr>\n",
       "    <tr>\n",
       "      <th>Product</th>\n",
       "      <th></th>\n",
       "      <th></th>\n",
       "      <th></th>\n",
       "      <th></th>\n",
       "      <th></th>\n",
       "      <th></th>\n",
       "      <th></th>\n",
       "      <th></th>\n",
       "      <th></th>\n",
       "      <th></th>\n",
       "    </tr>\n",
       "  </thead>\n",
       "  <tbody>\n",
       "    <tr>\n",
       "      <th>Headphones</th>\n",
       "      <td>0.0</td>\n",
       "      <td>0.0</td>\n",
       "      <td>0.0</td>\n",
       "      <td>0.0</td>\n",
       "      <td>2870.0</td>\n",
       "      <td>0</td>\n",
       "      <td>0</td>\n",
       "      <td>0</td>\n",
       "      <td>0</td>\n",
       "      <td>11480</td>\n",
       "    </tr>\n",
       "    <tr>\n",
       "      <th>Laptop</th>\n",
       "      <td>0.0</td>\n",
       "      <td>0.0</td>\n",
       "      <td>4850.0</td>\n",
       "      <td>0.0</td>\n",
       "      <td>0.0</td>\n",
       "      <td>0</td>\n",
       "      <td>0</td>\n",
       "      <td>19400</td>\n",
       "      <td>0</td>\n",
       "      <td>0</td>\n",
       "    </tr>\n",
       "    <tr>\n",
       "      <th>Phone</th>\n",
       "      <td>0.0</td>\n",
       "      <td>0.0</td>\n",
       "      <td>0.0</td>\n",
       "      <td>7472.5</td>\n",
       "      <td>0.0</td>\n",
       "      <td>0</td>\n",
       "      <td>0</td>\n",
       "      <td>0</td>\n",
       "      <td>29890</td>\n",
       "      <td>0</td>\n",
       "    </tr>\n",
       "    <tr>\n",
       "      <th>Smartwatch</th>\n",
       "      <td>3580.0</td>\n",
       "      <td>0.0</td>\n",
       "      <td>0.0</td>\n",
       "      <td>0.0</td>\n",
       "      <td>0.0</td>\n",
       "      <td>14320</td>\n",
       "      <td>0</td>\n",
       "      <td>0</td>\n",
       "      <td>0</td>\n",
       "      <td>0</td>\n",
       "    </tr>\n",
       "    <tr>\n",
       "      <th>Tablet</th>\n",
       "      <td>0.0</td>\n",
       "      <td>3990.0</td>\n",
       "      <td>0.0</td>\n",
       "      <td>0.0</td>\n",
       "      <td>0.0</td>\n",
       "      <td>0</td>\n",
       "      <td>15960</td>\n",
       "      <td>0</td>\n",
       "      <td>0</td>\n",
       "      <td>0</td>\n",
       "    </tr>\n",
       "  </tbody>\n",
       "</table>\n",
       "</div>"
      ],
      "text/plain": [
       "                  mean                                         sum         \\\n",
       "           Total_Sales                                 Total_Sales          \n",
       "Region         Central    East   North   South    West     Central   East   \n",
       "Product                                                                     \n",
       "Headphones         0.0     0.0     0.0     0.0  2870.0           0      0   \n",
       "Laptop             0.0     0.0  4850.0     0.0     0.0           0      0   \n",
       "Phone              0.0     0.0     0.0  7472.5     0.0           0      0   \n",
       "Smartwatch      3580.0     0.0     0.0     0.0     0.0       14320      0   \n",
       "Tablet             0.0  3990.0     0.0     0.0     0.0           0  15960   \n",
       "\n",
       "                                 \n",
       "                                 \n",
       "Region      North  South   West  \n",
       "Product                          \n",
       "Headphones      0      0  11480  \n",
       "Laptop      19400      0      0  \n",
       "Phone           0  29890      0  \n",
       "Smartwatch      0      0      0  \n",
       "Tablet          0      0      0  "
      ]
     },
     "execution_count": 252,
     "metadata": {},
     "output_type": "execute_result"
    }
   ],
   "source": [
    "pd.pivot_table(df_sales,values=['Total_Sales'],index='Product',columns=['Region'],aggfunc=['mean','sum'],fill_value=0)"
   ]
  },
  {
   "cell_type": "code",
   "execution_count": 246,
   "id": "90df3db5-4482-459d-88a5-b17af243be7c",
   "metadata": {},
   "outputs": [
    {
     "data": {
      "text/html": [
       "<div>\n",
       "<style scoped>\n",
       "    .dataframe tbody tr th:only-of-type {\n",
       "        vertical-align: middle;\n",
       "    }\n",
       "\n",
       "    .dataframe tbody tr th {\n",
       "        vertical-align: top;\n",
       "    }\n",
       "\n",
       "    .dataframe thead th {\n",
       "        text-align: right;\n",
       "    }\n",
       "</style>\n",
       "<table border=\"1\" class=\"dataframe\">\n",
       "  <thead>\n",
       "    <tr style=\"text-align: right;\">\n",
       "      <th></th>\n",
       "      <th>Sale_ID</th>\n",
       "      <th>Product</th>\n",
       "      <th>Category</th>\n",
       "      <th>Price</th>\n",
       "      <th>Quantity</th>\n",
       "      <th>Total_Sales</th>\n",
       "      <th>Region</th>\n",
       "    </tr>\n",
       "  </thead>\n",
       "  <tbody>\n",
       "    <tr>\n",
       "      <th>0</th>\n",
       "      <td>1</td>\n",
       "      <td>Laptop</td>\n",
       "      <td>Electronics</td>\n",
       "      <td>1000</td>\n",
       "      <td>5</td>\n",
       "      <td>5000</td>\n",
       "      <td>North</td>\n",
       "    </tr>\n",
       "    <tr>\n",
       "      <th>1</th>\n",
       "      <td>2</td>\n",
       "      <td>Phone</td>\n",
       "      <td>Electronics</td>\n",
       "      <td>800</td>\n",
       "      <td>10</td>\n",
       "      <td>8000</td>\n",
       "      <td>South</td>\n",
       "    </tr>\n",
       "    <tr>\n",
       "      <th>2</th>\n",
       "      <td>3</td>\n",
       "      <td>Tablet</td>\n",
       "      <td>Electronics</td>\n",
       "      <td>600</td>\n",
       "      <td>7</td>\n",
       "      <td>4200</td>\n",
       "      <td>East</td>\n",
       "    </tr>\n",
       "    <tr>\n",
       "      <th>3</th>\n",
       "      <td>4</td>\n",
       "      <td>Headphones</td>\n",
       "      <td>Accessories</td>\n",
       "      <td>200</td>\n",
       "      <td>15</td>\n",
       "      <td>3000</td>\n",
       "      <td>West</td>\n",
       "    </tr>\n",
       "    <tr>\n",
       "      <th>4</th>\n",
       "      <td>5</td>\n",
       "      <td>Smartwatch</td>\n",
       "      <td>Accessories</td>\n",
       "      <td>300</td>\n",
       "      <td>12</td>\n",
       "      <td>3600</td>\n",
       "      <td>Central</td>\n",
       "    </tr>\n",
       "    <tr>\n",
       "      <th>5</th>\n",
       "      <td>6</td>\n",
       "      <td>Laptop</td>\n",
       "      <td>Electronics</td>\n",
       "      <td>1200</td>\n",
       "      <td>4</td>\n",
       "      <td>4800</td>\n",
       "      <td>North</td>\n",
       "    </tr>\n",
       "    <tr>\n",
       "      <th>6</th>\n",
       "      <td>7</td>\n",
       "      <td>Phone</td>\n",
       "      <td>Electronics</td>\n",
       "      <td>750</td>\n",
       "      <td>9</td>\n",
       "      <td>6750</td>\n",
       "      <td>South</td>\n",
       "    </tr>\n",
       "    <tr>\n",
       "      <th>7</th>\n",
       "      <td>8</td>\n",
       "      <td>Tablet</td>\n",
       "      <td>Electronics</td>\n",
       "      <td>650</td>\n",
       "      <td>6</td>\n",
       "      <td>3900</td>\n",
       "      <td>East</td>\n",
       "    </tr>\n",
       "    <tr>\n",
       "      <th>8</th>\n",
       "      <td>9</td>\n",
       "      <td>Headphones</td>\n",
       "      <td>Accessories</td>\n",
       "      <td>250</td>\n",
       "      <td>14</td>\n",
       "      <td>3500</td>\n",
       "      <td>West</td>\n",
       "    </tr>\n",
       "    <tr>\n",
       "      <th>9</th>\n",
       "      <td>10</td>\n",
       "      <td>Smartwatch</td>\n",
       "      <td>Accessories</td>\n",
       "      <td>350</td>\n",
       "      <td>13</td>\n",
       "      <td>4550</td>\n",
       "      <td>Central</td>\n",
       "    </tr>\n",
       "    <tr>\n",
       "      <th>10</th>\n",
       "      <td>11</td>\n",
       "      <td>Laptop</td>\n",
       "      <td>Electronics</td>\n",
       "      <td>1100</td>\n",
       "      <td>3</td>\n",
       "      <td>3300</td>\n",
       "      <td>North</td>\n",
       "    </tr>\n",
       "    <tr>\n",
       "      <th>11</th>\n",
       "      <td>12</td>\n",
       "      <td>Phone</td>\n",
       "      <td>Electronics</td>\n",
       "      <td>820</td>\n",
       "      <td>8</td>\n",
       "      <td>6560</td>\n",
       "      <td>South</td>\n",
       "    </tr>\n",
       "    <tr>\n",
       "      <th>12</th>\n",
       "      <td>13</td>\n",
       "      <td>Tablet</td>\n",
       "      <td>Electronics</td>\n",
       "      <td>580</td>\n",
       "      <td>5</td>\n",
       "      <td>2900</td>\n",
       "      <td>East</td>\n",
       "    </tr>\n",
       "    <tr>\n",
       "      <th>13</th>\n",
       "      <td>14</td>\n",
       "      <td>Headphones</td>\n",
       "      <td>Accessories</td>\n",
       "      <td>180</td>\n",
       "      <td>13</td>\n",
       "      <td>2340</td>\n",
       "      <td>West</td>\n",
       "    </tr>\n",
       "    <tr>\n",
       "      <th>14</th>\n",
       "      <td>15</td>\n",
       "      <td>Smartwatch</td>\n",
       "      <td>Accessories</td>\n",
       "      <td>320</td>\n",
       "      <td>10</td>\n",
       "      <td>3200</td>\n",
       "      <td>Central</td>\n",
       "    </tr>\n",
       "    <tr>\n",
       "      <th>15</th>\n",
       "      <td>16</td>\n",
       "      <td>Laptop</td>\n",
       "      <td>Electronics</td>\n",
       "      <td>1050</td>\n",
       "      <td>6</td>\n",
       "      <td>6300</td>\n",
       "      <td>North</td>\n",
       "    </tr>\n",
       "    <tr>\n",
       "      <th>16</th>\n",
       "      <td>17</td>\n",
       "      <td>Phone</td>\n",
       "      <td>Electronics</td>\n",
       "      <td>780</td>\n",
       "      <td>11</td>\n",
       "      <td>8580</td>\n",
       "      <td>South</td>\n",
       "    </tr>\n",
       "    <tr>\n",
       "      <th>17</th>\n",
       "      <td>18</td>\n",
       "      <td>Tablet</td>\n",
       "      <td>Electronics</td>\n",
       "      <td>620</td>\n",
       "      <td>8</td>\n",
       "      <td>4960</td>\n",
       "      <td>East</td>\n",
       "    </tr>\n",
       "    <tr>\n",
       "      <th>18</th>\n",
       "      <td>19</td>\n",
       "      <td>Headphones</td>\n",
       "      <td>Accessories</td>\n",
       "      <td>220</td>\n",
       "      <td>12</td>\n",
       "      <td>2640</td>\n",
       "      <td>West</td>\n",
       "    </tr>\n",
       "    <tr>\n",
       "      <th>19</th>\n",
       "      <td>20</td>\n",
       "      <td>Smartwatch</td>\n",
       "      <td>Accessories</td>\n",
       "      <td>330</td>\n",
       "      <td>9</td>\n",
       "      <td>2970</td>\n",
       "      <td>Central</td>\n",
       "    </tr>\n",
       "  </tbody>\n",
       "</table>\n",
       "</div>"
      ],
      "text/plain": [
       "    Sale_ID     Product     Category  Price  Quantity  Total_Sales   Region\n",
       "0         1      Laptop  Electronics   1000         5         5000    North\n",
       "1         2       Phone  Electronics    800        10         8000    South\n",
       "2         3      Tablet  Electronics    600         7         4200     East\n",
       "3         4  Headphones  Accessories    200        15         3000     West\n",
       "4         5  Smartwatch  Accessories    300        12         3600  Central\n",
       "5         6      Laptop  Electronics   1200         4         4800    North\n",
       "6         7       Phone  Electronics    750         9         6750    South\n",
       "7         8      Tablet  Electronics    650         6         3900     East\n",
       "8         9  Headphones  Accessories    250        14         3500     West\n",
       "9        10  Smartwatch  Accessories    350        13         4550  Central\n",
       "10       11      Laptop  Electronics   1100         3         3300    North\n",
       "11       12       Phone  Electronics    820         8         6560    South\n",
       "12       13      Tablet  Electronics    580         5         2900     East\n",
       "13       14  Headphones  Accessories    180        13         2340     West\n",
       "14       15  Smartwatch  Accessories    320        10         3200  Central\n",
       "15       16      Laptop  Electronics   1050         6         6300    North\n",
       "16       17       Phone  Electronics    780        11         8580    South\n",
       "17       18      Tablet  Electronics    620         8         4960     East\n",
       "18       19  Headphones  Accessories    220        12         2640     West\n",
       "19       20  Smartwatch  Accessories    330         9         2970  Central"
      ]
     },
     "execution_count": 246,
     "metadata": {},
     "output_type": "execute_result"
    }
   ],
   "source": [
    "df_sales"
   ]
  },
  {
   "cell_type": "markdown",
   "id": "9f8d1855",
   "metadata": {},
   "source": [
    "## Missing Value Treatment"
   ]
  },
  {
   "cell_type": "markdown",
   "id": "df133097",
   "metadata": {},
   "source": [
    "- Fill missing values with the mean."
   ]
  },
  {
   "cell_type": "code",
   "execution_count": 276,
   "id": "5c174637-c496-4cff-b80a-36e61c09fe73",
   "metadata": {},
   "outputs": [],
   "source": [
    "data = {\n",
    "    'Sale_ID': range(1, 11),\n",
    "    'Product': ['Laptop', 'Phone', 'Tablet', 'Headphones', 'Smartwatch', \n",
    "                'Laptop', 'Phone', 'Tablet', np.nan, 'Smartwatch'],\n",
    "    'Category': ['Electronics', 'Electronics', 'Electronics', 'Accessories', 'Accessories', \n",
    "                 'Electronics', np.nan, 'Electronics', 'Accessories', 'Accessories'],\n",
    "    'Price': [1000, 800, 600, 200, 300, 1200, 750, np.nan, 250, 350],\n",
    "    'Quantity': [5, 10, 7, np.nan, 12, 4, 9, 6, 14, 13],\n",
    "    'Total_Sales': [5000, 8000, 4200, 3000, 3600, 4800, np.nan, 3900, 3500, 4550],\n",
    "    'Region': ['North', 'South', np.nan, 'West', 'Central', 'North', 'South', 'East', 'West', 'Central']\n",
    "}"
   ]
  },
  {
   "cell_type": "code",
   "execution_count": 278,
   "id": "5225054a-4ddd-4595-ba3f-d26900932e5e",
   "metadata": {},
   "outputs": [],
   "source": [
    "data=pd.DataFrame(data)"
   ]
  },
  {
   "cell_type": "code",
   "execution_count": 280,
   "id": "5211983d-13f2-49da-aa91-8874f51b5e4a",
   "metadata": {},
   "outputs": [
    {
     "name": "stderr",
     "output_type": "stream",
     "text": [
      "C:\\Users\\asher\\AppData\\Local\\Temp\\ipykernel_23972\\3798920984.py:1: FutureWarning: Setting an item of incompatible dtype is deprecated and will raise an error in a future version of pandas. Value '<bound method Series.mean of 0    1000.0\n",
      "1     800.0\n",
      "2     600.0\n",
      "3     200.0\n",
      "4     300.0\n",
      "5    1200.0\n",
      "6     750.0\n",
      "7       NaN\n",
      "8     250.0\n",
      "9     350.0\n",
      "Name: Price, dtype: float64>' has dtype incompatible with float64, please explicitly cast to a compatible dtype first.\n",
      "  data['Price'].fillna(data['Price'].mean,inplace=True)\n"
     ]
    }
   ],
   "source": [
    "data['Price'].fillna(data['Price'].mean,inplace=True)"
   ]
  },
  {
   "cell_type": "code",
   "execution_count": 282,
   "id": "c2732bc6-55fe-4051-8d7f-456fb9ea06fd",
   "metadata": {},
   "outputs": [
    {
     "name": "stderr",
     "output_type": "stream",
     "text": [
      "C:\\Users\\asher\\AppData\\Local\\Temp\\ipykernel_23972\\1928125273.py:1: FutureWarning: A value is trying to be set on a copy of a DataFrame or Series through chained assignment using an inplace method.\n",
      "The behavior will change in pandas 3.0. This inplace method will never work because the intermediate object on which we are setting values always behaves as a copy.\n",
      "\n",
      "For example, when doing 'df[col].method(value, inplace=True)', try using 'df.method({col: value}, inplace=True)' or df[col] = df[col].method(value) instead, to perform the operation inplace on the original object.\n",
      "\n",
      "\n",
      "  data['Quantity'].fillna(data['Quantity'].mean(),inplace=True)\n",
      "C:\\Users\\asher\\AppData\\Local\\Temp\\ipykernel_23972\\1928125273.py:2: FutureWarning: A value is trying to be set on a copy of a DataFrame or Series through chained assignment using an inplace method.\n",
      "The behavior will change in pandas 3.0. This inplace method will never work because the intermediate object on which we are setting values always behaves as a copy.\n",
      "\n",
      "For example, when doing 'df[col].method(value, inplace=True)', try using 'df.method({col: value}, inplace=True)' or df[col] = df[col].method(value) instead, to perform the operation inplace on the original object.\n",
      "\n",
      "\n",
      "  data['Total_Sales'].fillna(data['Total_Sales'].mean(),inplace=True)\n"
     ]
    }
   ],
   "source": [
    "data['Quantity'].fillna(data['Quantity'].mean(),inplace=True)\n",
    "data['Total_Sales'].fillna(data['Total_Sales'].mean(),inplace=True)"
   ]
  },
  {
   "cell_type": "code",
   "execution_count": 284,
   "id": "a5fe5f47-9dae-44bb-aa33-9b047a093ed4",
   "metadata": {},
   "outputs": [
    {
     "name": "stderr",
     "output_type": "stream",
     "text": [
      "C:\\Users\\asher\\AppData\\Local\\Temp\\ipykernel_23972\\3889410543.py:1: UserWarning: Unable to sort modes: '<' not supported between instances of 'method' and 'float'\n",
      "  data['Price'].fillna(data['Price'].mode(),inplace=True)\n",
      "C:\\Users\\asher\\AppData\\Local\\Temp\\ipykernel_23972\\3889410543.py:2: FutureWarning: A value is trying to be set on a copy of a DataFrame or Series through chained assignment using an inplace method.\n",
      "The behavior will change in pandas 3.0. This inplace method will never work because the intermediate object on which we are setting values always behaves as a copy.\n",
      "\n",
      "For example, when doing 'df[col].method(value, inplace=True)', try using 'df.method({col: value}, inplace=True)' or df[col] = df[col].method(value) instead, to perform the operation inplace on the original object.\n",
      "\n",
      "\n",
      "  data['Region'].fillna(data['Region'].mode(),inplace=True)\n"
     ]
    }
   ],
   "source": [
    "\n",
    "data['Price'].fillna(data['Price'].mode(),inplace=True)\n",
    "data['Region'].fillna(data['Region'].mode(),inplace=True)"
   ]
  },
  {
   "cell_type": "code",
   "execution_count": 290,
   "id": "995f1b42-f57f-4533-b58e-65c886a52c37",
   "metadata": {},
   "outputs": [],
   "source": [
    "data['Product'].fillna('Laptop',inplace=True)\n",
    "data['Category'].fillna('Electronics',inplace=True)"
   ]
  },
  {
   "cell_type": "code",
   "execution_count": 292,
   "id": "db67824c-7723-4625-825e-258cbfcbce4f",
   "metadata": {},
   "outputs": [
    {
     "name": "stdout",
     "output_type": "stream",
     "text": [
      "<class 'pandas.core.frame.DataFrame'>\n",
      "RangeIndex: 10 entries, 0 to 9\n",
      "Data columns (total 7 columns):\n",
      " #   Column       Non-Null Count  Dtype  \n",
      "---  ------       --------------  -----  \n",
      " 0   Sale_ID      10 non-null     int64  \n",
      " 1   Product      10 non-null     object \n",
      " 2   Category     10 non-null     object \n",
      " 3   Price        10 non-null     object \n",
      " 4   Quantity     10 non-null     float64\n",
      " 5   Total_Sales  10 non-null     float64\n",
      " 6   Region       10 non-null     object \n",
      "dtypes: float64(2), int64(1), object(4)\n",
      "memory usage: 692.0+ bytes\n"
     ]
    }
   ],
   "source": [
    "data.info()"
   ]
  },
  {
   "cell_type": "markdown",
   "id": "39460486",
   "metadata": {},
   "source": [
    "- Drop rows where any value is missing."
   ]
  },
  {
   "cell_type": "code",
   "execution_count": 302,
   "id": "bef0e038-2903-4366-825e-585be04630b3",
   "metadata": {},
   "outputs": [],
   "source": [
    "data = {\n",
    "    'Sale_ID': range(1, 11),\n",
    "    'Product': ['Laptop', 'Phone', 'Tablet', 'Headphones', 'Smartwatch', \n",
    "                'Laptop', 'Phone', 'Tablet', np.nan, 'Smartwatch'],\n",
    "    'Category': ['Electronics', 'Electronics', 'Electronics', 'Accessories', 'Accessories', \n",
    "                 'Electronics', np.nan, 'Electronics', 'Accessories', 'Accessories'],\n",
    "    'Price': [1000, 800, 600, 200, 300, 1200, 750, np.nan, 250, 350],\n",
    "    'Quantity': [5, 10, 7, np.nan, 12, 4, 9, 6, 14, 13],\n",
    "    'Total_Sales': [5000, 8000, 4200, 3000, 3600, 4800, np.nan, 3900, 3500, 4550],\n",
    "    'Region': ['North', 'South', np.nan, 'West', 'Central', 'North', 'South', 'East', 'West', 'Central']\n",
    "}"
   ]
  },
  {
   "cell_type": "code",
   "execution_count": 304,
   "id": "b01fc995-700b-4bc1-953b-dac5abe5131d",
   "metadata": {},
   "outputs": [],
   "source": [
    "data=pd.DataFrame(data)"
   ]
  },
  {
   "cell_type": "code",
   "execution_count": 300,
   "id": "1cdfcb9e-a8f6-447b-9576-4cd61801066d",
   "metadata": {},
   "outputs": [
    {
     "data": {
      "text/html": [
       "<div>\n",
       "<style scoped>\n",
       "    .dataframe tbody tr th:only-of-type {\n",
       "        vertical-align: middle;\n",
       "    }\n",
       "\n",
       "    .dataframe tbody tr th {\n",
       "        vertical-align: top;\n",
       "    }\n",
       "\n",
       "    .dataframe thead th {\n",
       "        text-align: right;\n",
       "    }\n",
       "</style>\n",
       "<table border=\"1\" class=\"dataframe\">\n",
       "  <thead>\n",
       "    <tr style=\"text-align: right;\">\n",
       "      <th></th>\n",
       "      <th>Sale_ID</th>\n",
       "      <th>Product</th>\n",
       "      <th>Category</th>\n",
       "      <th>Price</th>\n",
       "      <th>Quantity</th>\n",
       "      <th>Total_Sales</th>\n",
       "      <th>Region</th>\n",
       "    </tr>\n",
       "  </thead>\n",
       "  <tbody>\n",
       "    <tr>\n",
       "      <th>0</th>\n",
       "      <td>1</td>\n",
       "      <td>Laptop</td>\n",
       "      <td>Electronics</td>\n",
       "      <td>1000.0</td>\n",
       "      <td>5.0</td>\n",
       "      <td>5000.0</td>\n",
       "      <td>North</td>\n",
       "    </tr>\n",
       "    <tr>\n",
       "      <th>1</th>\n",
       "      <td>2</td>\n",
       "      <td>Phone</td>\n",
       "      <td>Electronics</td>\n",
       "      <td>800.0</td>\n",
       "      <td>10.0</td>\n",
       "      <td>8000.0</td>\n",
       "      <td>South</td>\n",
       "    </tr>\n",
       "    <tr>\n",
       "      <th>4</th>\n",
       "      <td>5</td>\n",
       "      <td>Smartwatch</td>\n",
       "      <td>Accessories</td>\n",
       "      <td>300.0</td>\n",
       "      <td>12.0</td>\n",
       "      <td>3600.0</td>\n",
       "      <td>Central</td>\n",
       "    </tr>\n",
       "    <tr>\n",
       "      <th>5</th>\n",
       "      <td>6</td>\n",
       "      <td>Laptop</td>\n",
       "      <td>Electronics</td>\n",
       "      <td>1200.0</td>\n",
       "      <td>4.0</td>\n",
       "      <td>4800.0</td>\n",
       "      <td>North</td>\n",
       "    </tr>\n",
       "    <tr>\n",
       "      <th>9</th>\n",
       "      <td>10</td>\n",
       "      <td>Smartwatch</td>\n",
       "      <td>Accessories</td>\n",
       "      <td>350.0</td>\n",
       "      <td>13.0</td>\n",
       "      <td>4550.0</td>\n",
       "      <td>Central</td>\n",
       "    </tr>\n",
       "  </tbody>\n",
       "</table>\n",
       "</div>"
      ],
      "text/plain": [
       "   Sale_ID     Product     Category   Price  Quantity  Total_Sales   Region\n",
       "0        1      Laptop  Electronics  1000.0       5.0       5000.0    North\n",
       "1        2       Phone  Electronics   800.0      10.0       8000.0    South\n",
       "4        5  Smartwatch  Accessories   300.0      12.0       3600.0  Central\n",
       "5        6      Laptop  Electronics  1200.0       4.0       4800.0    North\n",
       "9       10  Smartwatch  Accessories   350.0      13.0       4550.0  Central"
      ]
     },
     "execution_count": 300,
     "metadata": {},
     "output_type": "execute_result"
    }
   ],
   "source": [
    "data.dropna()"
   ]
  },
  {
   "cell_type": "markdown",
   "id": "06d4ea9d",
   "metadata": {},
   "source": [
    "- Fill missing values using forward fill."
   ]
  },
  {
   "cell_type": "code",
   "execution_count": 306,
   "id": "d5b2560e-417f-460c-9029-41deeca5eb79",
   "metadata": {},
   "outputs": [],
   "source": [
    "data.ffill(inplace=True)"
   ]
  },
  {
   "cell_type": "code",
   "execution_count": 308,
   "id": "c5a201d5-fad4-496b-a23f-2234dc0ad4cb",
   "metadata": {},
   "outputs": [
    {
     "data": {
      "text/html": [
       "<div>\n",
       "<style scoped>\n",
       "    .dataframe tbody tr th:only-of-type {\n",
       "        vertical-align: middle;\n",
       "    }\n",
       "\n",
       "    .dataframe tbody tr th {\n",
       "        vertical-align: top;\n",
       "    }\n",
       "\n",
       "    .dataframe thead th {\n",
       "        text-align: right;\n",
       "    }\n",
       "</style>\n",
       "<table border=\"1\" class=\"dataframe\">\n",
       "  <thead>\n",
       "    <tr style=\"text-align: right;\">\n",
       "      <th></th>\n",
       "      <th>Sale_ID</th>\n",
       "      <th>Product</th>\n",
       "      <th>Category</th>\n",
       "      <th>Price</th>\n",
       "      <th>Quantity</th>\n",
       "      <th>Total_Sales</th>\n",
       "      <th>Region</th>\n",
       "    </tr>\n",
       "  </thead>\n",
       "  <tbody>\n",
       "    <tr>\n",
       "      <th>0</th>\n",
       "      <td>1</td>\n",
       "      <td>Laptop</td>\n",
       "      <td>Electronics</td>\n",
       "      <td>1000.0</td>\n",
       "      <td>5.0</td>\n",
       "      <td>5000.0</td>\n",
       "      <td>North</td>\n",
       "    </tr>\n",
       "    <tr>\n",
       "      <th>1</th>\n",
       "      <td>2</td>\n",
       "      <td>Phone</td>\n",
       "      <td>Electronics</td>\n",
       "      <td>800.0</td>\n",
       "      <td>10.0</td>\n",
       "      <td>8000.0</td>\n",
       "      <td>South</td>\n",
       "    </tr>\n",
       "    <tr>\n",
       "      <th>2</th>\n",
       "      <td>3</td>\n",
       "      <td>Tablet</td>\n",
       "      <td>Electronics</td>\n",
       "      <td>600.0</td>\n",
       "      <td>7.0</td>\n",
       "      <td>4200.0</td>\n",
       "      <td>South</td>\n",
       "    </tr>\n",
       "    <tr>\n",
       "      <th>3</th>\n",
       "      <td>4</td>\n",
       "      <td>Headphones</td>\n",
       "      <td>Accessories</td>\n",
       "      <td>200.0</td>\n",
       "      <td>7.0</td>\n",
       "      <td>3000.0</td>\n",
       "      <td>West</td>\n",
       "    </tr>\n",
       "    <tr>\n",
       "      <th>4</th>\n",
       "      <td>5</td>\n",
       "      <td>Smartwatch</td>\n",
       "      <td>Accessories</td>\n",
       "      <td>300.0</td>\n",
       "      <td>12.0</td>\n",
       "      <td>3600.0</td>\n",
       "      <td>Central</td>\n",
       "    </tr>\n",
       "    <tr>\n",
       "      <th>5</th>\n",
       "      <td>6</td>\n",
       "      <td>Laptop</td>\n",
       "      <td>Electronics</td>\n",
       "      <td>1200.0</td>\n",
       "      <td>4.0</td>\n",
       "      <td>4800.0</td>\n",
       "      <td>North</td>\n",
       "    </tr>\n",
       "    <tr>\n",
       "      <th>6</th>\n",
       "      <td>7</td>\n",
       "      <td>Phone</td>\n",
       "      <td>Electronics</td>\n",
       "      <td>750.0</td>\n",
       "      <td>9.0</td>\n",
       "      <td>4800.0</td>\n",
       "      <td>South</td>\n",
       "    </tr>\n",
       "    <tr>\n",
       "      <th>7</th>\n",
       "      <td>8</td>\n",
       "      <td>Tablet</td>\n",
       "      <td>Electronics</td>\n",
       "      <td>750.0</td>\n",
       "      <td>6.0</td>\n",
       "      <td>3900.0</td>\n",
       "      <td>East</td>\n",
       "    </tr>\n",
       "    <tr>\n",
       "      <th>8</th>\n",
       "      <td>9</td>\n",
       "      <td>Tablet</td>\n",
       "      <td>Accessories</td>\n",
       "      <td>250.0</td>\n",
       "      <td>14.0</td>\n",
       "      <td>3500.0</td>\n",
       "      <td>West</td>\n",
       "    </tr>\n",
       "    <tr>\n",
       "      <th>9</th>\n",
       "      <td>10</td>\n",
       "      <td>Smartwatch</td>\n",
       "      <td>Accessories</td>\n",
       "      <td>350.0</td>\n",
       "      <td>13.0</td>\n",
       "      <td>4550.0</td>\n",
       "      <td>Central</td>\n",
       "    </tr>\n",
       "  </tbody>\n",
       "</table>\n",
       "</div>"
      ],
      "text/plain": [
       "   Sale_ID     Product     Category   Price  Quantity  Total_Sales   Region\n",
       "0        1      Laptop  Electronics  1000.0       5.0       5000.0    North\n",
       "1        2       Phone  Electronics   800.0      10.0       8000.0    South\n",
       "2        3      Tablet  Electronics   600.0       7.0       4200.0    South\n",
       "3        4  Headphones  Accessories   200.0       7.0       3000.0     West\n",
       "4        5  Smartwatch  Accessories   300.0      12.0       3600.0  Central\n",
       "5        6      Laptop  Electronics  1200.0       4.0       4800.0    North\n",
       "6        7       Phone  Electronics   750.0       9.0       4800.0    South\n",
       "7        8      Tablet  Electronics   750.0       6.0       3900.0     East\n",
       "8        9      Tablet  Accessories   250.0      14.0       3500.0     West\n",
       "9       10  Smartwatch  Accessories   350.0      13.0       4550.0  Central"
      ]
     },
     "execution_count": 308,
     "metadata": {},
     "output_type": "execute_result"
    }
   ],
   "source": [
    "data"
   ]
  },
  {
   "cell_type": "markdown",
   "id": "d120c59f",
   "metadata": {},
   "source": [
    "## Data Visualization"
   ]
  },
  {
   "cell_type": "markdown",
   "id": "00f1047e",
   "metadata": {},
   "source": [
    "- Plot a bar chart using Matplotlib."
   ]
  },
  {
   "cell_type": "code",
   "execution_count": 310,
   "id": "287b621e-e09d-4582-b30b-3a560783605b",
   "metadata": {},
   "outputs": [
    {
     "data": {
      "image/png": "[encoded data removed]",
      "text/plain": [
       "<Figure size 640x480 with 1 Axes>"
      ]
     },
     "metadata": {},
     "output_type": "display_data"
    }
   ],
   "source": [
    "plt.bar(data['Product'],data['Price'])\n",
    "plt.title('barchart of Product Price')\n",
    "plt.show()"
   ]
  },
  {
   "cell_type": "markdown",
   "id": "9f9d199f",
   "metadata": {},
   "source": [
    "- Create a histogram of ages in a dataset."
   ]
  },
  {
   "cell_type": "code",
   "execution_count": 314,
   "id": "9ad66bab-4248-4707-b231-4094d07235a0",
   "metadata": {},
   "outputs": [],
   "source": [
    "d = {\n",
    "    'Age': [25, 30, 22, 28, 35, 40, 27, 32, 29, 26, \n",
    "            34, 31, 23, 37, 45, 50, 38, 41, 33, 36]\n",
    "}\n",
    "d=pd.DataFrame(d)"
   ]
  },
  {
   "cell_type": "code",
   "execution_count": 316,
   "id": "0e5c2a34-7932-4b76-bdd1-fdeb8cd5a3df",
   "metadata": {},
   "outputs": [
    {
     "data": {
      "image/png": "[encoded data removed]",
      "text/plain": [
       "<Figure size 640x480 with 1 Axes>"
      ]
     },
     "metadata": {},
     "output_type": "display_data"
    }
   ],
   "source": [
    "plt.hist(d['Age'])\n",
    "plt.title('histogram of Age Distribution')\n",
    "plt.show()"
   ]
  },
  {
   "cell_type": "markdown",
   "id": "55469cb4",
   "metadata": {},
   "source": [
    "- Create a scatter plot to visualize two numerical variables."
   ]
  },
  {
   "cell_type": "code",
   "execution_count": 326,
   "id": "2651ddc5-c295-4138-814b-9c0fc2bbd05e",
   "metadata": {},
   "outputs": [
    {
     "data": {
      "image/png": "[encoded data removed]",
      "text/plain": [
       "<Figure size 640x480 with 1 Axes>"
      ]
     },
     "metadata": {},
     "output_type": "display_data"
    }
   ],
   "source": [
    "plt.scatter(data['Total_Sales'],data['Quantity'])\n",
    "plt.title('Scatter plot of Total sales and quantity column')\n",
    "plt.show()"
   ]
  },
  {
   "cell_type": "markdown",
   "id": "3d02364c",
   "metadata": {},
   "source": [
    "## Outlier Analysis"
   ]
  },
  {
   "cell_type": "markdown",
   "id": "52c1c84b",
   "metadata": {},
   "source": [
    "- Detect outliers using the IQR method."
   ]
  },
  {
   "cell_type": "code",
   "execution_count": null,
   "id": "d2bc942e-5073-44c7-a454-32e92ccf9d5e",
   "metadata": {},
   "outputs": [],
   "source": [
    "plt.boxplot(data['Total_Sales'])"
   ]
  },
  {
   "cell_type": "code",
   "execution_count": 348,
   "id": "77801559-819d-4c2a-b9e5-79e161e48d1b",
   "metadata": {},
   "outputs": [
    {
     "data": {
      "text/plain": [
       "1    8000.0\n",
       "Name: Total_Sales, dtype: float64"
      ]
     },
     "execution_count": 348,
     "metadata": {},
     "output_type": "execute_result"
    }
   ],
   "source": [
    "q1=data['Total_Sales'].quantile(0.25)\n",
    "q3=data['Total_Sales'].quantile(0.75)\n",
    "iqr=q3-q1\n",
    "uf=q3+1.5*iqr\n",
    "lf=q1-1.5*iqr\n",
    "data['Total_Sales'][(data['Total_Sales']>uf)|(data['Total_Sales']<lf)]"
   ]
  },
  {
   "cell_type": "markdown",
   "id": "c1caac46-3f7f-4bc2-b77c-c736ecff74f0",
   "metadata": {},
   "source": [
    "# there is one outlier after removing it"
   ]
  },
  {
   "cell_type": "code",
   "execution_count": 353,
   "id": "f4f5c82a-7c44-49df-aab5-2999c6c866f7",
   "metadata": {},
   "outputs": [
    {
     "data": {
      "text/plain": [
       "0    5000.0\n",
       "2    4200.0\n",
       "3    3000.0\n",
       "4    3600.0\n",
       "5    4800.0\n",
       "6    4800.0\n",
       "7    3900.0\n",
       "8    3500.0\n",
       "9    4550.0\n",
       "Name: Total_Sales, dtype: float64"
      ]
     },
     "execution_count": 353,
     "metadata": {},
     "output_type": "execute_result"
    }
   ],
   "source": [
    "data['Total_Sales'][(data['Total_Sales']<uf)&(data['Total_Sales']>lf)]"
   ]
  },
  {
   "cell_type": "markdown",
   "id": "83241378",
   "metadata": {},
   "source": [
    "- Use Z-score to find outliers."
   ]
  },
  {
   "cell_type": "code",
   "execution_count": 359,
   "id": "6d1304cb-e786-419e-8f25-52a693033bbd",
   "metadata": {},
   "outputs": [],
   "source": [
    "from  scipy.stats import zscore "
   ]
  },
  {
   "cell_type": "code",
   "execution_count": 375,
   "id": "f3073b3a-34bb-4045-8b16-93e87036b479",
   "metadata": {
    "scrolled": true
   },
   "outputs": [
    {
     "data": {
      "text/html": [
       "<div>\n",
       "<style scoped>\n",
       "    .dataframe tbody tr th:only-of-type {\n",
       "        vertical-align: middle;\n",
       "    }\n",
       "\n",
       "    .dataframe tbody tr th {\n",
       "        vertical-align: top;\n",
       "    }\n",
       "\n",
       "    .dataframe thead th {\n",
       "        text-align: right;\n",
       "    }\n",
       "</style>\n",
       "<table border=\"1\" class=\"dataframe\">\n",
       "  <thead>\n",
       "    <tr style=\"text-align: right;\">\n",
       "      <th></th>\n",
       "      <th>Total_Sales</th>\n",
       "      <th>Z-score</th>\n",
       "    </tr>\n",
       "  </thead>\n",
       "  <tbody>\n",
       "    <tr>\n",
       "      <th>0</th>\n",
       "      <td>5000</td>\n",
       "      <td>-0.209454</td>\n",
       "    </tr>\n",
       "    <tr>\n",
       "      <th>1</th>\n",
       "      <td>8000</td>\n",
       "      <td>0.706039</td>\n",
       "    </tr>\n",
       "    <tr>\n",
       "      <th>2</th>\n",
       "      <td>4200</td>\n",
       "      <td>-0.453585</td>\n",
       "    </tr>\n",
       "    <tr>\n",
       "      <th>3</th>\n",
       "      <td>3000</td>\n",
       "      <td>-0.819782</td>\n",
       "    </tr>\n",
       "    <tr>\n",
       "      <th>4</th>\n",
       "      <td>3600</td>\n",
       "      <td>-0.636684</td>\n",
       "    </tr>\n",
       "    <tr>\n",
       "      <th>5</th>\n",
       "      <td>4800</td>\n",
       "      <td>-0.270487</td>\n",
       "    </tr>\n",
       "    <tr>\n",
       "      <th>6</th>\n",
       "      <td>7000</td>\n",
       "      <td>0.400875</td>\n",
       "    </tr>\n",
       "    <tr>\n",
       "      <th>7</th>\n",
       "      <td>3900</td>\n",
       "      <td>-0.545134</td>\n",
       "    </tr>\n",
       "    <tr>\n",
       "      <th>8</th>\n",
       "      <td>3500</td>\n",
       "      <td>-0.667200</td>\n",
       "    </tr>\n",
       "    <tr>\n",
       "      <th>9</th>\n",
       "      <td>4550</td>\n",
       "      <td>-0.346778</td>\n",
       "    </tr>\n",
       "    <tr>\n",
       "      <th>10</th>\n",
       "      <td>15000</td>\n",
       "      <td>2.842190</td>\n",
       "    </tr>\n",
       "  </tbody>\n",
       "</table>\n",
       "</div>"
      ],
      "text/plain": [
       "    Total_Sales   Z-score\n",
       "0          5000 -0.209454\n",
       "1          8000  0.706039\n",
       "2          4200 -0.453585\n",
       "3          3000 -0.819782\n",
       "4          3600 -0.636684\n",
       "5          4800 -0.270487\n",
       "6          7000  0.400875\n",
       "7          3900 -0.545134\n",
       "8          3500 -0.667200\n",
       "9          4550 -0.346778\n",
       "10        15000  2.842190"
      ]
     },
     "execution_count": 375,
     "metadata": {},
     "output_type": "execute_result"
    }
   ],
   "source": [
    "d = {\n",
    "    'Total_Sales': [5000, 8000, 4200, 3000, 3600, 4800, 7000, 3900, 3500, 4550, 15000]  # 15000 is an outlier\n",
    "}\n",
    "d=pd.DataFrame(d)\n",
    "d['Z-score']=zscore(d['Total_Sales'])\n",
    "# outliers\n",
    "d[(d['Z-score']<-3)|(d['Z-score']>3)]\n",
    "d"
   ]
  },
  {
   "cell_type": "markdown",
   "id": "0131a4e3",
   "metadata": {},
   "source": [
    "## Visualization of Outliers"
   ]
  },
  {
   "cell_type": "markdown",
   "id": "e7c5ef7a",
   "metadata": {},
   "source": [
    "- Create a boxplot to visualize salary outliers."
   ]
  },
  {
   "cell_type": "code",
   "execution_count": 383,
   "id": "cf6a549c-43f5-4ce1-9f74-637b64d4aac7",
   "metadata": {},
   "outputs": [],
   "source": [
    "import pandas as pd\n",
    "import numpy as np\n",
    "\n",
    "# Creating a sample salary dataset\n",
    "data = {\n",
    "    'Employee_ID': range(1, 11),\n",
    "    'Name': ['Alice', 'Bob', 'Charlie', 'David', 'Eve', 'Frank', 'Grace', 'Hannah', 'Ian', 'Jack'],\n",
    "    'Department': ['HR', 'IT', 'Finance', 'IT', 'HR', 'Finance', 'IT', 'Finance', 'HR', 'IT'],\n",
    "    'Salary': [55000, 72000, 65000, 82000, 60000, 70000, 95000, 68000, 57000, 88000],\n",
    "    'Experience_Years': [2, 5, 3, 7, 4, 6, 10, 5, 2, 8]\n",
    "}\n",
    "\n",
    "# Creating DataFrame\n",
    "df_salary = pd.DataFrame(data)\n",
    "\n",
    "\n"
   ]
  },
  {
   "cell_type": "code",
   "execution_count": 387,
   "id": "84912c4a-2734-41c3-940f-dd55dbfea269",
   "metadata": {},
   "outputs": [
    {
     "data": {
      "image/png": "[encoded data removed]",
      "text/plain": [
       "<Figure size 640x480 with 1 Axes>"
      ]
     },
     "metadata": {},
     "output_type": "display_data"
    }
   ],
   "source": [
    "plt.boxplot(df_salary['Salary'])\n",
    "plt.title('Boxplot of Salary')\n",
    "plt.show()"
   ]
  },
  {
   "cell_type": "markdown",
   "id": "0fe8209e-14ba-4c9d-84df-b355544233f6",
   "metadata": {},
   "source": [
    "# no outliers"
   ]
  },
  {
   "cell_type": "markdown",
   "id": "92a84d79",
   "metadata": {},
   "source": [
    "# - Use scatter plots to show anomalies in sales data."
   ]
  },
  {
   "cell_type": "code",
   "execution_count": 391,
   "id": "da2a1807-22c8-4745-a196-98bfbaefdccc",
   "metadata": {},
   "outputs": [],
   "source": [
    "data = {\n",
    "    'Sale_ID': range(1, 11),\n",
    "    'Product': ['Laptop', 'Phone', 'Tablet', 'Headphones', 'Smartwatch', \n",
    "                'Laptop', 'Phone', 'Tablet', 'Smartwatch', 'Headphones'],\n",
    "    'Category': ['Electronics', 'Electronics', 'Electronics', 'Accessories', 'Accessories', \n",
    "                 'Electronics', 'Electronics', 'Electronics', 'Accessories', 'Accessories'],\n",
    "    'Total_Sales': [1000, 800, 600, 200, 300, 1200, 750, 650, 250, 180],\n",
    "    'Quantity': [5, 10, 7, 15, 12, 4, 9, 6, 14, 13],\n",
    "    'Region': ['North', 'South', 'West', 'East', 'Central', 'North', 'South', 'West', 'East', 'Central']\n",
    "}\n"
   ]
  },
  {
   "cell_type": "code",
   "execution_count": 395,
   "id": "329630f9-c86f-4951-a6b6-81d4df9197a0",
   "metadata": {},
   "outputs": [
    {
     "data": {
      "image/png": "[encoded data removed]",
      "text/plain": [
       "<Figure size 640x480 with 1 Axes>"
      ]
     },
     "metadata": {},
     "output_type": "display_data"
    }
   ],
   "source": [
    "d=pd.DataFrame(data)\n",
    "plt.scatter(d['Total_Sales'],d['Quantity'])\n",
    "plt.title('Scatter plot of Total Sales and Quantity')\n",
    "plt.show()"
   ]
  },
  {
   "cell_type": "code",
   "execution_count": 399,
   "id": "a42fb36c-b405-4d61-b34a-179d87c85f42",
   "metadata": {},
   "outputs": [],
   "source": [
    "data = {\n",
    "    'Total_Sales': [1000, 800, 600, 200, 300, 1200, 750, 650, 250, 180],\n",
    "    'Quantity': [5, 10, 7, 15, 12, 4, 9, 6, 14, 13],\n",
    "}\n",
    "data=pd.DataFrame(data)\n"
   ]
  },
  {
   "cell_type": "code",
   "execution_count": 409,
   "id": "e3041244-0db1-4d41-a292-38052b52378a",
   "metadata": {},
   "outputs": [
    {
     "data": {
      "text/html": [
       "<div>\n",
       "<style scoped>\n",
       "    .dataframe tbody tr th:only-of-type {\n",
       "        vertical-align: middle;\n",
       "    }\n",
       "\n",
       "    .dataframe tbody tr th {\n",
       "        vertical-align: top;\n",
       "    }\n",
       "\n",
       "    .dataframe thead th {\n",
       "        text-align: right;\n",
       "    }\n",
       "</style>\n",
       "<table border=\"1\" class=\"dataframe\">\n",
       "  <thead>\n",
       "    <tr style=\"text-align: right;\">\n",
       "      <th></th>\n",
       "      <th>Total_Sales</th>\n",
       "      <th>Quantity</th>\n",
       "    </tr>\n",
       "  </thead>\n",
       "  <tbody>\n",
       "    <tr>\n",
       "      <th>0</th>\n",
       "      <td>180</td>\n",
       "      <td>4</td>\n",
       "    </tr>\n",
       "    <tr>\n",
       "      <th>1</th>\n",
       "      <td>200</td>\n",
       "      <td>5</td>\n",
       "    </tr>\n",
       "    <tr>\n",
       "      <th>2</th>\n",
       "      <td>250</td>\n",
       "      <td>6</td>\n",
       "    </tr>\n",
       "    <tr>\n",
       "      <th>3</th>\n",
       "      <td>300</td>\n",
       "      <td>7</td>\n",
       "    </tr>\n",
       "    <tr>\n",
       "      <th>4</th>\n",
       "      <td>600</td>\n",
       "      <td>9</td>\n",
       "    </tr>\n",
       "    <tr>\n",
       "      <th>5</th>\n",
       "      <td>650</td>\n",
       "      <td>10</td>\n",
       "    </tr>\n",
       "    <tr>\n",
       "      <th>6</th>\n",
       "      <td>750</td>\n",
       "      <td>12</td>\n",
       "    </tr>\n",
       "    <tr>\n",
       "      <th>7</th>\n",
       "      <td>800</td>\n",
       "      <td>13</td>\n",
       "    </tr>\n",
       "    <tr>\n",
       "      <th>8</th>\n",
       "      <td>1000</td>\n",
       "      <td>14</td>\n",
       "    </tr>\n",
       "    <tr>\n",
       "      <th>9</th>\n",
       "      <td>1200</td>\n",
       "      <td>15</td>\n",
       "    </tr>\n",
       "  </tbody>\n",
       "</table>\n",
       "</div>"
      ],
      "text/plain": [
       "   Total_Sales  Quantity\n",
       "0          180         4\n",
       "1          200         5\n",
       "2          250         6\n",
       "3          300         7\n",
       "4          600         9\n",
       "5          650        10\n",
       "6          750        12\n",
       "7          800        13\n",
       "8         1000        14\n",
       "9         1200        15"
      ]
     },
     "execution_count": 409,
     "metadata": {},
     "output_type": "execute_result"
    }
   ],
   "source": [
    "data.mean()\n",
    "data.median()\n",
    "data.mode()"
   ]
  },
  {
   "cell_type": "markdown",
   "id": "12dd2f9e",
   "metadata": {},
   "source": [
    "- **Dispersion and Variability:**"
   ]
  },
  {
   "cell_type": "markdown",
   "id": "ffb6de45",
   "metadata": {},
   "source": [
    "- Find the range and IQR of a dataset."
   ]
  },
  {
   "cell_type": "code",
   "execution_count": 411,
   "id": "ad502fde-b3c3-4638-a4cc-8429668f3708",
   "metadata": {},
   "outputs": [
    {
     "data": {
      "text/plain": [
       "1020"
      ]
     },
     "execution_count": 411,
     "metadata": {},
     "output_type": "execute_result"
    }
   ],
   "source": [
    "Range=data['Total_Sales'].max()-data['Total_Sales'].min()\n",
    "Range"
   ]
  },
  {
   "cell_type": "code",
   "execution_count": 413,
   "id": "f2256bad-ff02-459e-8d5b-067a5d5e14e5",
   "metadata": {},
   "outputs": [
    {
     "data": {
      "text/plain": [
       "525.0"
      ]
     },
     "execution_count": 413,
     "metadata": {},
     "output_type": "execute_result"
    }
   ],
   "source": [
    "q1=data['Total_Sales'].quantile(0.25)\n",
    "q3=data['Total_Sales'].quantile(0.75)\n",
    "iqr=q3-q1\n",
    "iqr"
   ]
  },
  {
   "cell_type": "markdown",
   "id": "c2956528",
   "metadata": {},
   "source": [
    "- **Boxplots:**"
   ]
  },
  {
   "cell_type": "markdown",
   "id": "ee4e4b47",
   "metadata": {},
   "source": [
    "- Create a boxplot to show distribution of sales."
   ]
  },
  {
   "cell_type": "code",
   "execution_count": 415,
   "id": "e040575d-a06d-4b7c-9995-64d8a71c6cee",
   "metadata": {},
   "outputs": [
    {
     "data": {
      "image/png": "[encoded data removed]",
      "text/plain": [
       "<Figure size 640x480 with 1 Axes>"
      ]
     },
     "metadata": {},
     "output_type": "display_data"
    }
   ],
   "source": [
    "plt.boxplot(data['Total_Sales'])\n",
    "plt.title('distribution of sales')\n",
    "plt.show()"
   ]
  },
  {
   "cell_type": "markdown",
   "id": "fbd2e853",
   "metadata": {},
   "source": [
    "- **Kurtosis and Skewness:**"
   ]
  },
  {
   "cell_type": "markdown",
   "id": "710c2e91",
   "metadata": {},
   "source": [
    "- Compute kurtosis and skewness of a dataset."
   ]
  },
  {
   "cell_type": "code",
   "execution_count": 417,
   "id": "1037335e-5455-4adf-a91f-44770eb6d27a",
   "metadata": {},
   "outputs": [],
   "source": [
    "from scipy.stats import kurtosis"
   ]
  },
  {
   "cell_type": "code",
   "execution_count": 419,
   "id": "a1de99d6-4fc0-4f48-ad34-29faa99c11ea",
   "metadata": {},
   "outputs": [
    {
     "data": {
      "text/plain": [
       "array([-1.13323495, -1.42113151])"
      ]
     },
     "execution_count": 419,
     "metadata": {},
     "output_type": "execute_result"
    }
   ],
   "source": [
    "kurtosis(data)"
   ]
  },
  {
   "cell_type": "markdown",
   "id": "afc42a95-3c97-495f-a5bc-cc64c650298b",
   "metadata": {},
   "source": [
    "# mesokurtic"
   ]
  },
  {
   "cell_type": "markdown",
   "id": "97bc5359",
   "metadata": {},
   "source": [
    "- **Measures of Association:**"
   ]
  },
  {
   "cell_type": "markdown",
   "id": "0c942d04",
   "metadata": {},
   "source": [
    "- Compute correlation between two numerical columns."
   ]
  },
  {
   "cell_type": "code",
   "execution_count": 438,
   "id": "f2bc5323-9b6e-420f-afe8-7e7cb78bbf2d",
   "metadata": {},
   "outputs": [
    {
     "data": {
      "text/html": [
       "<div>\n",
       "<style scoped>\n",
       "    .dataframe tbody tr th:only-of-type {\n",
       "        vertical-align: middle;\n",
       "    }\n",
       "\n",
       "    .dataframe tbody tr th {\n",
       "        vertical-align: top;\n",
       "    }\n",
       "\n",
       "    .dataframe thead th {\n",
       "        text-align: right;\n",
       "    }\n",
       "</style>\n",
       "<table border=\"1\" class=\"dataframe\">\n",
       "  <thead>\n",
       "    <tr style=\"text-align: right;\">\n",
       "      <th></th>\n",
       "      <th>Total_Sales</th>\n",
       "      <th>Quantity</th>\n",
       "    </tr>\n",
       "  </thead>\n",
       "  <tbody>\n",
       "    <tr>\n",
       "      <th>Total_Sales</th>\n",
       "      <td>1.000000</td>\n",
       "      <td>-0.897514</td>\n",
       "    </tr>\n",
       "    <tr>\n",
       "      <th>Quantity</th>\n",
       "      <td>-0.897514</td>\n",
       "      <td>1.000000</td>\n",
       "    </tr>\n",
       "  </tbody>\n",
       "</table>\n",
       "</div>"
      ],
      "text/plain": [
       "             Total_Sales  Quantity\n",
       "Total_Sales     1.000000 -0.897514\n",
       "Quantity       -0.897514  1.000000"
      ]
     },
     "execution_count": 438,
     "metadata": {},
     "output_type": "execute_result"
    }
   ],
   "source": [
    "data[['Total_Sales','Quantity']].corr() # negative correlation"
   ]
  }
 ],
 "metadata": {
  "kernelspec": {
   "display_name": "Python [conda env:base] *",
   "language": "python",
   "name": "conda-base-py"
  },
  "language_info": {
   "codemirror_mode": {
    "name": "ipython",
    "version": 3
   },
   "file_extension": ".py",
   "mimetype": "text/x-python",
   "name": "python",
   "nbconvert_exporter": "python",
   "pygments_lexer": "ipython3",
   "version": "3.12.7"
  }
 },
 "nbformat": 4,
 "nbformat_minor": 5
}
